{
 "cells": [
  {
   "cell_type": "code",
   "execution_count": null,
   "metadata": {},
   "outputs": [],
   "source": [
    "import os\n",
    "from datasets import load_dataset\n",
    "import sqlite3\n",
    "import pandas as pd\n",
    "\n",
    "\n",
    "SQLITE_PATH = 'humanevalpack.db'\n",
    "if os.path.exists(SQLITE_PATH):\n",
    "    con = sqlite3.connect(SQLITE_PATH)\n",
    "    ds_df = pd.read_sql_query(\"SELECT * FROM humanevalpack\", con).set_index('index')\n",
    "else:\n",
    "    ds = load_dataset(\n",
    "        'bigcode/humanevalpack',\n",
    "        'js',\n",
    "    )\n",
    "    ds_list = []\n",
    "    for row in ds.get('test'):\n",
    "        ds_list.append(row)\n",
    "    ds_df = pd.DataFrame(ds_list)\n",
    "    con = sqlite3.connect(SQLITE_PATH)\n",
    "    ds_df.to_sql('humanevalpack',con)\n"
   ]
  },
  {
   "cell_type": "code",
   "execution_count": null,
   "metadata": {},
   "outputs": [],
   "source": [
    "import random\n",
    "random_sample_index = random.randint(0, len(ds_df) - 1)\n",
    "random_sample = ds_df.iloc[random_sample_index].to_dict()\n",
    "random_sample"
   ]
  },
  {
   "cell_type": "code",
   "execution_count": null,
   "metadata": {},
   "outputs": [],
   "source": [
    "from modules.models import CodeT5\n",
    "\n",
    "model = CodeT5.load_from_checkpoint('Model Checkpoints/CodeT5JS_v0-v1.ckpt')\n",
    "if model.device != 'cpu':\n",
    "    model.to('cpu')\n",
    "\n",
    "model.mode = 'test'"
   ]
  },
  {
   "cell_type": "code",
   "execution_count": null,
   "metadata": {},
   "outputs": [],
   "source": [
    "import torch\n",
    "from transformers import RobertaTokenizer\n",
    "\n",
    "from modules.datasets import CodeT5Dataset\n",
    "tokenizer = RobertaTokenizer.from_pretrained('Salesforce/codet5-small')\n",
    "encoded_samples = tokenizer(\n",
    "    random_sample['buggy_solution'],\n",
    "    max_length=470,\n",
    "    padding='max_length',\n",
    "    truncation=True,\n",
    "    return_tensors='pt',\n",
    ")\n",
    "\n",
    "encoded_labels = tokenizer(\n",
    "    random_sample['canonical_solution'],\n",
    "    max_length=470,\n",
    "    padding='max_length',\n",
    "    truncation=True,\n",
    "    return_tensors='pt',\n",
    ")\n"
   ]
  },
  {
   "cell_type": "code",
   "execution_count": null,
   "metadata": {},
   "outputs": [],
   "source": [
    "s = {\n",
    "    'input_ids': encoded_samples.input_ids,\n",
    "    'attention_mask': encoded_samples.attention_mask,\n",
    "    'labels': encoded_labels.input_ids,\n",
    "}\n",
    "\n",
    "model_output = model.forward(s)[1]\n",
    "generated_token_ids = torch.argmax(model_output, dim=-1)\n",
    "\n",
    "generated_code = tokenizer.batch_decode(generated_token_ids, skip_special_tokens=True)[0]\n",
    "print(generated_code)\n",
    "print(random_sample)"
   ]
  },
  {
   "cell_type": "code",
   "execution_count": null,
   "metadata": {},
   "outputs": [],
   "source": [
    "with open('random_output.js','w') as f:\n",
    "    f.write(generated_code)\n",
    "with open('random_bug.js', 'w') as f:\n",
    "    f.write(random_sample['buggy_solution'])\n",
    "with open('random_solution.js', 'w') as f:\n",
    "    f.write(random_sample['canonical_solution'])"
   ]
  },
  {
   "cell_type": "code",
   "execution_count": null,
   "metadata": {},
   "outputs": [],
   "source": [
    "model_output"
   ]
  },
  {
   "cell_type": "code",
   "execution_count": null,
   "metadata": {},
   "outputs": [],
   "source": [
    "LOG_PATH = './logs',\n",
    "MODEL_DIR = 'CodeT5JS'\n",
    "CPKT_PATH = 'Model Checkpoints/CodeT5JS'\n",
    "VERSION = int(input('Training Version: '))\n",
    "DEBUG = True\n",
    "DB_PATH = '/content/drive/MyDrive/Thesis/commitpack-datasets.db'\n",
    "BATCH_SIZE = 16\n",
    "TOKENIZER_MAX_LENGTH = 420"
   ]
  }
 ],
 "metadata": {
  "kernelspec": {
   "display_name": "thesis",
   "language": "python",
   "name": "python3"
  },
  "language_info": {
   "codemirror_mode": {
    "name": "ipython",
    "version": 3
   },
   "file_extension": ".py",
   "mimetype": "text/x-python",
   "name": "python",
   "nbconvert_exporter": "python",
   "pygments_lexer": "ipython3",
   "version": "3.8.18"
  }
 },
 "nbformat": 4,
 "nbformat_minor": 2
}
