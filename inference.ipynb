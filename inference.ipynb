{
 "cells": [
  {
   "cell_type": "markdown",
   "metadata": {},
   "source": [
    "# Run inference on a single code snippet"
   ]
  },
  {
   "cell_type": "code",
   "execution_count": null,
   "metadata": {},
   "outputs": [],
   "source": [
    "from df2sql import sqlite2postgres\n",
    "from modules.models import CodeT5, CodeBertJS\n",
    "from transformers import RobertaTokenizer\n",
    "from difflib import unified_diff\n",
    "from difflib import SequenceMatcher\n",
    "import sqlite3\n",
    "import pandas as pd\n",
    "import torch\n",
    "import os\n",
    "import random"
   ]
  },
  {
   "cell_type": "markdown",
   "metadata": {},
   "source": [
    "# Load Model and Tokenizer"
   ]
  },
  {
   "cell_type": "code",
   "execution_count": null,
   "metadata": {},
   "outputs": [],
   "source": [
    "CPKT_PATH = 'checkpoints/CodeT5JS_5classes_650MaxL_v3.ckpt' if os.path.exists('checkpoints/CodeT5JS_5classes_650MaxL_v3.ckpt') else ''\n",
    "MODEL_NAME = CPKT_PATH.split('/')[-1].split('.')[0].split('_')[0]\n",
    "if MODEL_NAME == 'CodeT5JS':\n",
    "    HF_DIR = 'Salesforce/codet5-base'\n",
    "    model = CodeT5.load_from_checkpoint(\n",
    "        CPKT_PATH, \n",
    "        num_classes=5,\n",
    "        model_dir=HF_DIR,\n",
    "        with_activation=True,\n",
    "        with_layer_norm=True\n",
    "    )\n",
    "else:\n",
    "    HF_DIR = 'microsoft/codebert-base-mlm'\n",
    "    model = CodeBertJS.load_from_checkpoint(CPKT_PATH)"
   ]
  },
  {
   "cell_type": "code",
   "execution_count": 15,
   "metadata": {},
   "outputs": [
    {
     "name": "stdout",
     "output_type": "stream",
     "text": [
      "------------------------------------------\n",
      "Buggy Code\n",
      "\n",
      "# Write a function to display the Fibonacci sequence using recursion\n",
      "function fibonacci(n) {\n",
      "  if (n <= 1) {\n",
      "    return n;\n",
      "  } else {\n",
      "    return fibonacci(n + 1) + fibonacci(n + 2);\n",
      "  }\n",
      "}\n",
      "\n",
      "------------------------------------------\n",
      "Correct Code\n",
      "\n",
      "# Write a function to display the Fibonacci sequence using recursion\n",
      "function fibonacci(n) {\n",
      "  if (n <= 1) {\n",
      "    return n;\n",
      "  } else {\n",
      "    return fibonacci(n - 1) + fibonacci(n - 2);\n",
      "  }\n",
      "}\n",
      "\n"
     ]
    }
   ],
   "source": [
    "buggy_code = \"\"\"\n",
    "# Write a function to display the Fibonacci sequence using recursion\n",
    "function fibonacci(n) {\n",
    "  if (n <= 1) {\n",
    "    return n;\n",
    "  } else {\n",
    "    return fibonacci(n + 1) + fibonacci(n + 2);\n",
    "  }\n",
    "}\n",
    "\"\"\"\n",
    "correct_code = \"\"\"\n",
    "# Write a function to display the Fibonacci sequence using recursion\n",
    "function fibonacci(n) {\n",
    "  if (n <= 1) {\n",
    "    return n;\n",
    "  } else {\n",
    "    return fibonacci(n - 1) + fibonacci(n - 2);\n",
    "  }\n",
    "}\n",
    "\"\"\"\n",
    "\n",
    "bug_type = 'functionality'\n",
    "print('------------------------------------------')\n",
    "print('Buggy Code')\n",
    "print(buggy_code)\n",
    "print('------------------------------------------')\n",
    "print('Correct Code')\n",
    "print(correct_code)"
   ]
  },
  {
   "cell_type": "code",
   "execution_count": null,
   "metadata": {},
   "outputs": [],
   "source": [
    "DB_TABLE = 'humanevalpack'\n",
    "DB_PATH = 'humanevalpack.db'\n",
    "QUERY = f\"select * from {DB_TABLE}\"\n",
    "con = sqlite3.connect(DB_PATH)\n",
    "df = pd.read_sql_query(QUERY, con, index_col='index')\n",
    "# sqlite2postgres(df, 'humanevalpack')\n",
    "\n",
    "small_samples = df[df['canonical_solution'].str.len() <= 250]\n",
    "# sample = small_samples[small_samples['task_id'] == 'JavaScript/4'].iloc[0].to_dict()\n",
    "sample = small_samples.iloc[random.randint(0,len(small_samples)-1)].to_dict()\n",
    "buggy_code = sample['declaration'] + sample['buggy_solution']\n",
    "correct_code = sample['declaration'] + sample['canonical_solution']\n",
    "desc = sample['prompt']\n",
    "print(desc)\n",
    "print('------------------------------------------')\n",
    "print('Buggy Code')\n",
    "print(buggy_code)\n",
    "print('------------------------------------------')\n",
    "print('Correct Code')\n",
    "print(correct_code)"
   ]
  },
  {
   "cell_type": "markdown",
   "metadata": {},
   "source": [
    "# Run inference on buggy code"
   ]
  },
  {
   "cell_type": "code",
   "execution_count": 16,
   "metadata": {},
   "outputs": [],
   "source": [
    "tokenizer = RobertaTokenizer.from_pretrained(HF_DIR)\n",
    "encoded_buggy_code = tokenizer(buggy_code, padding=True, truncation=True, return_tensors='pt')\n",
    "encoded_correct_code = tokenizer(correct_code, padding=True, truncation=True, return_tensors='pt')\n",
    "batch = {\n",
    "    'input_ids': encoded_buggy_code['input_ids'],\n",
    "    'attention_mask': encoded_buggy_code['attention_mask'],\n",
    "    'labels': encoded_correct_code['input_ids'],\n",
    "}\n",
    "model.eval()\n",
    "model.to('cpu')\n",
    "with torch.no_grad():\n",
    "    _, out, bug_class = model.forward(batch)\n",
    "    probs = torch.softmax(bug_class, dim=1)\n",
    "    pred_class = model.classes[torch.argmax(probs, dim=1).item()]\n",
    "\n",
    "generated_code = tokenizer.batch_decode(torch.argmax(out, dim=-1), skip_special_tokens=True)[0]"
   ]
  },
  {
   "cell_type": "code",
   "execution_count": 18,
   "metadata": {},
   "outputs": [
    {
     "name": "stdout",
     "output_type": "stream",
     "text": [
      "\n",
      "# Write a function to display the Fibonacci sequence using recursion\n",
      "function fibonacci(n) {\n",
      "  if (n <= 1) {\n",
      "    return n;\n",
      "  } else {\n",
      "    return fibonacci(n + 1) + fibonacci(n - 2);\n",
      "  }\n",
      "}\n",
      "\n"
     ]
    }
   ],
   "source": [
    "print(generated_code)"
   ]
  },
  {
   "cell_type": "markdown",
   "metadata": {},
   "source": [
    "# Συγκρίσεις"
   ]
  },
  {
   "cell_type": "markdown",
   "metadata": {},
   "source": [
    "#### Διαφορές : Κώδικας με σφάλματα - Διορθωμένος κώδικας (ground truth)"
   ]
  },
  {
   "cell_type": "code",
   "execution_count": 19,
   "metadata": {},
   "outputs": [
    {
     "name": "stdout",
     "output_type": "stream",
     "text": [
      "--- \n",
      "\n",
      "+++ \n",
      "\n",
      "@@ -4,6 +4,6 @@\n",
      "\n",
      "   if (n <= 1) {\n",
      "     return n;\n",
      "   } else {\n",
      "-    return fibonacci(n + 1) + fibonacci(n + 2);\n",
      "+    return fibonacci(n - 1) + fibonacci(n - 2);\n",
      "   }\n",
      " }\n"
     ]
    }
   ],
   "source": [
    "real_codeDiff = unified_diff(buggy_code.splitlines(), correct_code.splitlines())\n",
    "print(\"\\n\".join(real_codeDiff))"
   ]
  },
  {
   "cell_type": "markdown",
   "metadata": {},
   "source": [
    "#### Διαφορες : Κώδικας με σφάλματα - Κώδικας που παρήγαγε το μοντέλο"
   ]
  },
  {
   "cell_type": "code",
   "execution_count": 20,
   "metadata": {},
   "outputs": [
    {
     "name": "stdout",
     "output_type": "stream",
     "text": [
      "--- \n",
      "\n",
      "+++ \n",
      "\n",
      "@@ -4,6 +4,6 @@\n",
      "\n",
      "   if (n <= 1) {\n",
      "     return n;\n",
      "   } else {\n",
      "-    return fibonacci(n + 1) + fibonacci(n + 2);\n",
      "+    return fibonacci(n + 1) + fibonacci(n - 2);\n",
      "   }\n",
      " }\n"
     ]
    }
   ],
   "source": [
    "model_codeDiff = unified_diff(buggy_code.splitlines(), generated_code.splitlines())\n",
    "print(\"\\n\".join(model_codeDiff))"
   ]
  },
  {
   "cell_type": "markdown",
   "metadata": {},
   "source": [
    "#### Διαφορές : Κώδικας που παρήγαγε το μοντέλο - Διορθωμένος κώδικας"
   ]
  },
  {
   "cell_type": "code",
   "execution_count": 21,
   "metadata": {},
   "outputs": [
    {
     "name": "stdout",
     "output_type": "stream",
     "text": [
      "--- \n",
      "\n",
      "+++ \n",
      "\n",
      "@@ -4,6 +4,6 @@\n",
      "\n",
      "   if (n <= 1) {\n",
      "     return n;\n",
      "   } else {\n",
      "-    return fibonacci(n + 1) + fibonacci(n - 2);\n",
      "+    return fibonacci(n - 1) + fibonacci(n - 2);\n",
      "   }\n",
      " }\n"
     ]
    }
   ],
   "source": [
    "codeDiff = unified_diff(generated_code.splitlines(), correct_code.splitlines())\n",
    "print(\"\\n\".join(codeDiff))"
   ]
  },
  {
   "cell_type": "markdown",
   "metadata": {},
   "source": [
    "### Σύγκριση χαρακτήρων:\n",
    "\n",
    "#### Σύγκριση χαρακτήρα προς χαρακτήρα μεταξύ του κώδικα με σφάλματα (ακολουθία εισόδου) με τον διορθωμένο κώδικα (ground truth)"
   ]
  },
  {
   "cell_type": "code",
   "execution_count": 22,
   "metadata": {},
   "outputs": [
    {
     "name": "stdout",
     "output_type": "stream",
     "text": [
      "replace\n",
      "+\n",
      "+\n",
      "replace\n",
      "+\n",
      "-\n"
     ]
    }
   ],
   "source": [
    "sm = SequenceMatcher(None, buggy_code, correct_code)\n",
    "\n",
    "for opcode, i1,i2,j1,j2 in sm.get_opcodes():\n",
    "    if opcode != 'equal':\n",
    "        print(opcode)\n",
    "        if opcode == 'insert':\n",
    "            print(generated_code[j1:j2])\n",
    "        elif opcode == 'replace': \n",
    "            print(buggy_code[i1:i2])\n",
    "            print(generated_code[j1:j2])\n",
    "        elif opcode == 'delete':\n",
    "            print(buggy_code[i1:i2])"
   ]
  },
  {
   "cell_type": "markdown",
   "metadata": {},
   "source": [
    "### Σύκγριση Χαρακτήρων:\n",
    "\n",
    "#### Σύγκριση χαρακτήρα προς χαρακτήρα μεταξύ του κώδικα που παρήγαγε το μοντέλο με τον διορθωμένο κώδικα (ground truth)"
   ]
  },
  {
   "cell_type": "code",
   "execution_count": 23,
   "metadata": {},
   "outputs": [
    {
     "name": "stdout",
     "output_type": "stream",
     "text": [
      "replace\n",
      "+\n",
      "-\n"
     ]
    }
   ],
   "source": [
    "sm = SequenceMatcher(None, buggy_code, generated_code)\n",
    "\n",
    "for opcode, i1,i2,j1,j2 in sm.get_opcodes():\n",
    "    if opcode != 'equal':\n",
    "        print(opcode)\n",
    "        if opcode == 'insert':\n",
    "            print(generated_code[j1:j2])\n",
    "        elif opcode == 'replace': \n",
    "            print(buggy_code[i1:i2])\n",
    "            print(generated_code[j1:j2])\n",
    "        elif opcode == 'delete':\n",
    "            print(buggy_code[i1:i2])"
   ]
  }
 ],
 "metadata": {
  "kernelspec": {
   "display_name": "thesis",
   "language": "python",
   "name": "python3"
  },
  "language_info": {
   "codemirror_mode": {
    "name": "ipython",
    "version": 3
   },
   "file_extension": ".py",
   "mimetype": "text/x-python",
   "name": "python",
   "nbconvert_exporter": "python",
   "pygments_lexer": "ipython3",
   "version": "3.8.18"
  }
 },
 "nbformat": 4,
 "nbformat_minor": 2
}
