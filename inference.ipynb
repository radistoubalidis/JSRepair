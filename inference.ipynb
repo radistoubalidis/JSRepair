{
 "cells": [
  {
   "cell_type": "markdown",
   "metadata": {},
   "source": [
    "# Run inference on a single code snippet"
   ]
  },
  {
   "cell_type": "code",
   "execution_count": 1,
   "metadata": {},
   "outputs": [],
   "source": [
    "from modules.models import CodeT5, CodeBertJS\n",
    "from transformers import RobertaTokenizer\n",
    "from difflib import unified_diff\n",
    "from difflib import SequenceMatcher\n",
    "import pandas as pd\n",
    "import torch\n",
    "import os"
   ]
  },
  {
   "cell_type": "markdown",
   "metadata": {},
   "source": [
    "# Load Model and Tokenizer"
   ]
  },
  {
   "cell_type": "code",
   "execution_count": 2,
   "metadata": {},
   "outputs": [
    {
     "data": {
      "text/plain": [
       "CodeT5(\n",
       "  (model): T5ForConditionalGeneration(\n",
       "    (shared): Embedding(32100, 768)\n",
       "    (encoder): T5Stack(\n",
       "      (embed_tokens): Embedding(32100, 768)\n",
       "      (block): ModuleList(\n",
       "        (0): T5Block(\n",
       "          (layer): ModuleList(\n",
       "            (0): T5LayerSelfAttention(\n",
       "              (SelfAttention): T5Attention(\n",
       "                (q): Linear(in_features=768, out_features=768, bias=False)\n",
       "                (k): Linear(in_features=768, out_features=768, bias=False)\n",
       "                (v): Linear(in_features=768, out_features=768, bias=False)\n",
       "                (o): Linear(in_features=768, out_features=768, bias=False)\n",
       "                (relative_attention_bias): Embedding(32, 12)\n",
       "              )\n",
       "              (layer_norm): T5LayerNorm()\n",
       "              (dropout): Dropout(p=0.1, inplace=False)\n",
       "            )\n",
       "            (1): T5LayerFF(\n",
       "              (DenseReluDense): T5DenseActDense(\n",
       "                (wi): Linear(in_features=768, out_features=3072, bias=False)\n",
       "                (wo): Linear(in_features=3072, out_features=768, bias=False)\n",
       "                (dropout): Dropout(p=0.1, inplace=False)\n",
       "                (act): ReLU()\n",
       "              )\n",
       "              (layer_norm): T5LayerNorm()\n",
       "              (dropout): Dropout(p=0.1, inplace=False)\n",
       "            )\n",
       "          )\n",
       "        )\n",
       "        (1-11): 11 x T5Block(\n",
       "          (layer): ModuleList(\n",
       "            (0): T5LayerSelfAttention(\n",
       "              (SelfAttention): T5Attention(\n",
       "                (q): Linear(in_features=768, out_features=768, bias=False)\n",
       "                (k): Linear(in_features=768, out_features=768, bias=False)\n",
       "                (v): Linear(in_features=768, out_features=768, bias=False)\n",
       "                (o): Linear(in_features=768, out_features=768, bias=False)\n",
       "              )\n",
       "              (layer_norm): T5LayerNorm()\n",
       "              (dropout): Dropout(p=0.1, inplace=False)\n",
       "            )\n",
       "            (1): T5LayerFF(\n",
       "              (DenseReluDense): T5DenseActDense(\n",
       "                (wi): Linear(in_features=768, out_features=3072, bias=False)\n",
       "                (wo): Linear(in_features=3072, out_features=768, bias=False)\n",
       "                (dropout): Dropout(p=0.1, inplace=False)\n",
       "                (act): ReLU()\n",
       "              )\n",
       "              (layer_norm): T5LayerNorm()\n",
       "              (dropout): Dropout(p=0.1, inplace=False)\n",
       "            )\n",
       "          )\n",
       "        )\n",
       "      )\n",
       "      (final_layer_norm): T5LayerNorm()\n",
       "      (dropout): Dropout(p=0.1, inplace=False)\n",
       "    )\n",
       "    (decoder): T5Stack(\n",
       "      (embed_tokens): Embedding(32100, 768)\n",
       "      (block): ModuleList(\n",
       "        (0): T5Block(\n",
       "          (layer): ModuleList(\n",
       "            (0): T5LayerSelfAttention(\n",
       "              (SelfAttention): T5Attention(\n",
       "                (q): Linear(in_features=768, out_features=768, bias=False)\n",
       "                (k): Linear(in_features=768, out_features=768, bias=False)\n",
       "                (v): Linear(in_features=768, out_features=768, bias=False)\n",
       "                (o): Linear(in_features=768, out_features=768, bias=False)\n",
       "                (relative_attention_bias): Embedding(32, 12)\n",
       "              )\n",
       "              (layer_norm): T5LayerNorm()\n",
       "              (dropout): Dropout(p=0.1, inplace=False)\n",
       "            )\n",
       "            (1): T5LayerCrossAttention(\n",
       "              (EncDecAttention): T5Attention(\n",
       "                (q): Linear(in_features=768, out_features=768, bias=False)\n",
       "                (k): Linear(in_features=768, out_features=768, bias=False)\n",
       "                (v): Linear(in_features=768, out_features=768, bias=False)\n",
       "                (o): Linear(in_features=768, out_features=768, bias=False)\n",
       "              )\n",
       "              (layer_norm): T5LayerNorm()\n",
       "              (dropout): Dropout(p=0.1, inplace=False)\n",
       "            )\n",
       "            (2): T5LayerFF(\n",
       "              (DenseReluDense): T5DenseActDense(\n",
       "                (wi): Linear(in_features=768, out_features=3072, bias=False)\n",
       "                (wo): Linear(in_features=3072, out_features=768, bias=False)\n",
       "                (dropout): Dropout(p=0.1, inplace=False)\n",
       "                (act): ReLU()\n",
       "              )\n",
       "              (layer_norm): T5LayerNorm()\n",
       "              (dropout): Dropout(p=0.1, inplace=False)\n",
       "            )\n",
       "          )\n",
       "        )\n",
       "        (1-11): 11 x T5Block(\n",
       "          (layer): ModuleList(\n",
       "            (0): T5LayerSelfAttention(\n",
       "              (SelfAttention): T5Attention(\n",
       "                (q): Linear(in_features=768, out_features=768, bias=False)\n",
       "                (k): Linear(in_features=768, out_features=768, bias=False)\n",
       "                (v): Linear(in_features=768, out_features=768, bias=False)\n",
       "                (o): Linear(in_features=768, out_features=768, bias=False)\n",
       "              )\n",
       "              (layer_norm): T5LayerNorm()\n",
       "              (dropout): Dropout(p=0.1, inplace=False)\n",
       "            )\n",
       "            (1): T5LayerCrossAttention(\n",
       "              (EncDecAttention): T5Attention(\n",
       "                (q): Linear(in_features=768, out_features=768, bias=False)\n",
       "                (k): Linear(in_features=768, out_features=768, bias=False)\n",
       "                (v): Linear(in_features=768, out_features=768, bias=False)\n",
       "                (o): Linear(in_features=768, out_features=768, bias=False)\n",
       "              )\n",
       "              (layer_norm): T5LayerNorm()\n",
       "              (dropout): Dropout(p=0.1, inplace=False)\n",
       "            )\n",
       "            (2): T5LayerFF(\n",
       "              (DenseReluDense): T5DenseActDense(\n",
       "                (wi): Linear(in_features=768, out_features=3072, bias=False)\n",
       "                (wo): Linear(in_features=3072, out_features=768, bias=False)\n",
       "                (dropout): Dropout(p=0.1, inplace=False)\n",
       "                (act): ReLU()\n",
       "              )\n",
       "              (layer_norm): T5LayerNorm()\n",
       "              (dropout): Dropout(p=0.1, inplace=False)\n",
       "            )\n",
       "          )\n",
       "        )\n",
       "      )\n",
       "      (final_layer_norm): T5LayerNorm()\n",
       "      (dropout): Dropout(p=0.1, inplace=False)\n",
       "    )\n",
       "    (lm_head): Linear(in_features=768, out_features=32100, bias=False)\n",
       "  )\n",
       "  (layer_norm): LayerNorm((768,), eps=1e-05, elementwise_affine=True)\n",
       "  (hidden_layer): Linear(in_features=768, out_features=384, bias=True)\n",
       "  (activation): ReLU()\n",
       "  (dropout): Dropout(p=0.1, inplace=False)\n",
       "  (classifier): Linear(in_features=768, out_features=5, bias=True)\n",
       ")"
      ]
     },
     "execution_count": 2,
     "metadata": {},
     "output_type": "execute_result"
    }
   ],
   "source": [
    "CPKT_PATH = 'checkpoints/CodeT5_large_JS_5classes_1024MaxL_v4.ckpt' if os.path.exists('checkpoints/CodeT5_large_JS_5classes_1024MaxL_v5.ckpt') else ''\n",
    "MODEL_NAME = CPKT_PATH.split('/')[-1].split('.')[0].split('_')[0]\n",
    "if 'CodeT5' in MODEL_NAME:\n",
    "    HF_DIR = 'Salesforce/codet5-base'\n",
    "    model = CodeT5.load_from_checkpoint(\n",
    "        CPKT_PATH,\n",
    "        num_classes=5,\n",
    "        model_dir=HF_DIR,\n",
    "        with_activation=True,\n",
    "        with_layer_norm=True\n",
    "    )\n",
    "else:\n",
    "    HF_DIR = 'microsoft/codebert-base-mlm'\n",
    "    model = CodeBertJS.load_from_checkpoint(CPKT_PATH)\n",
    "    \n",
    "model.eval()\n",
    "model.to('cpu')"
   ]
  },
  {
   "cell_type": "markdown",
   "metadata": {},
   "source": [
    "# Run inference on buggy code"
   ]
  },
  {
   "cell_type": "code",
   "execution_count": 11,
   "metadata": {},
   "outputs": [
    {
     "name": "stdout",
     "output_type": "stream",
     "text": [
      "Bug type: compatibility-performance\n",
      "--------------------- Buggy Code ---------------------\n",
      "// Given a list of dom element ids with arbitrary length, write a function that changes their background color to yellow\n",
      "function highlightItems(ids) {\n",
      "  ids.forEach(id => {\n",
      "    const element = document.getElementById(id);\n",
      "    if (element) {\n",
      "      element.style.backgroundColor = \"yellow\";\n",
      "    }\n",
      "  });\n",
      "}\n",
      "-------------------- Correct Code --------------------\n",
      "// Given a list of dom element ids with arbitrary length, write a function that changes their background color to yellow\n",
      "function highlightItems(ids) {\n",
      "  const elements = ids.map(id => document.getElementById(id));\n",
      "  elements.forEach(element => {\n",
      "    if (element) {\n",
      "      element.style.backgroundColor = \"yellow\";\n",
      "    }\n",
      "  });\n",
      "}\n"
     ]
    }
   ],
   "source": [
    "all_bug_types = ['functionality', 'network-security', 'ui-ux', 'compatibility-performance', 'general']\n",
    "all_bug_types_str = \" \".join(all_bug_types)\n",
    "bug_type = input(f\"Select a bug type to run inference on ({all_bug_types_str})\")\n",
    "if bug_type not in all_bug_types:\n",
    "    raise Exception('Invalid Bug Type Selected')\n",
    "\n",
    "def read_sample(bugType: str) -> tuple :\n",
    "    inf_samples = pd.read_json('inference_examples.json')\n",
    "    sample = inf_samples[inf_samples['bug_type'] == bugType].iloc[0].to_dict()\n",
    "    return sample['buggy_code'], sample['correct_code'], sample['bug_type']\n",
    "\n",
    "buggy_code, correct_code, bug_type = read_sample(bug_type)\n",
    "print(f\"Bug type: {bug_type}\")\n",
    "print('--------------------- Buggy Code ---------------------')\n",
    "print(buggy_code)\n",
    "print('-------------------- Correct Code --------------------')\n",
    "print(correct_code)"
   ]
  },
  {
   "cell_type": "code",
   "execution_count": 12,
   "metadata": {},
   "outputs": [],
   "source": [
    "tokenizer = RobertaTokenizer.from_pretrained(HF_DIR)\n",
    "encoded_buggy_code = tokenizer(buggy_code, padding=True, truncation=True, return_tensors='pt')\n",
    "encoded_correct_code = tokenizer(correct_code, padding=True, truncation=True, return_tensors='pt')\n",
    "batch = {\n",
    "    'input_ids': encoded_buggy_code['input_ids'],\n",
    "    'attention_mask': encoded_buggy_code['attention_mask'],\n",
    "    'labels': encoded_correct_code['input_ids'],\n",
    "}\n",
    "\n",
    "with torch.no_grad():\n",
    "    _, out, bug_class = model.forward(batch)\n",
    "    probs = torch.softmax(bug_class, dim=1)\n",
    "    pred_class = model.classes[torch.argmax(probs, dim=1).item()]\n",
    "\n",
    "generated_code = tokenizer.batch_decode(torch.argmax(out, dim=-1), skip_special_tokens=True)[0]"
   ]
  },
  {
   "cell_type": "code",
   "execution_count": 13,
   "metadata": {},
   "outputs": [
    {
     "name": "stdout",
     "output_type": "stream",
     "text": [
      "// Given a list of dom element ids with arbitrary length, write a function to changes their background color to yellow\n",
      "function highlightItems(ids) {\n",
      "  ids element = document.map(id => {.getElementById(id));\n",
      "    if.forEach(id => {\n",
      "    const (element) {\n",
      "      element.style.backgroundColor = \"yellow\";\n",
      "    }\n",
      "  });\n",
      "\n"
     ]
    }
   ],
   "source": [
    "print(generated_code)"
   ]
  },
  {
   "cell_type": "markdown",
   "metadata": {},
   "source": [
    "# Συγκρίσεις"
   ]
  },
  {
   "cell_type": "markdown",
   "metadata": {},
   "source": [
    "#### Διαφορές : Κώδικας με σφάλματα - Διορθωμένος κώδικας (ground truth)"
   ]
  },
  {
   "cell_type": "code",
   "execution_count": 14,
   "metadata": {},
   "outputs": [
    {
     "name": "stdout",
     "output_type": "stream",
     "text": [
      "--- \n",
      "\n",
      "+++ \n",
      "\n",
      "@@ -1,7 +1,7 @@\n",
      "\n",
      " // Given a list of dom element ids with arbitrary length, write a function that changes their background color to yellow\n",
      " function highlightItems(ids) {\n",
      "-  ids.forEach(id => {\n",
      "-    const element = document.getElementById(id);\n",
      "+  const elements = ids.map(id => document.getElementById(id));\n",
      "+  elements.forEach(element => {\n",
      "     if (element) {\n",
      "       element.style.backgroundColor = \"yellow\";\n",
      "     }\n"
     ]
    }
   ],
   "source": [
    "real_codeDiff = unified_diff(buggy_code.splitlines(), correct_code.splitlines())\n",
    "print(\"\\n\".join(real_codeDiff))"
   ]
  },
  {
   "cell_type": "markdown",
   "metadata": {},
   "source": [
    "#### Διαφορες : Κώδικας με σφάλματα - Κώδικας που παρήγαγε το μοντέλο"
   ]
  },
  {
   "cell_type": "code",
   "execution_count": 15,
   "metadata": {},
   "outputs": [
    {
     "name": "stdout",
     "output_type": "stream",
     "text": [
      "--- \n",
      "\n",
      "+++ \n",
      "\n",
      "@@ -1,9 +1,8 @@\n",
      "\n",
      "-// Given a list of dom element ids with arbitrary length, write a function that changes their background color to yellow\n",
      "+// Given a list of dom element ids with arbitrary length, write a function to changes their background color to yellow\n",
      " function highlightItems(ids) {\n",
      "-  ids.forEach(id => {\n",
      "-    const element = document.getElementById(id);\n",
      "-    if (element) {\n",
      "+  ids element = document.map(id => {.getElementById(id));\n",
      "+    if.forEach(id => {\n",
      "+    const (element) {\n",
      "       element.style.backgroundColor = \"yellow\";\n",
      "     }\n",
      "   });\n",
      "-}\n"
     ]
    }
   ],
   "source": [
    "model_codeDiff = unified_diff(buggy_code.splitlines(), generated_code.splitlines())\n",
    "print(\"\\n\".join(model_codeDiff))"
   ]
  },
  {
   "cell_type": "markdown",
   "metadata": {},
   "source": [
    "#### Διαφορές : Κώδικας που παρήγαγε το μοντέλο - Διορθωμένος κώδικας"
   ]
  },
  {
   "cell_type": "code",
   "execution_count": 16,
   "metadata": {},
   "outputs": [
    {
     "name": "stdout",
     "output_type": "stream",
     "text": [
      "--- \n",
      "\n",
      "+++ \n",
      "\n",
      "@@ -1,8 +1,9 @@\n",
      "\n",
      "-// Given a list of dom element ids with arbitrary length, write a function to changes their background color to yellow\n",
      "+// Given a list of dom element ids with arbitrary length, write a function that changes their background color to yellow\n",
      " function highlightItems(ids) {\n",
      "-  ids element = document.map(id => {.getElementById(id));\n",
      "-    if.forEach(id => {\n",
      "-    const (element) {\n",
      "+  const elements = ids.map(id => document.getElementById(id));\n",
      "+  elements.forEach(element => {\n",
      "+    if (element) {\n",
      "       element.style.backgroundColor = \"yellow\";\n",
      "     }\n",
      "   });\n",
      "+}\n"
     ]
    }
   ],
   "source": [
    "codeDiff = unified_diff(generated_code.splitlines(), correct_code.splitlines())\n",
    "print(\"\\n\".join(codeDiff))"
   ]
  },
  {
   "cell_type": "markdown",
   "metadata": {},
   "source": [
    "### Σύγκριση χαρακτήρων:\n",
    "\n",
    "#### Σύγκριση χαρακτήρα προς χαρακτήρα μεταξύ του κώδικα με σφάλματα (ακολουθία εισόδου) με τον διορθωμένο κώδικα (ground truth)"
   ]
  },
  {
   "cell_type": "code",
   "execution_count": 17,
   "metadata": {},
   "outputs": [
    {
     "name": "stdout",
     "output_type": "stream",
     "text": [
      "replace\n",
      "ids.forEach\n",
      "s element = document.map\n",
      "insert\n",
      "{.getElementById(id));\n",
      "    if.forEach(id => {\n",
      "    const (ele\n",
      "delete\n",
      "\n",
      "    const element = document.getElementById(id);\n"
     ]
    }
   ],
   "source": [
    "sm = SequenceMatcher(None, buggy_code, correct_code)\n",
    "\n",
    "for opcode, i1,i2,j1,j2 in sm.get_opcodes():\n",
    "    if opcode != 'equal':\n",
    "        print(opcode)\n",
    "        if opcode == 'insert':\n",
    "            print(generated_code[j1:j2])\n",
    "        elif opcode == 'replace': \n",
    "            print(buggy_code[i1:i2])\n",
    "            print(generated_code[j1:j2])\n",
    "        elif opcode == 'delete':\n",
    "            print(buggy_code[i1:i2])"
   ]
  },
  {
   "cell_type": "markdown",
   "metadata": {},
   "source": [
    "### Σύκγριση Χαρακτήρων:\n",
    "\n",
    "#### Σύγκριση χαρακτήρα προς χαρακτήρα μεταξύ του κώδικα που παρήγαγε το μοντέλο με τον διορθωμένο κώδικα (ground truth)"
   ]
  },
  {
   "cell_type": "code",
   "execution_count": 18,
   "metadata": {},
   "outputs": [
    {
     "name": "stdout",
     "output_type": "stream",
     "text": [
      "replace\n",
      "hat\n",
      "o\n",
      "replace\n",
      ".forEach\n",
      " element = document.map\n",
      "replace\n",
      "\n",
      "    const element\n",
      ".getElementById(id));\n",
      "    if.forEach(id\n",
      "replace\n",
      " document.getElementById(id);\n",
      "    if\n",
      "> {\n",
      "    const\n",
      "delete\n",
      "}\n"
     ]
    }
   ],
   "source": [
    "sm = SequenceMatcher(None, buggy_code, generated_code)\n",
    "\n",
    "for opcode, i1,i2,j1,j2 in sm.get_opcodes():\n",
    "    if opcode != 'equal':\n",
    "        print(opcode)\n",
    "        if opcode == 'insert':\n",
    "            print(generated_code[j1:j2])\n",
    "        elif opcode == 'replace': \n",
    "            print(buggy_code[i1:i2])\n",
    "            print(generated_code[j1:j2])\n",
    "        elif opcode == 'delete':\n",
    "            print(buggy_code[i1:i2])"
   ]
  }
 ],
 "metadata": {
  "kernelspec": {
   "display_name": "thesis",
   "language": "python",
   "name": "python3"
  },
  "language_info": {
   "codemirror_mode": {
    "name": "ipython",
    "version": 3
   },
   "file_extension": ".py",
   "mimetype": "text/x-python",
   "name": "python",
   "nbconvert_exporter": "python",
   "pygments_lexer": "ipython3",
   "version": "3.8.18"
  }
 },
 "nbformat": 4,
 "nbformat_minor": 2
}
