{
 "cells": [
  {
   "cell_type": "code",
   "execution_count": 1,
   "metadata": {},
   "outputs": [],
   "source": [
    "import os\n",
    "from datasets import load_dataset\n",
    "import sqlite3\n",
    "import pandas as pd\n",
    "import torch\n",
    "import json\n",
    "from transformers import RobertaTokenizer\n",
    "from modules.models import CodeT5\n",
    "from modules.datasets import CodeT5Dataset\n",
    "from modules.metrics import CodeRouge\n",
    "from torch.utils.data import DataLoader\n",
    "\n",
    "SQLITE_PATH = input(\"Paste sqlite3 path: \")\n",
    "MODEL_NAME = input(\"Paste Model Name: \")\n",
    "VERSION = int(input(\"Paste model version: \"))\n",
    "CPKT_PATH = input('Paste cpkt path: ')\n",
    "METRICS_PATH = input('Paste metris dir path: ')\n",
    "HF_DIR = input('Paste hf model dir')\n",
    "MAX_LENGTH = int(input(\"Paste tokenizer max length: \"))"
   ]
  },
  {
   "cell_type": "code",
   "execution_count": 2,
   "metadata": {},
   "outputs": [],
   "source": [
    "if os.path.exists(SQLITE_PATH):\n",
    "    con = sqlite3.connect(SQLITE_PATH)\n",
    "    ds_df = pd.read_sql_query(\"SELECT * FROM humanevalpack\", con).set_index('index')\n",
    "else:\n",
    "    ds = load_dataset(\n",
    "        'bigcode/humanevalpack',\n",
    "        'js',\n",
    "    )\n",
    "    ds_list = []\n",
    "    for row in ds.get('test'):\n",
    "        ds_list.append(row)\n",
    "    ds_df = pd.DataFrame(ds_list)\n",
    "    con = sqlite3.connect(SQLITE_PATH)\n",
    "    ds_df.to_sql('humanevalpack',con)\n"
   ]
  },
  {
   "cell_type": "code",
   "execution_count": 3,
   "metadata": {},
   "outputs": [],
   "source": [
    "model = CodeT5.load_from_checkpoint(CPKT_PATH)\n",
    "if model.device != 'cpu':\n",
    "    model.to('cpu')\n",
    "\n",
    "model.mode = 'test'"
   ]
  },
  {
   "cell_type": "code",
   "execution_count": 4,
   "metadata": {},
   "outputs": [],
   "source": [
    "tokenizer = RobertaTokenizer.from_pretrained(HF_DIR)\n",
    "encoded_samples = tokenizer(\n",
    "    ds_df['buggy_solution'].tolist(),\n",
    "    max_length=MAX_LENGTH,\n",
    "    padding='max_length',\n",
    "    truncation=True,\n",
    "    return_tensors='pt',\n",
    ")\n",
    "\n",
    "encoded_labels = tokenizer(\n",
    "    ds_df['canonical_solution'].tolist(),\n",
    "    max_length=MAX_LENGTH,\n",
    "    padding='max_length',\n",
    "    truncation=True,\n",
    "    return_tensors='pt',\n",
    ")"
   ]
  },
  {
   "cell_type": "code",
   "execution_count": 5,
   "metadata": {},
   "outputs": [],
   "source": [
    "torch_ds = CodeT5Dataset(encoded_samples, encoded_labels)\n",
    "loader = DataLoader(torch_ds, batch_size=1)\n",
    "\n",
    "generated_codes = []\n",
    "for batch in iter(loader):\n",
    "    out = model.forward(batch)\n",
    "    decoded_out = torch.argmax(out[1], dim=-1)\n",
    "    generated_codes.append(tokenizer.batch_decode(decoded_out, skip_special_tokens=True)[0])\n",
    "    \n",
    "references = ds_df['canonical_solution'].tolist()\n",
    "\n",
    "if(len(generated_codes) != len(references)):\n",
    "    raise ValueError(\"Invalid model output.\")"
   ]
  },
  {
   "cell_type": "code",
   "execution_count": 6,
   "metadata": {},
   "outputs": [],
   "source": [
    "rouge = CodeRouge(['rouge6', 'rouge7','rouge8','rouge9','rougeL','rougeLsum'])\n",
    "\n",
    "rouge.compute(predictions=generated_codes, references=references)\n",
    "rouge.calc_averages()\n",
    "\n",
    "avgs_path = f\"{METRICS_PATH}/{MODEL_NAME}_{VERSION}.json\"\n",
    "all_path = f\"{METRICS_PATH}/{MODEL_NAME}_{VERSION}.csv\"\n",
    "with open(avgs_path, 'w') as f:\n",
    "    json.dump(rouge.avgs, f)\n",
    "\n",
    "all_scores = []\n",
    "for r in rouge.rouge_types:\n",
    "    all_scores += rouge.rouge_type_to_list(r)\n",
    "\n",
    "metrics_df = pd.DataFrame(all_scores)\n",
    "\n",
    "for m in ['precision','recall','fmeasure']:\n",
    "    metrics_df[m] = round(metrics_df[m], 3)\n",
    "metrics_df.to_csv(all_path, index='table')"
   ]
  }
 ],
 "metadata": {
  "kernelspec": {
   "display_name": "thesis",
   "language": "python",
   "name": "python3"
  },
  "language_info": {
   "codemirror_mode": {
    "name": "ipython",
    "version": 3
   },
   "file_extension": ".py",
   "mimetype": "text/x-python",
   "name": "python",
   "nbconvert_exporter": "python",
   "pygments_lexer": "ipython3",
   "version": "3.8.18"
  }
 },
 "nbformat": 4,
 "nbformat_minor": 2
}
