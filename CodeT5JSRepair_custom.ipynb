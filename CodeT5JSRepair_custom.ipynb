{
 "cells": [
  {
   "cell_type": "code",
   "execution_count": null,
   "metadata": {},
   "outputs": [],
   "source": [
    "from transformers import (\n",
    "    T5Config, \n",
    "    T5ForConditionalGeneration,\n",
    "    RobertaTokenizer,\n",
    ")   \n",
    "import os\n",
    "import sqlite3\n",
    "import pandas as pd\n",
    "from sklearn.model_selection import train_test_split\n",
    "from modules.models import CodeT5Custom\n",
    "from modules.datasets import CodeT5Dataset\n",
    "from modules.TrainConfig import init_checkpoint, init_logger, Trainer, read_hparams\n",
    "from torch.utils.data import DataLoader\n",
    "\n",
    "\n",
    "HF_MODEL_DIR = 'Salesforce/codet5-small'\n",
    "VAL_SIZE = 0.3\n",
    "TOKENIZER_MAX_LENGTH = 512\n",
    "LOG_PATH = input('Paste log path: ')\n",
    "MODEL_DIR = 'CodeT5JS'\n",
    "CPKT_PATH = '/content/drive/MyDrive/Thesis/checkpoints'\n",
    "VERSION = int(input('Training Version: '))\n",
    "DEBUG = True\n",
    "BATCH_SIZE = int(input('BATCH SIZE : '))\n",
    "DB_PATH = input('Paste sqlite3 path: ')\n",
    "LOAD_FROM_CPKT = input(\"Load from existing model (type cpkt path if true): \")\n",
    "HPARAMS_PATH = 'hparams.json'"
   ]
  },
  {
   "cell_type": "code",
   "execution_count": null,
   "metadata": {},
   "outputs": [],
   "source": [
    "con = sqlite3.connect('commitpack-datasets.db')\n",
    "ds_df = pd.read_sql_query(\"select * from commitpackft\",con).set_index('index')\n",
    "ds_df['num_words_old'] = [len(x.split()) for x  in ds_df['old_contents'].tolist()]\n",
    "ds_df['num_words_new'] = [len(x.split()) for x  in ds_df['new_contents'].tolist()]\n",
    "ds_df.head()"
   ]
  },
  {
   "cell_type": "code",
   "execution_count": null,
   "metadata": {},
   "outputs": [],
   "source": [
    "old_codes = ds_df['old_contents'].tolist()\n",
    "new_codes = ds_df['new_contents'].tolist()\n",
    "\n",
    "TRAIN_old, VAL_old, TRAIN_new, VAL_new = train_test_split(old_codes, new_codes, test_size=VAL_SIZE, random_state=42)"
   ]
  },
  {
   "cell_type": "code",
   "execution_count": null,
   "metadata": {},
   "outputs": [],
   "source": [
    "tokenizer = RobertaTokenizer.from_pretrained(HF_MODEL_DIR)\n",
    "TRAIN_encodings = tokenizer(\n",
    "    TRAIN_old,\n",
    "    max_length=TOKENIZER_MAX_LENGTH,\n",
    "    pad_to_max_length=True,\n",
    "    return_tensors='pt',\n",
    "    padding='max_length',\n",
    "    truncation=True\n",
    ")\n",
    "\n",
    "VAL_encodings = tokenizer(\n",
    "    VAL_old,\n",
    "    max_length=TOKENIZER_MAX_LENGTH,\n",
    "    pad_to_max_length=True,\n",
    "    return_tensors='pt',\n",
    "    padding='max_length',\n",
    "    truncation=True\n",
    ")\n",
    "\n",
    "TRAIN_decodings = tokenizer(\n",
    "    TRAIN_new,\n",
    "    max_length=TOKENIZER_MAX_LENGTH,\n",
    "    pad_to_max_length=True,\n",
    "    return_tensors='pt',\n",
    "    padding='max_length',\n",
    "    truncation=True\n",
    ")\n",
    "\n",
    "VAL_decodings = tokenizer(\n",
    "    VAL_new,\n",
    "    max_length=TOKENIZER_MAX_LENGTH,\n",
    "    pad_to_max_length=True,\n",
    "    return_tensors='pt',\n",
    "    padding='max_length',\n",
    "    truncation=True\n",
    ")"
   ]
  },
  {
   "cell_type": "code",
   "execution_count": null,
   "metadata": {},
   "outputs": [],
   "source": [
    "logger = init_logger(model_dir=MODEL_DIR, version=VERSION, log_path=LOG_PATH)\n",
    "checkpoint = init_checkpoint(CPKT_PATH, MODEL_DIR, VERSION)\n",
    "trainer = Trainer(checkpoint,logger,debug=DEBUG)"
   ]
  },
  {
   "cell_type": "code",
   "execution_count": null,
   "metadata": {},
   "outputs": [],
   "source": [
    "if len(LOAD_FROM_CPKT) > 0 and  os.path.exists(LOAD_FROM_CPKT):\n",
    "    model = CodeT5Custom.load_from_checkpoint(LOAD_FROM_CPKT)\n",
    "else:\n",
    "    if not os.path.exists():\n",
    "        cfg = T5Config(\n",
    "            dropout_rate=0.01, \n",
    "            num_heads=16, # num of att heads in encoder layer\n",
    "            num_layers=8, # num of hidden layers in encoder layer\n",
    "            num_decoder_layers=12, # num of hidden layers in decoder layer\n",
    "        )\n",
    "    else:\n",
    "        hparams = read_hparams(HPARAMS_PATH)\n",
    "        cfg = T5Config(**hparams)\n",
    "        \n",
    "    model = CodeT5Custom(t5config=cfg)\n",
    "    \n",
    "model.model.train()"
   ]
  },
  {
   "cell_type": "code",
   "execution_count": null,
   "metadata": {},
   "outputs": [],
   "source": [
    "TRAIN_dataset = CodeT5Dataset(TRAIN_encodings, TRAIN_decodings)\n",
    "VAL_dataset = CodeT5Dataset(VAL_encodings, VAL_decodings)\n",
    "dataloader = DataLoader(TRAIN_dataset, batch_size=BATCH_SIZE,num_workers=7, shuffle=True)\n",
    "val_dataloader = DataLoader(VAL_dataset, batch_size=1, num_workers=7)"
   ]
  },
  {
   "cell_type": "code",
   "execution_count": null,
   "metadata": {},
   "outputs": [],
   "source": [
    "trainer.fit(\n",
    "    model,\n",
    "    train_dataloaders=dataloader,\n",
    "    val_dataloaders=val_dataloader\n",
    ")"
   ]
  }
 ],
 "metadata": {
  "kernelspec": {
   "display_name": "thesis",
   "language": "python",
   "name": "python3"
  },
  "language_info": {
   "codemirror_mode": {
    "name": "ipython",
    "version": 3
   },
   "file_extension": ".py",
   "mimetype": "text/x-python",
   "name": "python",
   "nbconvert_exporter": "python",
   "pygments_lexer": "ipython3",
   "version": "3.8.18"
  }
 },
 "nbformat": 4,
 "nbformat_minor": 2
}
