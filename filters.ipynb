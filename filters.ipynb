{
 "cells": [
  {
   "cell_type": "markdown",
   "metadata": {},
   "source": [
    "## Defining Bug Types for commitpackft dataset\n",
    "\n",
    "*Approach 1*\n",
    "\n",
    "Description: Δημιουργία ενός λεξιλογίου με λέξεις και φράσεις κλειδιά, βάση του οποίου θα γίνει η κατηγοριοποιήση των δειγμάτων. Προγραμματιστικά, θα ελέγχεται αν υπάρχουν φράσεις κλειδιά από κάθε τύπο σφάλματος στο commit message του κάθε δείγματος (μπορεί να εμπεριέχονται φράσεις για παραπάνω απο έναν τύπο σφάλματος). Η κατηγοριοποιήση των commit μυνημάτων σε τύπους σφαλμάτων γίνεται ανέμασα σε πέντε κλάσεις (general, functionality, performance/compatibility, network/security, ui-ux, mobile) οι οποίες αντιστοιχίζονται με λέξεις κλειδιά, και κάθε δείγμα παίρνει μία η παραπάνω κλάσεις όταν εμπερειέχεται κάποια λέξη κλειδί από ένα συγκεκριμένο τύπο στπ commit μύνημα.\n",
    "\n",
    "Cons: \n",
    "- Η λιστα με τα keywords για καθε τυπο μπορει να επεκταθει"
   ]
  },
  {
   "cell_type": "code",
   "execution_count": 1,
   "metadata": {},
   "outputs": [
    {
     "name": "stdout",
     "output_type": "stream",
     "text": [
      "# Create Word Count Dictionary\n",
      "# Processing Messages\n",
      "# Detecting bugs\n",
      "# Classifying samples\n"
     ]
    }
   ],
   "source": [
    "from modules.filters import identify\n",
    "\n",
    "identify(query=\"select * from commitpackft\", sqlite_path='commitpack-datasets.db', psql_convert=True)"
   ]
  },
  {
   "cell_type": "code",
   "execution_count": 2,
   "metadata": {},
   "outputs": [
    {
     "name": "stdout",
     "output_type": "stream",
     "text": [
      "{'type': 'compatibility-performance', 'keywords': ['compatib', 'browser', 'platform', 'device', 'support', 'version', 'resolution', 'available', 'backward', 'npm', 'node', 'react', 'vue', 'angular', 'jquery', 'ES', 'lint', 'webpack', 'typescript', 'depencency', 'size', 'payload', 'mb', 'test', 'async', 'sync', 'optimiz', 'runtime', 'load', 'callback', 'json', 'post', 'for', 'each', 'loop', 'chrome', 'opera', 'edge', 'firefox', 'safari']} fix final safari firefox\n"
     ]
    }
   ],
   "source": [
    "import sqlite3\n",
    "import pandas as pd\n",
    "from modules.filters import split\n",
    "\n",
    "con = sqlite3.connect('commitpack-datasets.db')\n",
    "df = pd.read_sql_query(\"select * from commitpackft_bugs\", con).set_index('index')\n",
    "bTypes = pd.read_sql_query('select * from bug_types', con).set_index('index')\n",
    "bTypes['keywords'] = bTypes['keywords'].apply(lambda kws: kws.split(','))\n",
    "bTypes = bTypes.to_dict(orient='records')\n",
    "\n",
    "sample = df.iloc[100].to_dict()\n",
    "for bT in bTypes:\n",
    "    if any(word in sample['processed_message'] for word in bT['keywords'])"
   ]
  },
  {
   "cell_type": "code",
   "execution_count": 2,
   "metadata": {},
   "outputs": [
    {
     "data": {
      "text/plain": [
       "{'mobile': 24,\n",
       " 'functionality': 2409,\n",
       " 'ui-ux': 659,\n",
       " 'compatibility-performance': 2156,\n",
       " 'network-security': 728,\n",
       " 'general': 5530}"
      ]
     },
     "execution_count": 2,
     "metadata": {},
     "output_type": "execute_result"
    }
   ],
   "source": [
    "import sqlite3\n",
    "import pandas as pd\n",
    "from modules.filters import split\n",
    "\n",
    "con = sqlite3.connect('commitpack-datasets.db')\n",
    "df = pd.read_sql_query(\"select * from commitpackft_classified\", con).set_index('index')\n",
    "bTypes = pd.read_sql_query('select * from bug_types', con).set_index('index')\n",
    "bTypes['keywords'] = bTypes['keywords'].apply(lambda kws: kws.split(','))\n",
    "bTypes = bTypes['type'].tolist()\n",
    "bTypes.append('general')\n",
    "\n",
    "dists = {}\n",
    "for type in bTypes:\n",
    "    dists[type] = 0\n",
    "for _, row in df.iterrows():\n",
    "    rowD = row.to_dict()\n",
    "    for type in bTypes:\n",
    "        if rowD['bug_type'] == type:\n",
    "            dists[type] += 1\n",
    "dists"
   ]
  }
 ],
 "metadata": {
  "kernelspec": {
   "display_name": "thesis",
   "language": "python",
   "name": "python3"
  },
  "language_info": {
   "codemirror_mode": {
    "name": "ipython",
    "version": 3
   },
   "file_extension": ".py",
   "mimetype": "text/x-python",
   "name": "python",
   "nbconvert_exporter": "python",
   "pygments_lexer": "ipython3",
   "version": "3.8.18"
  }
 },
 "nbformat": 4,
 "nbformat_minor": 2
}
