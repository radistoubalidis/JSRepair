{
 "cells": [
  {
   "cell_type": "markdown",
   "metadata": {},
   "source": [
    "## Defining Bug Types for commitpackft dataset\n",
    "\n",
    "*Approach 1*\n",
    "\n",
    "Description: Δημιουργία ενός λεξιλογίου με λέξεις και φράσεις κλειδιά, βάση του οποίου θα γίνει η κατηγοριοποιήση των δειγμάτων. Προγραμματιστικά, θα ελέγχεται αν υπάρχουν φράσεις κλειδιά από κάθε τύπο σφάλματος στο commit message του κάθε δείγματος (μπορεί να εμπεριέχονται φράσεις για παραπάνω απο έναν τύπο σφάλματος). Η κατηγοριοποιήση των commit μυνημάτων σε τύπους σφαλμάτων γίνεται ανέμασα σε πέντε κλάσεις (general, functionality, performance/compatibility, network/security, ui-ux) οι οποίες αντιστοιχίζονται με λέξεις κλειδιά, και κάθε δείγμα παίρνει μία η παραπάνω κλάσεις όταν εμπερειέχεται κάποια λέξη κλειδί από ένα συγκεκριμένο τύπο στπ commit μύνημα.\n",
    "\n",
    "Cons: \n",
    "- Η λιστα με τα keywords για καθε τυπο μπορει να επεκταθει"
   ]
  },
  {
   "cell_type": "code",
   "execution_count": null,
   "metadata": {},
   "outputs": [],
   "source": [
    "from modules.filters import identify\n",
    "\n",
    "identify(query=\"select * from commitpackft\", sqlite_path='commitpack-datasets.db')"
   ]
  },
  {
   "cell_type": "code",
   "execution_count": null,
   "metadata": {},
   "outputs": [],
   "source": [
    "import sqlite3\n",
    "import pandas as pd\n",
    "\n",
    "con = sqlite3.connect('commitpack-datasets.db')\n",
    "\n",
    "print(con.cursor().execute('SELECT name FROM sqlite_master WHERE type = \"table\"').fetchall())\n",
    "\n",
    "train_df = pd.read_sql_query('select * from commitpackft_classified_train', con)\n",
    "test_df = pd.read_sql_query('select * from commitpackft_classified_test', con)\n",
    "\n",
    "print(len(train_df))\n",
    "print(len(test_df))\n",
    "train_df.head()"
   ]
  },
  {
   "cell_type": "code",
   "execution_count": null,
   "metadata": {},
   "outputs": [],
   "source": [
    "con.cursor().execute('drop table commitpackft_classified_train')\n",
    "con.cursor().execute('drop table commitpackft_classified_test')"
   ]
  }
 ],
 "metadata": {
  "kernelspec": {
   "display_name": "thesis",
   "language": "python",
   "name": "python3"
  },
  "language_info": {
   "codemirror_mode": {
    "name": "ipython",
    "version": 3
   },
   "file_extension": ".py",
   "mimetype": "text/x-python",
   "name": "python",
   "nbconvert_exporter": "python",
   "pygments_lexer": "ipython3",
   "version": "3.8.18"
  }
 },
 "nbformat": 4,
 "nbformat_minor": 2
}
