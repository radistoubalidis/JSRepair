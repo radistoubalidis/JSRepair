{
 "cells": [
  {
   "cell_type": "markdown",
   "metadata": {},
   "source": [
    "# Colab Init"
   ]
  },
  {
   "cell_type": "code",
   "execution_count": null,
   "metadata": {},
   "outputs": [],
   "source": [
    "from google.colab import drive\n",
    "drive.mount('/content/drive')\n",
    "\n",
    "!git clone https://github.com/radistoubalidis/JSRepair.git\n",
    "\n",
    "!python -m pip install lightning\n",
    "!pip install datasets\n",
    "!pip install python-dotenv\n",
    "!pip install rouge-score\n",
    "!pip install diff-match-patch"
   ]
  },
  {
   "cell_type": "code",
   "execution_count": null,
   "metadata": {},
   "outputs": [],
   "source": [
    "%cd ./JSRepair"
   ]
  },
  {
   "cell_type": "markdown",
   "metadata": {},
   "source": [
    "# Dependencies"
   ]
  },
  {
   "cell_type": "code",
   "execution_count": 1,
   "metadata": {},
   "outputs": [],
   "source": [
    "from transformers import RobertaTokenizer\n",
    "from modules.models import CodeT5\n",
    "from modules.datasets import CodeT5Dataset\n",
    "from modules.filters import add_labels\n",
    "from torch.utils.data import DataLoader\n",
    "from lightning import Trainer as plTrainer\n",
    "from modules.filters import add_labels, count_comment_lines\n",
    "from diff_match_patch import diff_match_patch\n",
    "import matplotlib.pyplot as plt\n",
    "import os\n",
    "import sqlite3\n",
    "import pandas as pd\n",
    "import numpy as np\n",
    "import os\n",
    "import torch\n",
    "import random"
   ]
  },
  {
   "cell_type": "code",
   "execution_count": 4,
   "metadata": {},
   "outputs": [],
   "source": [
    "HF_DIR = 'Salesforce/codet5-base'\n",
    "TOKENIZER_MAX_LENGTH = 512\n",
    "DB_PATH = 'commitpack-datasets.db' if os.path.exists('commitpack-datasets.db') else '/content/drive/MyDrive/Thesis/commitpack-datasets.db'\n",
    "if not os.path.exists(DB_PATH):\n",
    "    raise RuntimeError('sqlite3 path doesnt exist.')\n",
    "LOG_PATH = 'logs' if os.path.exists('logs') else '/content/drive/MyDrive/Thesis/logs'\n",
    "LOAD_FROM_CPKT = input(\"Load from existing model (type cpkt path if true): \")\n",
    "VERSION = LOAD_FROM_CPKT.split('.')[0].split('_')[-1]\n",
    "DEBUG = True if int(input('Debug Run (1,0): ')) == 1 else False\n",
    "DROPOUT_RATE = float(input('Type dropout rate for classifier: '))\n",
    "WITH_LAYER_NORM = True\n",
    "WITH_ACTIVATION = True\n",
    "BIMODAL_TRAIN = True if int(input('Combine commit messages with codes (1,0): ')) == 1 else False\n",
    "\n",
    "classLabels = {\n",
    "    \"functionality\" : 0.,\n",
    "    \"ui-ux\" : 0.,\n",
    "    \"compatibility-performance\" : 0.,\n",
    "    \"network-security\" : 0.,\n",
    "    \"general\": 0.\n",
    "}\n",
    "\n",
    "num_classes = len(classLabels.keys())\n",
    "\n",
    "modelSize = HF_DIR.split('/')[-1]\n",
    "MODEL_DIR = f\"CodeT5_{modelSize}_JS_{num_classes}_classes_{TOKENIZER_MAX_LENGTH}MaxL\"\n",
    "con = sqlite3.connect(DB_PATH)"
   ]
  },
  {
   "cell_type": "markdown",
   "metadata": {},
   "source": [
    "# Testing"
   ]
  },
  {
   "cell_type": "markdown",
   "metadata": {},
   "source": [
    "## Load Test Dataset"
   ]
  },
  {
   "cell_type": "code",
   "execution_count": 5,
   "metadata": {},
   "outputs": [
    {
     "data": {
      "text/html": [
       "<div>\n",
       "<style scoped>\n",
       "    .dataframe tbody tr th:only-of-type {\n",
       "        vertical-align: middle;\n",
       "    }\n",
       "\n",
       "    .dataframe tbody tr th {\n",
       "        vertical-align: top;\n",
       "    }\n",
       "\n",
       "    .dataframe thead th {\n",
       "        text-align: right;\n",
       "    }\n",
       "</style>\n",
       "<table border=\"1\" class=\"dataframe\">\n",
       "  <thead>\n",
       "    <tr style=\"text-align: right;\">\n",
       "      <th></th>\n",
       "      <th>index</th>\n",
       "      <th>commit</th>\n",
       "      <th>old_file</th>\n",
       "      <th>new_file</th>\n",
       "      <th>old_contents</th>\n",
       "      <th>new_contents</th>\n",
       "      <th>subject</th>\n",
       "      <th>message</th>\n",
       "      <th>lang</th>\n",
       "      <th>license</th>\n",
       "      <th>repos</th>\n",
       "      <th>processed_message</th>\n",
       "      <th>is_bug</th>\n",
       "      <th>bug_type</th>\n",
       "      <th>class_labels</th>\n",
       "    </tr>\n",
       "  </thead>\n",
       "  <tbody>\n",
       "    <tr>\n",
       "      <th>0</th>\n",
       "      <td>48968</td>\n",
       "      <td>4d949a2bc8f628dcc66ee62161ae3680b21766d0</td>\n",
       "      <td>bin/pep-proxy.js</td>\n",
       "      <td>bin/pep-proxy.js</td>\n",
       "      <td>#!/usr/bin/env node\\n\\nvar proxy = require('.....</td>\n",
       "      <td>#!/usr/bin/env node\\n\\nvar proxy = require('.....</td>\n",
       "      <td>FIX Move the module definition to the top of t...</td>\n",
       "      <td>FIX Move the module definition to the top of t...</td>\n",
       "      <td>JavaScript</td>\n",
       "      <td>agpl-3.0</td>\n",
       "      <td>telefonicaid/fiware-pep-steelskin,telefonicaid...</td>\n",
       "      <td>fix move modul definit top function</td>\n",
       "      <td>1</td>\n",
       "      <td>functionality</td>\n",
       "      <td>[1.0, 0.0, 0.0, 0.0, 0.0]</td>\n",
       "    </tr>\n",
       "    <tr>\n",
       "      <th>1</th>\n",
       "      <td>21631</td>\n",
       "      <td>58c6907562ca3d4e943dfed56e795ae0a9cde762</td>\n",
       "      <td>lib/cache/lib/processUndefined.js</td>\n",
       "      <td>lib/cache/lib/processUndefined.js</td>\n",
       "      <td>export default (doc, fields) =&gt; {\\n    fields....</td>\n",
       "      <td>export default (doc, fields) =&gt; {\\n    fields....</td>\n",
       "      <td>Fix for undefined on nested fields</td>\n",
       "      <td>Fix for undefined on nested fields\\n</td>\n",
       "      <td>JavaScript</td>\n",
       "      <td>mit</td>\n",
       "      <td>cult-of-coders/redis-oplog</td>\n",
       "      <td>fix undefin nest field</td>\n",
       "      <td>1</td>\n",
       "      <td>ui-ux</td>\n",
       "      <td>[0.0, 1.0, 0.0, 0.0, 0.0]</td>\n",
       "    </tr>\n",
       "    <tr>\n",
       "      <th>2</th>\n",
       "      <td>38478</td>\n",
       "      <td>54bc7736bc5d3381a48eebba476f0933884899c6</td>\n",
       "      <td>lib/errorMessages.js</td>\n",
       "      <td>lib/errorMessages.js</td>\n",
       "      <td>\"use strict\";\\n\\nmodule.exports = {\\n    loadU...</td>\n",
       "      <td>\"use strict\";\\n\\nmodule.exports = {\\n    loadU...</td>\n",
       "      <td>Clean up some error message.</td>\n",
       "      <td>Clean up some error message.\\n</td>\n",
       "      <td>JavaScript</td>\n",
       "      <td>mit</td>\n",
       "      <td>YuzuJS/storeit</td>\n",
       "      <td>clean error messag</td>\n",
       "      <td>1</td>\n",
       "      <td>general</td>\n",
       "      <td>[0.0, 0.0, 0.0, 0.0, 1.0]</td>\n",
       "    </tr>\n",
       "    <tr>\n",
       "      <th>3</th>\n",
       "      <td>45690</td>\n",
       "      <td>2f3f141e1196eaa39ade102d3795cd189f57828f</td>\n",
       "      <td>src/IconMenu/IconMenu.js</td>\n",
       "      <td>src/IconMenu/IconMenu.js</td>\n",
       "      <td>import React from 'react'\\nimport PropTypes fr...</td>\n",
       "      <td>import React from 'react'\\nimport PropTypes fr...</td>\n",
       "      <td>Rename prop name =&gt; iconName</td>\n",
       "      <td>refactor(components): Rename prop name =&gt; icon...</td>\n",
       "      <td>JavaScript</td>\n",
       "      <td>mit</td>\n",
       "      <td>dimik/react-material-web-components,dimik/reac...</td>\n",
       "      <td>refactorcompon renam prop name = iconnam</td>\n",
       "      <td>1</td>\n",
       "      <td>general</td>\n",
       "      <td>[0.0, 0.0, 0.0, 0.0, 1.0]</td>\n",
       "    </tr>\n",
       "    <tr>\n",
       "      <th>4</th>\n",
       "      <td>38421</td>\n",
       "      <td>bc2e4d8ebd609461c4abc63db480ae1aa5558ff7</td>\n",
       "      <td>ghost/admin/controllers/editor/new.js</td>\n",
       "      <td>ghost/admin/controllers/editor/new.js</td>\n",
       "      <td>import EditorControllerMixin from 'ghost/mixin...</td>\n",
       "      <td>import EditorControllerMixin from 'ghost/mixin...</td>\n",
       "      <td>Fix warning about transitionTo being deprecated</td>\n",
       "      <td>Fix warning about transitionTo being deprecated\\n</td>\n",
       "      <td>JavaScript</td>\n",
       "      <td>mit</td>\n",
       "      <td>TryGhost/Ghost,TryGhost/Ghost,TryGhost/Ghost</td>\n",
       "      <td>fix warn transitionto deprec</td>\n",
       "      <td>1</td>\n",
       "      <td>general</td>\n",
       "      <td>[0.0, 0.0, 0.0, 0.0, 1.0]</td>\n",
       "    </tr>\n",
       "  </tbody>\n",
       "</table>\n",
       "</div>"
      ],
      "text/plain": [
       "   index                                    commit  \\\n",
       "0  48968  4d949a2bc8f628dcc66ee62161ae3680b21766d0   \n",
       "1  21631  58c6907562ca3d4e943dfed56e795ae0a9cde762   \n",
       "2  38478  54bc7736bc5d3381a48eebba476f0933884899c6   \n",
       "3  45690  2f3f141e1196eaa39ade102d3795cd189f57828f   \n",
       "4  38421  bc2e4d8ebd609461c4abc63db480ae1aa5558ff7   \n",
       "\n",
       "                                old_file  \\\n",
       "0                       bin/pep-proxy.js   \n",
       "1      lib/cache/lib/processUndefined.js   \n",
       "2                   lib/errorMessages.js   \n",
       "3               src/IconMenu/IconMenu.js   \n",
       "4  ghost/admin/controllers/editor/new.js   \n",
       "\n",
       "                                new_file  \\\n",
       "0                       bin/pep-proxy.js   \n",
       "1      lib/cache/lib/processUndefined.js   \n",
       "2                   lib/errorMessages.js   \n",
       "3               src/IconMenu/IconMenu.js   \n",
       "4  ghost/admin/controllers/editor/new.js   \n",
       "\n",
       "                                        old_contents  \\\n",
       "0  #!/usr/bin/env node\\n\\nvar proxy = require('.....   \n",
       "1  export default (doc, fields) => {\\n    fields....   \n",
       "2  \"use strict\";\\n\\nmodule.exports = {\\n    loadU...   \n",
       "3  import React from 'react'\\nimport PropTypes fr...   \n",
       "4  import EditorControllerMixin from 'ghost/mixin...   \n",
       "\n",
       "                                        new_contents  \\\n",
       "0  #!/usr/bin/env node\\n\\nvar proxy = require('.....   \n",
       "1  export default (doc, fields) => {\\n    fields....   \n",
       "2  \"use strict\";\\n\\nmodule.exports = {\\n    loadU...   \n",
       "3  import React from 'react'\\nimport PropTypes fr...   \n",
       "4  import EditorControllerMixin from 'ghost/mixin...   \n",
       "\n",
       "                                             subject  \\\n",
       "0  FIX Move the module definition to the top of t...   \n",
       "1                 Fix for undefined on nested fields   \n",
       "2                       Clean up some error message.   \n",
       "3                       Rename prop name => iconName   \n",
       "4    Fix warning about transitionTo being deprecated   \n",
       "\n",
       "                                             message        lang   license  \\\n",
       "0  FIX Move the module definition to the top of t...  JavaScript  agpl-3.0   \n",
       "1               Fix for undefined on nested fields\\n  JavaScript       mit   \n",
       "2                     Clean up some error message.\\n  JavaScript       mit   \n",
       "3  refactor(components): Rename prop name => icon...  JavaScript       mit   \n",
       "4  Fix warning about transitionTo being deprecated\\n  JavaScript       mit   \n",
       "\n",
       "                                               repos  \\\n",
       "0  telefonicaid/fiware-pep-steelskin,telefonicaid...   \n",
       "1                         cult-of-coders/redis-oplog   \n",
       "2                                     YuzuJS/storeit   \n",
       "3  dimik/react-material-web-components,dimik/reac...   \n",
       "4       TryGhost/Ghost,TryGhost/Ghost,TryGhost/Ghost   \n",
       "\n",
       "                          processed_message  is_bug       bug_type  \\\n",
       "0       fix move modul definit top function       1  functionality   \n",
       "1                    fix undefin nest field       1          ui-ux   \n",
       "2                        clean error messag       1        general   \n",
       "3  refactorcompon renam prop name = iconnam       1        general   \n",
       "4              fix warn transitionto deprec       1        general   \n",
       "\n",
       "                class_labels  \n",
       "0  [1.0, 0.0, 0.0, 0.0, 0.0]  \n",
       "1  [0.0, 1.0, 0.0, 0.0, 0.0]  \n",
       "2  [0.0, 0.0, 0.0, 0.0, 1.0]  \n",
       "3  [0.0, 0.0, 0.0, 0.0, 1.0]  \n",
       "4  [0.0, 0.0, 0.0, 0.0, 1.0]  "
      ]
     },
     "execution_count": 5,
     "metadata": {},
     "output_type": "execute_result"
    }
   ],
   "source": [
    "test_df = pd.read_sql_query('select * from commitpackft_classified_test', con)\n",
    "test_df = test_df[test_df['bug_type'] != 'mobile']\n",
    "test_df = test_df[test_df['old_contents'].str.len() > 0]\n",
    "\n",
    "test_df['class_labels'] = test_df['bug_type'].apply(lambda bT: add_labels(bT, classLabels))\n",
    "TEST_labels = torch.tensor(test_df['class_labels'].tolist())\n",
    "if DEBUG:\n",
    "    test_df = test_df.sample(10)\n",
    "\n",
    "test_df.head()"
   ]
  },
  {
   "cell_type": "markdown",
   "metadata": {},
   "source": [
    "## Data Preprocessing"
   ]
  },
  {
   "cell_type": "code",
   "execution_count": 6,
   "metadata": {},
   "outputs": [
    {
     "name": "stdout",
     "output_type": "stream",
     "text": [
      "Total test samples after filtering: 1680\n"
     ]
    }
   ],
   "source": [
    "test_df['old_contents_comment_lines_count'] = test_df['old_contents'].apply(lambda sample: count_comment_lines(sample))\n",
    "test_df['new_contents_comment_lines_count'] = test_df['new_contents'].apply(lambda sample: count_comment_lines(sample))\n",
    "\n",
    "# Filter out samples where the sum of comment lines increased more than 3 lines\n",
    "# to prevent excessive masking\n",
    "test_df = test_df[abs(test_df['old_contents_comment_lines_count'] - test_df['new_contents_comment_lines_count']) <= 3]\n",
    "# Filter out samples with more than 10 comment lines\n",
    "test_df = test_df[(test_df['old_contents_comment_lines_count'] < 10) & (test_df['new_contents_comment_lines_count'] < 10)]\n",
    "\n",
    "dmp = diff_match_patch()\n",
    "\n",
    "def compute_diffs(sample: dict):\n",
    "    # Compute the differences\n",
    "    diffs = dmp.diff_main(sample['old_contents'], sample['new_contents'])\n",
    "    dmp.diff_cleanupSemantic(diffs)\n",
    "    # Count the changes\n",
    "    return sum(1 for diff in diffs if diff[0] == 1)  # 0 means no change\n",
    "\n",
    "test_df['num_changes'] = test_df.apply(lambda sample: compute_diffs(sample), axis=1)\n",
    "\n",
    "# Filter out samples with more than 3 changes in the code\n",
    "test_df = test_df[test_df['num_changes'] <= 3]\n",
    "\n",
    "# filter out samples with more than 50 lines of code\n",
    "test_df = test_df[(test_df['old_contents'].str.count('\\n') <= 50) & (test_df['new_contents'].str.count('\\n') <= 50)]\n",
    "\n",
    "# filter out samples with more than 2 bug types\n",
    "test_df = test_df[test_df['bug_type'].str.count(',') < 2]\n",
    "\n",
    "\n",
    "num_samples = TEST_labels.size(0)\n",
    "num_classes = TEST_labels.size(1)\n",
    "\n",
    "test_pos_counts = torch.sum(TEST_labels, dim=0)\n",
    "test_neg_counts = num_samples - test_pos_counts\n",
    "test_class_weights = test_neg_counts / (test_pos_counts + 1e-6)\n",
    "test_class_weights = test_class_weights.numpy()\n",
    "\n",
    "\n",
    "print(f\"Total test samples after filtering: {len(test_df)}\")"
   ]
  },
  {
   "cell_type": "code",
   "execution_count": 10,
   "metadata": {},
   "outputs": [],
   "source": [
    "if BIMODAL_TRAIN:\n",
    "    test_df['input_seq'] = f\"/* {test_df['message']}*/\\n{test_df['old_contents']}\"\n",
    "    test_df['output_seq'] = f\"/* {test_df['message']}*/\\n{test_df['new_contents']}\"\n",
    "else:\n",
    "    test_df['input_seq'] = test_df['old_contents'].copy()\n",
    "    test_df['output_seq'] = test_df['new_contents'].copy()"
   ]
  },
  {
   "cell_type": "code",
   "execution_count": 7,
   "metadata": {},
   "outputs": [
    {
     "name": "stderr",
     "output_type": "stream",
     "text": [
      "/home/disras/miniconda3/envs/thesis/lib/python3.8/site-packages/lightning/pytorch/utilities/migration/utils.py:56: The loaded checkpoint was produced with Lightning v2.5.0.post0, which is newer than your current Lightning version: v2.3.3\n"
     ]
    }
   ],
   "source": [
    "model = CodeT5.load_from_checkpoint(\n",
    "    LOAD_FROM_CPKT,\n",
    "    class_weights=test_class_weights,\n",
    "    num_classes=num_classes,\n",
    "    dropout_rate=DROPOUT_RATE,\n",
    "    with_activation=WITH_ACTIVATION,\n",
    "    with_layer_norm=WITH_LAYER_NORM,\n",
    ")"
   ]
  },
  {
   "cell_type": "markdown",
   "metadata": {},
   "source": [
    "## Tokenize Data"
   ]
  },
  {
   "cell_type": "code",
   "execution_count": 11,
   "metadata": {},
   "outputs": [],
   "source": [
    "encoded_samples = model.tokenizer(\n",
    "    test_df['input_seq'].tolist(),\n",
    "    max_length=TOKENIZER_MAX_LENGTH,\n",
    "    padding='max_length',\n",
    "    truncation=True,\n",
    "    return_tensors='pt',\n",
    ")\n",
    "\n",
    "encoded_labels = model.tokenizer(\n",
    "    test_df['new_contents'].tolist(),\n",
    "    max_length=TOKENIZER_MAX_LENGTH,\n",
    "    padding='max_length',\n",
    "    truncation=True,\n",
    "    return_tensors='pt',\n",
    ")\n",
    "\n",
    "labels = torch.tensor(test_df['class_labels'].tolist())"
   ]
  },
  {
   "cell_type": "markdown",
   "metadata": {},
   "source": [
    "## Testing Script"
   ]
  },
  {
   "cell_type": "code",
   "execution_count": 19,
   "metadata": {},
   "outputs": [
    {
     "name": "stderr",
     "output_type": "stream",
     "text": [
      "GPU available: True (cuda), used: True\n",
      "TPU available: False, using: 0 TPU cores\n",
      "HPU available: False, using: 0 HPUs\n",
      "LOCAL_RANK: 0 - CUDA_VISIBLE_DEVICES: [0]\n"
     ]
    },
    {
     "data": {
      "application/vnd.jupyter.widget-view+json": {
       "model_id": "4d065b8fb88c4a6ba880e8a42143f03f",
       "version_major": 2,
       "version_minor": 0
      },
      "text/plain": [
       "Testing: |          | 0/? [00:00<?, ?it/s]"
      ]
     },
     "metadata": {},
     "output_type": "display_data"
    },
    {
     "data": {
      "image/png": "[encoded data removed]",
      "text/plain": [
       "<Figure size 800x1200 with 5 Axes>"
      ]
     },
     "metadata": {},
     "output_type": "display_data"
    },
    {
     "data": {
      "text/html": [
       "<pre style=\"white-space:pre;overflow-x:auto;line-height:normal;font-family:Menlo,'DejaVu Sans Mono',consolas,'Courier New',monospace\">┏━━━━━━━━━━━━━━━━━━━━━━━━━━━┳━━━━━━━━━━━━━━━━━━━━━━━━━━━┓\n",
       "┃<span style=\"font-weight: bold\">        Test metric        </span>┃<span style=\"font-weight: bold\">       DataLoader 0        </span>┃\n",
       "┡━━━━━━━━━━━━━━━━━━━━━━━━━━━╇━━━━━━━━━━━━━━━━━━━━━━━━━━━┩\n",
       "│<span style=\"color: #008080; text-decoration-color: #008080\">    classification_loss    </span>│<span style=\"color: #800080; text-decoration-color: #800080\">    0.8923507928848267     </span>│\n",
       "│<span style=\"color: #008080; text-decoration-color: #008080\">          t5_loss          </span>│<span style=\"color: #800080; text-decoration-color: #800080\">    0.10292903333902359    </span>│\n",
       "└───────────────────────────┴───────────────────────────┘\n",
       "</pre>\n"
      ],
      "text/plain": [
       "┏━━━━━━━━━━━━━━━━━━━━━━━━━━━┳━━━━━━━━━━━━━━━━━━━━━━━━━━━┓\n",
       "┃\u001b[1m \u001b[0m\u001b[1m       Test metric       \u001b[0m\u001b[1m \u001b[0m┃\u001b[1m \u001b[0m\u001b[1m      DataLoader 0       \u001b[0m\u001b[1m \u001b[0m┃\n",
       "┡━━━━━━━━━━━━━━━━━━━━━━━━━━━╇━━━━━━━━━━━━━━━━━━━━━━━━━━━┩\n",
       "│\u001b[36m \u001b[0m\u001b[36m   classification_loss   \u001b[0m\u001b[36m \u001b[0m│\u001b[35m \u001b[0m\u001b[35m   0.8923507928848267    \u001b[0m\u001b[35m \u001b[0m│\n",
       "│\u001b[36m \u001b[0m\u001b[36m         t5_loss         \u001b[0m\u001b[36m \u001b[0m│\u001b[35m \u001b[0m\u001b[35m   0.10292903333902359   \u001b[0m\u001b[35m \u001b[0m│\n",
       "└───────────────────────────┴───────────────────────────┘\n"
      ]
     },
     "metadata": {},
     "output_type": "display_data"
    },
    {
     "data": {
      "text/plain": [
       "[{'t5_loss': 0.10292903333902359, 'classification_loss': 0.8923507928848267}]"
      ]
     },
     "execution_count": 19,
     "metadata": {},
     "output_type": "execute_result"
    }
   ],
   "source": [
    "METRICS_PATH = 'metrics' if os.path.exists('metrics') else '/content/drive/MyDrive/Thesis/metrics'\n",
    "os.environ['METRICS_PATH'] = METRICS_PATH\n",
    "os.environ['VERSION'] = str(VERSION.replace('v', '').replace('-','0'))\n",
    "MODEL_NAME = 'CodeBert'\n",
    "os.environ['MODEL_NAME'] = MODEL_NAME\n",
    "\n",
    "model.eval()\n",
    "\n",
    "torch_ds = CodeT5Dataset(encodings=encoded_samples, decodings=encoded_labels, class_labels=labels)\n",
    "loader = DataLoader(torch_ds, batch_size=1, num_workers=14)\n",
    "\n",
    "trainer = plTrainer()\n",
    "trainer.test(model=model, dataloaders=loader)"
   ]
  },
  {
   "cell_type": "markdown",
   "metadata": {},
   "source": [
    "## Compute Metrics\n",
    "\n",
    "**ROUGE (Recall-Oriented understudy for Gisting Evaluation**\n",
    "- A metric for evaluation text generation/sumamrization models.\n",
    "- It measures the overlap between machine generated text (prediction) and its human generated corresponding text (reference)\\\n",
    "- [0,1] { close to 0: poor similarity, close to 1: better similarity}\n",
    "- n-gram: seq of n words\n",
    "\n",
    "Variations\n",
    "- ROUGE-N : μετράει το σύνολο της επικάλυψης *[πόσες φορές εμφανίζετε στο παραγώμενο κείμενο]* το n-gram μεταξύ των προβλέψεων και του πραγματικού κειμένου\n",
    "\n",
    "- ROUGE-N_recall : num n gram matches / num of n-gram in reference\n",
    "- ROUGE-N-precision : nummber of n-gram matches / number of n gram in prediction\n",
    "- ROUGE-L : Βασίζεται στο μάκρος του μεγαλύτερης κοινής υπό-ακολουθίας (Longest Common Sequence -LCS) . Υπολογίζει το μέτρο f-measure\n",
    "    - ROUGE-L_recall : LCS / num words in reference\n",
    "    - ROUGE-L_precision : LCS / num words in prediction"
   ]
  },
  {
   "cell_type": "code",
   "execution_count": 31,
   "metadata": {},
   "outputs": [
    {
     "ename": "RuntimeError",
     "evalue": "Can't compare lists with different lengths",
     "output_type": "error",
     "traceback": [
      "\u001b[0;31m---------------------------------------------------------------------------\u001b[0m",
      "\u001b[0;31mRuntimeError\u001b[0m                              Traceback (most recent call last)",
      "Cell \u001b[0;32mIn[31], line 6\u001b[0m\n\u001b[1;32m      2\u001b[0m \u001b[38;5;28;01mimport\u001b[39;00m \u001b[38;5;21;01mjson\u001b[39;00m\n\u001b[1;32m      4\u001b[0m rouge \u001b[38;5;241m=\u001b[39m CodeRouge([\u001b[38;5;124m'\u001b[39m\u001b[38;5;124mrouge7\u001b[39m\u001b[38;5;124m'\u001b[39m,\u001b[38;5;124m'\u001b[39m\u001b[38;5;124mrouge8\u001b[39m\u001b[38;5;124m'\u001b[39m,\u001b[38;5;124m'\u001b[39m\u001b[38;5;124mrouge9\u001b[39m\u001b[38;5;124m'\u001b[39m,\u001b[38;5;124m'\u001b[39m\u001b[38;5;124mrougeL\u001b[39m\u001b[38;5;124m'\u001b[39m,\u001b[38;5;124m'\u001b[39m\u001b[38;5;124mrougeLsum\u001b[39m\u001b[38;5;124m'\u001b[39m])\n\u001b[0;32m----> 6\u001b[0m \u001b[43mrouge\u001b[49m\u001b[38;5;241;43m.\u001b[39;49m\u001b[43mcompute\u001b[49m\u001b[43m(\u001b[49m\u001b[43mpredictions\u001b[49m\u001b[38;5;241;43m=\u001b[39;49m\u001b[43mmodel\u001b[49m\u001b[38;5;241;43m.\u001b[39;49m\u001b[43mgenerated_codes\u001b[49m\u001b[43m,\u001b[49m\u001b[43m \u001b[49m\u001b[43mreferences\u001b[49m\u001b[38;5;241;43m=\u001b[39;49m\u001b[43mtest_df\u001b[49m\u001b[43m[\u001b[49m\u001b[38;5;124;43m'\u001b[39;49m\u001b[38;5;124;43mnew_contents\u001b[39;49m\u001b[38;5;124;43m'\u001b[39;49m\u001b[43m]\u001b[49m\u001b[38;5;241;43m.\u001b[39;49m\u001b[43mtolist\u001b[49m\u001b[43m(\u001b[49m\u001b[43m)\u001b[49m\u001b[43m)\u001b[49m\n\u001b[1;32m      7\u001b[0m rouge\u001b[38;5;241m.\u001b[39mcalc_averages()\n\u001b[1;32m      9\u001b[0m avgs_path \u001b[38;5;241m=\u001b[39m \u001b[38;5;124mf\u001b[39m\u001b[38;5;124m\"\u001b[39m\u001b[38;5;132;01m{\u001b[39;00mMETRICS_PATH\u001b[38;5;132;01m}\u001b[39;00m\u001b[38;5;124m/\u001b[39m\u001b[38;5;132;01m{\u001b[39;00mMODEL_NAME\u001b[38;5;132;01m}\u001b[39;00m\u001b[38;5;124m_v\u001b[39m\u001b[38;5;132;01m{\u001b[39;00mVERSION\u001b[38;5;132;01m}\u001b[39;00m\u001b[38;5;124m/rouge.json\u001b[39m\u001b[38;5;124m\"\u001b[39m\n",
      "File \u001b[0;32m~/projects/JSRepair/modules/metrics.py:47\u001b[0m, in \u001b[0;36mCodeRouge.compute\u001b[0;34m(self, predictions, references)\u001b[0m\n\u001b[1;32m     45\u001b[0m \u001b[38;5;28;01mdef\u001b[39;00m \u001b[38;5;21mcompute\u001b[39m(\u001b[38;5;28mself\u001b[39m, predictions: \u001b[38;5;28mlist\u001b[39m, references: \u001b[38;5;28mlist\u001b[39m) \u001b[38;5;241m-\u001b[39m\u001b[38;5;241m>\u001b[39m \u001b[38;5;28;01mNone\u001b[39;00m:\n\u001b[1;32m     46\u001b[0m     \u001b[38;5;28;01mif\u001b[39;00m \u001b[38;5;28mlen\u001b[39m(predictions) \u001b[38;5;241m!=\u001b[39m \u001b[38;5;28mlen\u001b[39m(references):\n\u001b[0;32m---> 47\u001b[0m         \u001b[38;5;28;01mraise\u001b[39;00m \u001b[38;5;167;01mRuntimeError\u001b[39;00m(\u001b[38;5;124m\"\u001b[39m\u001b[38;5;124mCan\u001b[39m\u001b[38;5;124m'\u001b[39m\u001b[38;5;124mt compare lists with different lengths\u001b[39m\u001b[38;5;124m\"\u001b[39m)\n\u001b[1;32m     48\u001b[0m     \u001b[38;5;28;01mfor\u001b[39;00m i \u001b[38;5;129;01min\u001b[39;00m \u001b[38;5;28mrange\u001b[39m(\u001b[38;5;28mlen\u001b[39m(predictions)):\n\u001b[1;32m     49\u001b[0m         \u001b[38;5;28mself\u001b[39m\u001b[38;5;241m.\u001b[39mscores\u001b[38;5;241m.\u001b[39mappend(\n\u001b[1;32m     50\u001b[0m             \u001b[38;5;28mself\u001b[39m\u001b[38;5;241m.\u001b[39mrouge\u001b[38;5;241m.\u001b[39mscore(\n\u001b[1;32m     51\u001b[0m                 target\u001b[38;5;241m=\u001b[39mreferences[i],\n\u001b[1;32m     52\u001b[0m                 prediction\u001b[38;5;241m=\u001b[39mpredictions[i],\n\u001b[1;32m     53\u001b[0m             )\n\u001b[1;32m     54\u001b[0m         )\n",
      "\u001b[0;31mRuntimeError\u001b[0m: Can't compare lists with different lengths"
     ]
    }
   ],
   "source": [
    "from modules.metrics import CodeRouge\n",
    "import json\n",
    "\n",
    "rouge = CodeRouge(['rouge7','rouge8','rouge9','rougeL','rougeLsum'])\n",
    "\n",
    "rouge.compute(predictions=model.generated_codes, references=test_df['new_contents'].tolist())\n",
    "rouge.calc_averages()\n",
    "\n",
    "avgs_path = f\"{METRICS_PATH}/{MODEL_NAME}_v{VERSION}/rouge.json\"\n",
    "all_path = f\"{METRICS_PATH}/{MODEL_NAME}_v{VERSION}/avg_rouge.csv\"\n",
    "with open(avgs_path, 'a') as f:\n",
    "    json.dump(rouge.avgs, f, indent=4)\n",
    "\n",
    "all_scores = []\n",
    "for r in rouge.rouge_types:\n",
    "    all_scores += rouge.rouge_type_to_list(r)\n",
    "\n",
    "metrics_df = pd.DataFrame(all_scores)\n",
    "\n",
    "for m in ['precision','recall','fmeasure']:\n",
    "    metrics_df[m] = round(metrics_df[m], 3)\n",
    "metrics_df.to_csv(all_path, index=False)"
   ]
  },
  {
   "cell_type": "markdown",
   "metadata": {},
   "source": [
    "## Model Comparisons"
   ]
  },
  {
   "cell_type": "markdown",
   "metadata": {},
   "source": [
    "### Bar Plots"
   ]
  },
  {
   "cell_type": "code",
   "execution_count": null,
   "metadata": {},
   "outputs": [],
   "source": [
    "codebert_avgs = rouge.avgs\n",
    "\n",
    "comparison_model_path = input('Comparison model avg ROUGE-N metrics path: ')\n",
    "comparison_model = comparison_model_path.split('/')[-2]\n",
    "if not os.path.exists(comparison_model_path):\n",
    "    raise RuntimeError('Metrics path does not exist.')\n",
    "\n",
    "with open(comparison_model_path, 'r') as f:\n",
    "    codet5_avgs = json.load(f)\n",
    "\n",
    "\n",
    "plot_data = {\n",
    "    f\"{MODEL_NAME}_v{VERSION}\": (round(codebert_avgs['avg_rouge7'].fmeasure, 5), round(codebert_avgs['avg_rouge8'].fmeasure, 5), round(codebert_avgs['avg_rouge9'].fmeasure, 5), round(codebert_avgs['avg_rougeL'].fmeasure, 5), round(codebert_avgs['avg_rougeLsum'].fmeasure, 5)),\n",
    "    comparison_model: (round(codet5_avgs['avg_rouge7'][2], 5), round(codet5_avgs['avg_rouge8'][2], 5), round(codet5_avgs['avg_rouge9'][2], 5), round(codet5_avgs['avg_rougeL'][2], 5), round(codet5_avgs['avg_rougeLsum'][2], 5)),\n",
    "}\n",
    "\n",
    "metric_types = ('Rouge-7', 'Rouge-8','Rouge-9', 'Rouge-L', 'Rouge-Lsum')\n",
    "x = np.arange(len(metric_types))\n",
    "width = 0.15\n",
    "multiplier = 0\n",
    "\n",
    "fix, ax = plt.subplots(layout='constrained')\n",
    "\n",
    "\n",
    "for model, values in plot_data.items():\n",
    "    offset = width * multiplier\n",
    "    rects = ax.bar(x + offset, values, width, label=model)\n",
    "    ax.bar_label(rects, padding=3)\n",
    "    multiplier += 1\n",
    "\n",
    "ax.set_ylabel('Score')\n",
    "ax.set_title('F-Measure Model Comparison')\n",
    "ax.set_xticks(x + width, metric_types)\n",
    "ax.legend(loc='upper left', ncols=4)\n",
    "ax.set_ylim(0, 1.2)\n",
    "\n",
    "plt.savefig(f\"{METRICS_PATH}/{MODEL_NAME}_{VERSION}_vs_{comparison_model}.png\", dpi=300, bbox_inches='tight')\n",
    "plt.show()"
   ]
  },
  {
   "cell_type": "markdown",
   "metadata": {},
   "source": [
    "### Chart"
   ]
  },
  {
   "cell_type": "code",
   "execution_count": null,
   "metadata": {},
   "outputs": [],
   "source": [
    "import json\n",
    "import matplotlib.pyplot as plt\n",
    "import numpy as np\n",
    "\n",
    "codebert_avgs = rouge.avgs  # Assuming rouge is a library/function that provides average scores\n",
    "\n",
    "comparison_model_path = input('Comparison model avg ROUGE-N metrics path: ')\n",
    "comparison_model = comparison_model = comparison_model_path.split('/')[-2]\n",
    "if not os.path.exists(comparison_model_path):\n",
    "    raise RuntimeError('Metrics path does not exist.')\n",
    "\n",
    "with open(comparison_model_path, 'r') as f:\n",
    "    codet5_avgs = json.load(f)\n",
    "\n",
    "# Define metric types (assuming same metrics for both models)\n",
    "metric_types = ('Rouge-7', 'Rouge-8', 'Rouge-9', 'Rouge-L', 'Rouge-Lsum')\n",
    "\n",
    "# Create a figure with 3 rows (subplots) and 1 column\n",
    "fig, (ax1, ax2, ax3) = plt.subplots(3, 1, figsize=(20, 16))\n",
    "\n",
    "# Data dictionaries for each metric (assuming data structure from rouge)\n",
    "precision_data = {\n",
    "    f\"{MODEL_NAME}_v{VERSION}\": (codebert_avgs['avg_rouge7'].precision, codebert_avgs['avg_rouge8'].precision, codebert_avgs['avg_rouge9'].precision, codebert_avgs['avg_rougeL'].precision, codebert_avgs['avg_rougeLsum'].precision),\n",
    "    comparison_model: (codet5_avgs['avg_rouge7'][0], codet5_avgs['avg_rouge8'][0], codet5_avgs['avg_rouge9'][0], codet5_avgs['avg_rougeL'][0], codet5_avgs['avg_rougeLsum'][0]),\n",
    "}\n",
    "recall_data = {\n",
    "    f\"{MODEL_NAME}_v{VERSION}\": (codebert_avgs['avg_rouge7'].recall, codebert_avgs['avg_rouge8'].recall, codebert_avgs['avg_rouge9'].recall, codebert_avgs['avg_rougeL'].recall, codebert_avgs['avg_rougeLsum'].recall),\n",
    "    comparison_model: (codet5_avgs['avg_rouge7'][1], codet5_avgs['avg_rouge8'][1], codet5_avgs['avg_rouge9'][1], codet5_avgs['avg_rougeL'][1], codet5_avgs['avg_rougeLsum'][1]),\n",
    "}\n",
    "f1_data = {\n",
    "    f\"{MODEL_NAME}_v{VERSION}\": (codebert_avgs['avg_rouge7'].fmeasure, codebert_avgs['avg_rouge8'].fmeasure, codebert_avgs['avg_rouge9'].fmeasure, codebert_avgs['avg_rougeL'].fmeasure, codebert_avgs['avg_rougeLsum'].fmeasure),\n",
    "    comparison_model: (round(codet5_avgs['avg_rouge7'][2], 5), round(codet5_avgs['avg_rouge8'][2], 5), round(codet5_avgs['avg_rouge9'][2], 5), round(codet5_avgs['avg_rougeL'][2], 5), round(codet5_avgs['avg_rougeLsum'][2], 5)),\n",
    "}\n",
    "\n",
    "\n",
    "# Plot Precision (ax1)\n",
    "for model, precision in precision_data.items():\n",
    "    ax1.plot(metric_types, precision, label=model, marker='s')  # 's' for square marker\n",
    "ax1.set_xlabel('ROUGE-N')\n",
    "ax1.set_ylabel('Precision')\n",
    "ax1.grid(True)\n",
    "\n",
    "# Plot Recall (ax2)\n",
    "for model, recall in recall_data.items():\n",
    "    ax2.plot(metric_types, recall, label=model, marker='s')  # 'o' for circle marker\n",
    "ax2.set_xlabel('ROUGE-N')\n",
    "ax2.set_ylabel('Recall')\n",
    "ax2.grid(True)\n",
    "\n",
    "# Plot F1 Score (ax3)\n",
    "for model, f1 in f1_data.items():\n",
    "    ax3.plot(metric_types, f1, label=model, marker='s')\n",
    "ax3.set_xlabel('ROUGE-N')\n",
    "ax3.set_ylabel('F-measure')\n",
    "ax3.grid(True)\n",
    "\n",
    "plt.legend(loc='upper left')\n",
    "plt.tight_layout()\n",
    "\n",
    "# Save the entire figure as a single PNG\n",
    "plt.savefig(f\"{METRICS_PATH}/{MODEL_NAME}_{VERSION}_vs_{comparison_model}.png\", dpi=300, bbox_inches='tight')\n",
    "ax"
   ]
  }
 ],
 "metadata": {
  "kernelspec": {
   "display_name": "thesis",
   "language": "python",
   "name": "python3"
  },
  "language_info": {
   "codemirror_mode": {
    "name": "ipython",
    "version": 3
   },
   "file_extension": ".py",
   "mimetype": "text/x-python",
   "name": "python",
   "nbconvert_exporter": "python",
   "pygments_lexer": "ipython3",
   "version": "3.8.18"
  }
 },
 "nbformat": 4,
 "nbformat_minor": 2
}
