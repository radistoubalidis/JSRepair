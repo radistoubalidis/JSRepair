{
 "cells": [
  {
   "cell_type": "markdown",
   "metadata": {},
   "source": [
    "# Colab Initialization"
   ]
  },
  {
   "cell_type": "code",
   "execution_count": null,
   "metadata": {},
   "outputs": [],
   "source": [
    "from google.colab import drive\n",
    "drive.mount('/content/drive')"
   ]
  },
  {
   "cell_type": "code",
   "execution_count": null,
   "metadata": {},
   "outputs": [],
   "source": [
    "!git clone https://github.com/radistoubalidis/JSRepair.git\n",
    "\n",
    "!pip install pytorch_lightning\n",
    "!python -m pip install lightning\n",
    "!pip install datasets\n",
    "!pip install python-dotenv\n",
    "!pip install rouge-score\n",
    "!pip install diff-match-patch"
   ]
  },
  {
   "cell_type": "code",
   "execution_count": null,
   "metadata": {},
   "outputs": [],
   "source": [
    "%cd ./JSRepair"
   ]
  },
  {
   "cell_type": "markdown",
   "metadata": {},
   "source": [
    "# Dependencies"
   ]
  },
  {
   "cell_type": "code",
   "execution_count": 1,
   "metadata": {},
   "outputs": [],
   "source": [
    "from transformers import RobertaTokenizer\n",
    "from sklearn.model_selection import train_test_split\n",
    "from modules.TrainConfig import init_checkpoint, init_logger, Trainer\n",
    "from modules.models import CodeBertJS\n",
    "from modules.datasets import CodeBertDataset\n",
    "from modules.filters import add_labels\n",
    "from torch.utils.data import DataLoader\n",
    "from pytorch_lightning import Trainer as plTrainer\n",
    "from modules.filters import get_changed_token_indices\n",
    "from diff_match_patch import diff_match_patch\n",
    "from typing import List\n",
    "import matplotlib.pyplot as plt\n",
    "import os\n",
    "import sqlite3\n",
    "import pandas as pd\n",
    "import numpy as np\n",
    "import os\n",
    "import torch\n",
    "import random"
   ]
  },
  {
   "cell_type": "code",
   "execution_count": 2,
   "metadata": {},
   "outputs": [],
   "source": [
    "HF_DIR = 'microsoft/codebert-base-mlm'\n",
    "TOKENIZER_MAX_LENGTH = 512\n",
    "DB_PATH = 'commitpack-datasets.db' if os.path.exists('commitpack-datasets.db') else '/content/drive/MyDrive/Thesis/commitpack-datasets.db'\n",
    "DB_TABLE = 'commitpackft_classified_train'\n",
    "if not os.path.exists(DB_PATH):\n",
    "    raise RuntimeError('sqlite3 path doesnt exist.')\n",
    "VAL_SIZE = 0.2\n",
    "LOG_PATH = 'logs' if os.path.exists('logs') else '/content/drive/MyDrive/Thesis/logs'\n",
    "VERSION = int(input('Training version: '))\n",
    "LOAD_FROM_CPKT = input(\"Load from existing model (type cpkt path if true): \")\n",
    "DEBUG = True if int(input('Debug Run (1,0): ')) == 1 else False\n",
    "BATCH_SIZE = 8 if DEBUG else 64\n",
    "CPKT_PATH = 'checkpoints' if os.path.exists('checkpoints') else '/content/drive/MyDrive/Thesis/checkpoints'\n",
    "DROPOUT_RATE = float(input('Type dropout rate for classifier: '))\n",
    "NUM_EPOCHS = int(input('Type number of train epochs: '))\n",
    "WITH_LAYER_NORM = True\n",
    "WITH_ACTIVATION = True\n",
    "LEARNING_RATE = float(input(\"Type initial lr,(default = 1e-3): \"))\n",
    "BIMODAL_TRAIN = True if int(input('Combine commit messages with codes (1,0): ')) == 1 else False\n",
    "\n",
    "classLabels = {\n",
    "    \"functionality\" : 0.,\n",
    "    \"ui-ux\" : 0.,\n",
    "    \"compatibility-performance\" : 0.,\n",
    "    \"network-security\" : 0.,\n",
    "    \"general\": 0.\n",
    "}\n",
    "\n",
    "num_classes = len(classLabels.keys())\n",
    "\n",
    "modelSize = HF_DIR.split('/')[-1]\n",
    "MODEL_DIR = f\"CodeBert_{modelSize}_JS_{num_classes}_classes_{TOKENIZER_MAX_LENGTH}MaxL\"\n",
    "con = sqlite3.connect(DB_PATH)"
   ]
  },
  {
   "cell_type": "markdown",
   "metadata": {},
   "source": [
    "# Training"
   ]
  },
  {
   "cell_type": "markdown",
   "metadata": {},
   "source": [
    "## Create Classification Labels\n",
    "```json\n",
    "{\n",
    "    \"mobile\" : 0,\n",
    "    \"functionality\" : 0,\n",
    "    \"ui-ux\" : 0,\n",
    "    \"compatibility-performance\" : 0,\n",
    "    \"network-security\" : 0,\n",
    "    \"general\": 0\n",
    "}\n",
    "\n",
    "Ένα δείγμα που κατηγοριοποιήθηκε ως σφάλμα λειτουργικότητας(functionality) και ui-ux θα έχει διάνυσμα ταξινόμησης ->\n",
    "[0,1,1,0,0,0]\n",
    "```"
   ]
  },
  {
   "cell_type": "code",
   "execution_count": 3,
   "metadata": {},
   "outputs": [],
   "source": [
    "ds_df = pd.read_sql_query(\"select * from commitpackft_classified_train\", con)\n",
    "ds_df['class_labels'] = ds_df['bug_type'].apply(lambda bT: add_labels(bT.split(','), classLabels))\n",
    "\n",
    "ds_df = ds_df[ds_df['bug_type'] != 'mobile']\n",
    "ds_df = ds_df[ds_df['old_contents'].str.len() > 0]\n",
    "\n",
    "if DEBUG:\n",
    "    ds_df = ds_df.sample(20)"
   ]
  },
  {
   "cell_type": "markdown",
   "metadata": {},
   "source": [
    "## Data Preprocess"
   ]
  },
  {
   "cell_type": "markdown",
   "metadata": {},
   "source": [
    "### Filter out outlier"
   ]
  },
  {
   "cell_type": "code",
   "execution_count": 4,
   "metadata": {},
   "outputs": [],
   "source": [
    "def count_comment_lines(sample: str) -> int:\n",
    "    comment_blocks = []\n",
    "    start_index = -1\n",
    "    for i, line in enumerate(sample.splitlines()):\n",
    "        if line.strip().startswith('/*'):\n",
    "            start_index = i\n",
    "        elif line.strip().endswith('*/'):\n",
    "            comment_blocks.append([start_index, i])\n",
    "            start_index = -1\n",
    "\n",
    "    comment_lines_count = sum([c[1]-c[0] for c in comment_blocks])\n",
    "\n",
    "    for i, line in enumerate(sample.splitlines()):\n",
    "        if line.strip().startswith('//'):\n",
    "            comment_lines_count += 1\n",
    "    return comment_lines_count\n",
    "\n",
    "ds_df['old_contents_comment_lines_count'] = ds_df['old_contents'].apply(lambda sample: count_comment_lines(sample))\n",
    "ds_df['new_contents_comment_lines_count'] = ds_df['new_contents'].apply(lambda sample: count_comment_lines(sample))\n",
    "\n",
    "# Filter out samples where the sum of comment lines increased more than 3 lines\n",
    "# to prevent excessive masking\n",
    "ds_df = ds_df[abs(ds_df['old_contents_comment_lines_count'] - ds_df['new_contents_comment_lines_count']) <= 3]\n",
    "# Filter out samples with more than 10 comment lines\n",
    "ds_df = ds_df[(ds_df['old_contents_comment_lines_count'] < 10) & (ds_df['new_contents_comment_lines_count'] < 10)]\n",
    "\n",
    "dmp = diff_match_patch()\n",
    "\n",
    "def compute_diffs(sample: dict):\n",
    "    # Compute the differences\n",
    "    diffs = dmp.diff_main(sample['old_contents'], sample['new_contents'])\n",
    "    dmp.diff_cleanupSemantic(diffs)\n",
    "    # Count the changes\n",
    "    return sum(1 for diff in diffs if diff[0] == 1)  # 0 means no change\n",
    "\n",
    "ds_df['num_changes'] = ds_df.apply(lambda sample: compute_diffs(sample), axis=1)\n",
    "\n",
    "# Filter out samples with more than 3 changes in the code\n",
    "ds_df = ds_df[ds_df['num_changes'] <= 3]\n",
    "\n",
    "# filter out samples with more than 50 lines of code\n",
    "ds_df = ds_df[(ds_df['old_contents'].str.count('\\n') <= 50) & (ds_df['new_contents'].str.count('\\n') <= 50)]\n",
    "\n",
    "# filter out samples with more than 2 bug types\n",
    "ds_df = ds_df[ds_df['bug_type'].str.count(',') < 2]"
   ]
  },
  {
   "cell_type": "markdown",
   "metadata": {},
   "source": [
    "### Mask Input Sequences"
   ]
  },
  {
   "cell_type": "code",
   "execution_count": 5,
   "metadata": {},
   "outputs": [],
   "source": [
    "tokenizer = RobertaTokenizer.from_pretrained(HF_DIR)\n",
    "\n",
    "def mask(buggy_code: str, correct_code: str, tokenizer: RobertaTokenizer) -> str:\n",
    "    \"\"\"Η συναρτηση χρησιμοποιεί τον tokenizer του μοντελου,\n",
    "    για να μετατρέψει τον κωδικα σε μια λιστα απο word tokens\n",
    "    πανω στις οποιες εφαρμοζεται συγκριση χαρακτηρα προς χαρακτηρα\n",
    "    για να βρεθουν τα σημεία στην λιστα που βρισκονταιοι διαφορες τους,\n",
    "    ώστε να χρησιμοποιηθουν τα συγκεκριμενα στοιχεια της λιστας στον μηχανισμο\n",
    "    αποκρυψης.\n",
    "    Σεναριο 1: Αν το συνολο των word tokens που αλλαξαν δεν ειναι\n",
    "    μεγαλύτερο απο το 1/4 του συνολου των word tokens τοτε εφαρμοζεται \n",
    "    το στοιχειο μασκα του tokenizer στα word token που αλλαξαν.\n",
    "    Σεναριο 2: Αν το συνολο των word tokens που αλλαξαν ειναι \n",
    "    μεγαλύτερο απο το 1/4 του συνολου των word tokens τοτε εφαρμοζεται η μασκα στα word tokens με τυχαιο τροπο.\n",
    "    Επιστρέφεται ο κώδικας σε μορφη string αφοτου εφαρμόστηκε η τεχνικη \n",
    "    αποκρυψης στα επιλεγμενα στοιχεια.\n",
    "    \n",
    "    Αν σε ολα τα δειγματα εφαρμοζοταν η τεχνικη αποκρυψης \n",
    "    με βαση τις διαφορες στον κωδικα θα δημιουργοταν θορυβος\n",
    "    στο dataset με πολλα outlier δειγματα (π.χ. σε ενα δειγμα που \n",
    "    υπήρχαν πολλές γραμμές με σχόλια και αφαιρεθηκαν, θα δημιουργοταν\n",
    "    ενα δειγμα που το συνολο των word token του θα ηταν το στοιχείο αποκρυψης)\n",
    "    \n",
    "    Args:\n",
    "        buggy_code (str): code before commit\n",
    "        correct_code (str): code after commit\n",
    "        tokenizer (RobertaTokenizer): codebert's tokenizer\n",
    "\n",
    "    Returns:\n",
    "        _type_: str\n",
    "    \"\"\"\n",
    "    buggy_tokens = tokenizer.tokenize(buggy_code)\n",
    "    correct_tokens = tokenizer.tokenize(correct_code)\n",
    "    indices = get_changed_token_indices(buggy_tokens, correct_tokens)\n",
    "    masked_buggy_tokens = buggy_tokens\n",
    "    if len(indices) <= len(buggy_tokens) / 4:\n",
    "        for i1, i2 in indices:\n",
    "            if abs(i2-i1) == 0:\n",
    "                masked_buggy_tokens[i1-1] = tokenizer.mask_token\n",
    "            if abs(i2-i1) == 1:\n",
    "                masked_buggy_tokens[i1] = tokenizer.mask_token\n",
    "            else:\n",
    "                for idx in range(i1,i2):\n",
    "                    masked_buggy_tokens[idx] = tokenizer.mask_token\n",
    "    else:\n",
    "        num_random_masks = random.randint(1, int(len(buggy_tokens) / 4))\n",
    "        random_indices = random.sample(range(1,len(buggy_tokens)), num_random_masks)\n",
    "        for ri in random_indices:\n",
    "            masked_buggy_tokens[ri] = tokenizer.mask_token\n",
    "    return tokenizer.convert_tokens_to_string(masked_buggy_tokens)\n",
    "\n",
    "ds_df['masked_old_contents'] = ds_df.apply(lambda row: mask(row['old_contents'], row['new_contents'], tokenizer), axis=1)"
   ]
  },
  {
   "cell_type": "markdown",
   "metadata": {},
   "source": [
    "### Concatenate Commit Message with the old contents \n",
    "- This way, the commit message is directly provided as additional context, and the models (T5, Bert) can process both the buggy code and the commit message in a unified manner.\n",
    "- This approach will allow the model to learn the relationship between the commit message and the changes made to the code."
   ]
  },
  {
   "cell_type": "code",
   "execution_count": 6,
   "metadata": {},
   "outputs": [
    {
     "name": "stdout",
     "output_type": "stream",
     "text": [
      "Total training samples: 7\n",
      "Total validation samples: 2\n"
     ]
    },
    {
     "name": "stderr",
     "output_type": "stream",
     "text": [
      "/tmp/ipykernel_53110/154398195.py:6: SettingWithCopyWarning: \n",
      "A value is trying to be set on a copy of a slice from a DataFrame.\n",
      "Try using .loc[row_indexer,col_indexer] = value instead\n",
      "\n",
      "See the caveats in the documentation: https://pandas.pydata.org/pandas-docs/stable/user_guide/indexing.html#returning-a-view-versus-a-copy\n",
      "  old_codes['input_seq'] = old_codes['masked_old_contents'].copy()\n",
      "/tmp/ipykernel_53110/154398195.py:8: SettingWithCopyWarning: \n",
      "A value is trying to be set on a copy of a slice from a DataFrame.\n",
      "Try using .loc[row_indexer,col_indexer] = value instead\n",
      "\n",
      "See the caveats in the documentation: https://pandas.pydata.org/pandas-docs/stable/user_guide/indexing.html#returning-a-view-versus-a-copy\n",
      "  new_codes['output_seq'] = new_codes['new_contents'].copy()\n"
     ]
    }
   ],
   "source": [
    "old_codes = ds_df[['message', 'masked_old_contents', 'class_labels']]\n",
    "new_codes = ds_df[['message', 'new_contents', 'class_labels']]\n",
    "if BIMODAL_TRAIN:\n",
    "    old_codes['input_seq'] = '/* ' + old_codes['message'] + '*/\\n' + tokenizer.sep_token + '\\n' + old_codes['masked_old_contents']\n",
    "else:\n",
    "    old_codes['input_seq'] = old_codes['masked_old_contents'].copy()\n",
    "\n",
    "new_codes['output_seq'] = new_codes['new_contents'].copy()\n",
    "TRAIN_old, VAL_old, TRAIN_new, VAL_new = train_test_split(old_codes, new_codes, test_size=VAL_SIZE, random_state=42)\n",
    "\n",
    "print(f\"Total training samples: {len(TRAIN_old)}\")\n",
    "print(f\"Total validation samples: {len(VAL_old)}\")"
   ]
  },
  {
   "cell_type": "markdown",
   "metadata": {},
   "source": [
    "## Prepare Model Input"
   ]
  },
  {
   "cell_type": "code",
   "execution_count": 7,
   "metadata": {},
   "outputs": [],
   "source": [
    "TOKENIZER_MAX_LENGTH = 512\n",
    "\n",
    "TRAIN_encodings = tokenizer(\n",
    "    TRAIN_old['input_seq'].tolist(),\n",
    "    max_length=TOKENIZER_MAX_LENGTH,\n",
    "    pad_to_max_length=True,\n",
    "    return_tensors='pt',\n",
    "    padding='max_length',\n",
    "    truncation=True\n",
    ")\n",
    "\n",
    "VAL_encodings = tokenizer(\n",
    "    VAL_old['input_seq'].tolist(),\n",
    "    max_length=TOKENIZER_MAX_LENGTH,\n",
    "    pad_to_max_length=True,\n",
    "    return_tensors='pt',\n",
    "    padding='max_length',\n",
    "    truncation=True\n",
    ")\n",
    "\n",
    "TRAIN_gt_ids = tokenizer(\n",
    "    TRAIN_new['output_seq'].tolist(),\n",
    "    max_length=TOKENIZER_MAX_LENGTH,\n",
    "    pad_to_max_length=True,\n",
    "    return_tensors='pt',\n",
    "    padding='max_length',\n",
    "    truncation=True\n",
    ").input_ids\n",
    "\n",
    "VAL_gt_ids = tokenizer(\n",
    "    VAL_new['output_seq'].tolist(),\n",
    "    max_length=TOKENIZER_MAX_LENGTH,\n",
    "    pad_to_max_length=True,\n",
    "    return_tensors='pt',\n",
    "    padding='max_length',\n",
    "    truncation=True\n",
    ").input_ids\n",
    "\n",
    "\n",
    "TRAIN_classes = torch.tensor(TRAIN_old['class_labels'].tolist())\n",
    "VAL_classes = torch.tensor(VAL_old['class_labels'].tolist())\n",
    "\n",
    "TRAIN_dataset = CodeBertDataset(encodings=TRAIN_encodings, class_labels=TRAIN_classes, gt_input_ids=TRAIN_gt_ids)\n",
    "VAL_dataset = CodeBertDataset(encodings=VAL_encodings, class_labels=VAL_classes, gt_input_ids=VAL_gt_ids)\n",
    "\n",
    "\n",
    "# Class weights\n",
    "# pos_weight[i] = (Number of negative samples for class i) / (Number of positive samples for class i)\n",
    "num_samples = TRAIN_classes.size(0)\n",
    "num_classes = TRAIN_classes.size(1)\n",
    "\n",
    "pos_counts = torch.sum(TRAIN_classes, dim=0)\n",
    "neg_counts = num_samples - pos_counts\n",
    "class_weights = neg_counts / (pos_counts + 1e-6)\n",
    "class_weights = class_weights.numpy()"
   ]
  },
  {
   "cell_type": "markdown",
   "metadata": {},
   "source": [
    "## Initialize Training Settings"
   ]
  },
  {
   "cell_type": "code",
   "execution_count": 8,
   "metadata": {},
   "outputs": [
    {
     "name": "stderr",
     "output_type": "stream",
     "text": [
      "GPU available: True (cuda), used: True\n",
      "TPU available: False, using: 0 TPU cores\n",
      "HPU available: False, using: 0 HPUs\n",
      "Running in `fast_dev_run` mode: will run the requested loop using 1 batch(es). Logging and checkpointing is suppressed.\n",
      "Some weights of the model checkpoint at microsoft/codebert-base-mlm were not used when initializing RobertaForMaskedLM: ['roberta.pooler.dense.bias', 'roberta.pooler.dense.weight']\n",
      "- This IS expected if you are initializing RobertaForMaskedLM from the checkpoint of a model trained on another task or with another architecture (e.g. initializing a BertForSequenceClassification model from a BertForPreTraining model).\n",
      "- This IS NOT expected if you are initializing RobertaForMaskedLM from the checkpoint of a model that you expect to be exactly identical (initializing a BertForSequenceClassification model from a BertForSequenceClassification model).\n"
     ]
    }
   ],
   "source": [
    "logger = init_logger(log_path=LOG_PATH, model_dir=MODEL_DIR, version=VERSION)\n",
    "checkpoint = init_checkpoint(cpkt_path=CPKT_PATH, model_dir=MODEL_DIR, version=VERSION, targetMetric='val_auxilary_loss')\n",
    "trainer = Trainer(checkpoint=checkpoint,logger=logger,debug=DEBUG, num_epochs=NUM_EPOCHS)\n",
    "\n",
    "if len(LOAD_FROM_CPKT) > 0 and  os.path.exists(LOAD_FROM_CPKT):\n",
    "    model = CodeBertJS.load_from_checkpoint(\n",
    "        LOAD_FROM_CPKT, \n",
    "        class_weights=class_weights,\n",
    "        num_classes=num_classes,\n",
    "        dropout_rate=DROPOUT_RATE,\n",
    "        with_activation=WITH_ACTIVATION,\n",
    "        with_layer_norm=WITH_LAYER_NORM,\n",
    "        tokenizer=tokenizer,\n",
    "        lr=LEARNING_RATE\n",
    "    )\n",
    "else:\n",
    "    model = CodeBertJS(\n",
    "        class_weights=class_weights,\n",
    "        num_classes=num_classes,\n",
    "        dropout_rate=DROPOUT_RATE,\n",
    "        with_activation=WITH_ACTIVATION,\n",
    "        with_layer_norm=WITH_LAYER_NORM,\n",
    "        tokenizer=tokenizer\n",
    "    )\n",
    "model.encoder.train()\n",
    "model.classifier.train()\n",
    "\n",
    "if DEBUG:\n",
    "    model.to('cpu')\n",
    "\n",
    "dataloader = DataLoader(TRAIN_dataset, batch_size=BATCH_SIZE,num_workers=14, shuffle=True)\n",
    "val_dataloader = DataLoader(VAL_dataset, batch_size=BATCH_SIZE, num_workers=14)"
   ]
  },
  {
   "cell_type": "markdown",
   "metadata": {},
   "source": [
    "## Run Training"
   ]
  },
  {
   "cell_type": "code",
   "execution_count": 9,
   "metadata": {},
   "outputs": [
    {
     "name": "stderr",
     "output_type": "stream",
     "text": [
      "/home/disras/miniconda3/envs/thesis/lib/python3.8/site-packages/pytorch_lightning/callbacks/model_checkpoint.py:654: Checkpoint directory /home/disras/projects/JSRepair/checkpoints exists and is not empty.\n",
      "LOCAL_RANK: 0 - CUDA_VISIBLE_DEVICES: [0]\n",
      "\n",
      "  | Name          | Type               | Params | Mode \n",
      "-------------------------------------------------------------\n",
      "0 | encoder       | RobertaForMaskedLM | 124 M  | train\n",
      "1 | layer_norm    | LayerNorm          | 1.5 K  | train\n",
      "2 | hidden_layer  | Linear             | 590 K  | train\n",
      "3 | activation    | ReLU               | 0      | train\n",
      "4 | dropout       | Dropout            | 0      | train\n",
      "5 | classifier    | Linear             | 3.8 K  | train\n",
      "6 | codebert_loss | CrossEntropyLoss   | 0      | train\n",
      "-------------------------------------------------------------\n",
      "125 M     Trainable params\n",
      "0         Non-trainable params\n",
      "125 M     Total params\n",
      "501.174   Total estimated model params size (MB)\n",
      "236       Modules in train mode\n",
      "0         Modules in eval mode\n"
     ]
    },
    {
     "name": "stdout",
     "output_type": "stream",
     "text": [
      "Adjusting learning rate of group 0 to 3.3333e-04.\n"
     ]
    },
    {
     "data": {
      "application/vnd.jupyter.widget-view+json": {
       "model_id": "c0aafcc4bfa24a99a4e1b6d66b262be2",
       "version_major": 2,
       "version_minor": 0
      },
      "text/plain": [
       "Training: |          | 0/? [00:00<?, ?it/s]"
      ]
     },
     "metadata": {},
     "output_type": "display_data"
    },
    {
     "name": "stderr",
     "output_type": "stream",
     "text": [
      "/home/disras/miniconda3/envs/thesis/lib/python3.8/site-packages/torch/utils/checkpoint.py:429: UserWarning: torch.utils.checkpoint: please pass in use_reentrant=True or use_reentrant=False explicitly. The default value of use_reentrant will be updated to be False in the future. To maintain current behavior, pass use_reentrant=True. It is recommended that you use use_reentrant=False. Refer to docs for more details on the differences between the two variants.\n",
      "  warnings.warn(\n"
     ]
    },
    {
     "data": {
      "application/vnd.jupyter.widget-view+json": {
       "model_id": "0e9b021f427b4ec3b11341ce501f392a",
       "version_major": 2,
       "version_minor": 0
      },
      "text/plain": [
       "Validation: |          | 0/? [00:00<?, ?it/s]"
      ]
     },
     "metadata": {},
     "output_type": "display_data"
    },
    {
     "ename": "NameError",
     "evalue": "name 'auxilary_loss' is not defined",
     "output_type": "error",
     "traceback": [
      "\u001b[0;31m---------------------------------------------------------------------------\u001b[0m",
      "\u001b[0;31mNameError\u001b[0m                                 Traceback (most recent call last)",
      "Cell \u001b[0;32mIn[9], line 9\u001b[0m\n\u001b[1;32m      2\u001b[0m     trainer\u001b[38;5;241m.\u001b[39mfit(\n\u001b[1;32m      3\u001b[0m         model,\n\u001b[1;32m      4\u001b[0m         train_dataloaders\u001b[38;5;241m=\u001b[39mdataloader,\n\u001b[1;32m      5\u001b[0m         val_dataloaders\u001b[38;5;241m=\u001b[39mval_dataloader,\n\u001b[1;32m      6\u001b[0m         ckpt_path\u001b[38;5;241m=\u001b[39mLOAD_FROM_CPKT\n\u001b[1;32m      7\u001b[0m     )\n\u001b[1;32m      8\u001b[0m \u001b[38;5;28;01melse\u001b[39;00m:\n\u001b[0;32m----> 9\u001b[0m     \u001b[43mtrainer\u001b[49m\u001b[38;5;241;43m.\u001b[39;49m\u001b[43mfit\u001b[49m\u001b[43m(\u001b[49m\n\u001b[1;32m     10\u001b[0m \u001b[43m        \u001b[49m\u001b[43mmodel\u001b[49m\u001b[43m,\u001b[49m\n\u001b[1;32m     11\u001b[0m \u001b[43m        \u001b[49m\u001b[43mtrain_dataloaders\u001b[49m\u001b[38;5;241;43m=\u001b[39;49m\u001b[43mdataloader\u001b[49m\u001b[43m,\u001b[49m\n\u001b[1;32m     12\u001b[0m \u001b[43m        \u001b[49m\u001b[43mval_dataloaders\u001b[49m\u001b[38;5;241;43m=\u001b[39;49m\u001b[43mval_dataloader\u001b[49m\n\u001b[1;32m     13\u001b[0m \u001b[43m    \u001b[49m\u001b[43m)\u001b[49m\n",
      "File \u001b[0;32m~/miniconda3/envs/thesis/lib/python3.8/site-packages/pytorch_lightning/trainer/trainer.py:538\u001b[0m, in \u001b[0;36mTrainer.fit\u001b[0;34m(self, model, train_dataloaders, val_dataloaders, datamodule, ckpt_path)\u001b[0m\n\u001b[1;32m    536\u001b[0m \u001b[38;5;28mself\u001b[39m\u001b[38;5;241m.\u001b[39mstate\u001b[38;5;241m.\u001b[39mstatus \u001b[38;5;241m=\u001b[39m TrainerStatus\u001b[38;5;241m.\u001b[39mRUNNING\n\u001b[1;32m    537\u001b[0m \u001b[38;5;28mself\u001b[39m\u001b[38;5;241m.\u001b[39mtraining \u001b[38;5;241m=\u001b[39m \u001b[38;5;28;01mTrue\u001b[39;00m\n\u001b[0;32m--> 538\u001b[0m \u001b[43mcall\u001b[49m\u001b[38;5;241;43m.\u001b[39;49m\u001b[43m_call_and_handle_interrupt\u001b[49m\u001b[43m(\u001b[49m\n\u001b[1;32m    539\u001b[0m \u001b[43m    \u001b[49m\u001b[38;5;28;43mself\u001b[39;49m\u001b[43m,\u001b[49m\u001b[43m \u001b[49m\u001b[38;5;28;43mself\u001b[39;49m\u001b[38;5;241;43m.\u001b[39;49m\u001b[43m_fit_impl\u001b[49m\u001b[43m,\u001b[49m\u001b[43m \u001b[49m\u001b[43mmodel\u001b[49m\u001b[43m,\u001b[49m\u001b[43m \u001b[49m\u001b[43mtrain_dataloaders\u001b[49m\u001b[43m,\u001b[49m\u001b[43m \u001b[49m\u001b[43mval_dataloaders\u001b[49m\u001b[43m,\u001b[49m\u001b[43m \u001b[49m\u001b[43mdatamodule\u001b[49m\u001b[43m,\u001b[49m\u001b[43m \u001b[49m\u001b[43mckpt_path\u001b[49m\n\u001b[1;32m    540\u001b[0m \u001b[43m\u001b[49m\u001b[43m)\u001b[49m\n",
      "File \u001b[0;32m~/miniconda3/envs/thesis/lib/python3.8/site-packages/pytorch_lightning/trainer/call.py:47\u001b[0m, in \u001b[0;36m_call_and_handle_interrupt\u001b[0;34m(trainer, trainer_fn, *args, **kwargs)\u001b[0m\n\u001b[1;32m     45\u001b[0m     \u001b[38;5;28;01mif\u001b[39;00m trainer\u001b[38;5;241m.\u001b[39mstrategy\u001b[38;5;241m.\u001b[39mlauncher \u001b[38;5;129;01mis\u001b[39;00m \u001b[38;5;129;01mnot\u001b[39;00m \u001b[38;5;28;01mNone\u001b[39;00m:\n\u001b[1;32m     46\u001b[0m         \u001b[38;5;28;01mreturn\u001b[39;00m trainer\u001b[38;5;241m.\u001b[39mstrategy\u001b[38;5;241m.\u001b[39mlauncher\u001b[38;5;241m.\u001b[39mlaunch(trainer_fn, \u001b[38;5;241m*\u001b[39margs, trainer\u001b[38;5;241m=\u001b[39mtrainer, \u001b[38;5;241m*\u001b[39m\u001b[38;5;241m*\u001b[39mkwargs)\n\u001b[0;32m---> 47\u001b[0m     \u001b[38;5;28;01mreturn\u001b[39;00m \u001b[43mtrainer_fn\u001b[49m\u001b[43m(\u001b[49m\u001b[38;5;241;43m*\u001b[39;49m\u001b[43margs\u001b[49m\u001b[43m,\u001b[49m\u001b[43m \u001b[49m\u001b[38;5;241;43m*\u001b[39;49m\u001b[38;5;241;43m*\u001b[39;49m\u001b[43mkwargs\u001b[49m\u001b[43m)\u001b[49m\n\u001b[1;32m     49\u001b[0m \u001b[38;5;28;01mexcept\u001b[39;00m _TunerExitException:\n\u001b[1;32m     50\u001b[0m     _call_teardown_hook(trainer)\n",
      "File \u001b[0;32m~/miniconda3/envs/thesis/lib/python3.8/site-packages/pytorch_lightning/trainer/trainer.py:574\u001b[0m, in \u001b[0;36mTrainer._fit_impl\u001b[0;34m(self, model, train_dataloaders, val_dataloaders, datamodule, ckpt_path)\u001b[0m\n\u001b[1;32m    567\u001b[0m \u001b[38;5;28;01massert\u001b[39;00m \u001b[38;5;28mself\u001b[39m\u001b[38;5;241m.\u001b[39mstate\u001b[38;5;241m.\u001b[39mfn \u001b[38;5;129;01mis\u001b[39;00m \u001b[38;5;129;01mnot\u001b[39;00m \u001b[38;5;28;01mNone\u001b[39;00m\n\u001b[1;32m    568\u001b[0m ckpt_path \u001b[38;5;241m=\u001b[39m \u001b[38;5;28mself\u001b[39m\u001b[38;5;241m.\u001b[39m_checkpoint_connector\u001b[38;5;241m.\u001b[39m_select_ckpt_path(\n\u001b[1;32m    569\u001b[0m     \u001b[38;5;28mself\u001b[39m\u001b[38;5;241m.\u001b[39mstate\u001b[38;5;241m.\u001b[39mfn,\n\u001b[1;32m    570\u001b[0m     ckpt_path,\n\u001b[1;32m    571\u001b[0m     model_provided\u001b[38;5;241m=\u001b[39m\u001b[38;5;28;01mTrue\u001b[39;00m,\n\u001b[1;32m    572\u001b[0m     model_connected\u001b[38;5;241m=\u001b[39m\u001b[38;5;28mself\u001b[39m\u001b[38;5;241m.\u001b[39mlightning_module \u001b[38;5;129;01mis\u001b[39;00m \u001b[38;5;129;01mnot\u001b[39;00m \u001b[38;5;28;01mNone\u001b[39;00m,\n\u001b[1;32m    573\u001b[0m )\n\u001b[0;32m--> 574\u001b[0m \u001b[38;5;28;43mself\u001b[39;49m\u001b[38;5;241;43m.\u001b[39;49m\u001b[43m_run\u001b[49m\u001b[43m(\u001b[49m\u001b[43mmodel\u001b[49m\u001b[43m,\u001b[49m\u001b[43m \u001b[49m\u001b[43mckpt_path\u001b[49m\u001b[38;5;241;43m=\u001b[39;49m\u001b[43mckpt_path\u001b[49m\u001b[43m)\u001b[49m\n\u001b[1;32m    576\u001b[0m \u001b[38;5;28;01massert\u001b[39;00m \u001b[38;5;28mself\u001b[39m\u001b[38;5;241m.\u001b[39mstate\u001b[38;5;241m.\u001b[39mstopped\n\u001b[1;32m    577\u001b[0m \u001b[38;5;28mself\u001b[39m\u001b[38;5;241m.\u001b[39mtraining \u001b[38;5;241m=\u001b[39m \u001b[38;5;28;01mFalse\u001b[39;00m\n",
      "File \u001b[0;32m~/miniconda3/envs/thesis/lib/python3.8/site-packages/pytorch_lightning/trainer/trainer.py:981\u001b[0m, in \u001b[0;36mTrainer._run\u001b[0;34m(self, model, ckpt_path)\u001b[0m\n\u001b[1;32m    976\u001b[0m \u001b[38;5;28mself\u001b[39m\u001b[38;5;241m.\u001b[39m_signal_connector\u001b[38;5;241m.\u001b[39mregister_signal_handlers()\n\u001b[1;32m    978\u001b[0m \u001b[38;5;66;03m# ----------------------------\u001b[39;00m\n\u001b[1;32m    979\u001b[0m \u001b[38;5;66;03m# RUN THE TRAINER\u001b[39;00m\n\u001b[1;32m    980\u001b[0m \u001b[38;5;66;03m# ----------------------------\u001b[39;00m\n\u001b[0;32m--> 981\u001b[0m results \u001b[38;5;241m=\u001b[39m \u001b[38;5;28;43mself\u001b[39;49m\u001b[38;5;241;43m.\u001b[39;49m\u001b[43m_run_stage\u001b[49m\u001b[43m(\u001b[49m\u001b[43m)\u001b[49m\n\u001b[1;32m    983\u001b[0m \u001b[38;5;66;03m# ----------------------------\u001b[39;00m\n\u001b[1;32m    984\u001b[0m \u001b[38;5;66;03m# POST-Training CLEAN UP\u001b[39;00m\n\u001b[1;32m    985\u001b[0m \u001b[38;5;66;03m# ----------------------------\u001b[39;00m\n\u001b[1;32m    986\u001b[0m log\u001b[38;5;241m.\u001b[39mdebug(\u001b[38;5;124mf\u001b[39m\u001b[38;5;124m\"\u001b[39m\u001b[38;5;132;01m{\u001b[39;00m\u001b[38;5;28mself\u001b[39m\u001b[38;5;241m.\u001b[39m\u001b[38;5;18m__class__\u001b[39m\u001b[38;5;241m.\u001b[39m\u001b[38;5;18m__name__\u001b[39m\u001b[38;5;132;01m}\u001b[39;00m\u001b[38;5;124m: trainer tearing down\u001b[39m\u001b[38;5;124m\"\u001b[39m)\n",
      "File \u001b[0;32m~/miniconda3/envs/thesis/lib/python3.8/site-packages/pytorch_lightning/trainer/trainer.py:1025\u001b[0m, in \u001b[0;36mTrainer._run_stage\u001b[0;34m(self)\u001b[0m\n\u001b[1;32m   1023\u001b[0m         \u001b[38;5;28mself\u001b[39m\u001b[38;5;241m.\u001b[39m_run_sanity_check()\n\u001b[1;32m   1024\u001b[0m     \u001b[38;5;28;01mwith\u001b[39;00m torch\u001b[38;5;241m.\u001b[39mautograd\u001b[38;5;241m.\u001b[39mset_detect_anomaly(\u001b[38;5;28mself\u001b[39m\u001b[38;5;241m.\u001b[39m_detect_anomaly):\n\u001b[0;32m-> 1025\u001b[0m         \u001b[38;5;28;43mself\u001b[39;49m\u001b[38;5;241;43m.\u001b[39;49m\u001b[43mfit_loop\u001b[49m\u001b[38;5;241;43m.\u001b[39;49m\u001b[43mrun\u001b[49m\u001b[43m(\u001b[49m\u001b[43m)\u001b[49m\n\u001b[1;32m   1026\u001b[0m     \u001b[38;5;28;01mreturn\u001b[39;00m \u001b[38;5;28;01mNone\u001b[39;00m\n\u001b[1;32m   1027\u001b[0m \u001b[38;5;28;01mraise\u001b[39;00m \u001b[38;5;167;01mRuntimeError\u001b[39;00m(\u001b[38;5;124mf\u001b[39m\u001b[38;5;124m\"\u001b[39m\u001b[38;5;124mUnexpected state \u001b[39m\u001b[38;5;132;01m{\u001b[39;00m\u001b[38;5;28mself\u001b[39m\u001b[38;5;241m.\u001b[39mstate\u001b[38;5;132;01m}\u001b[39;00m\u001b[38;5;124m\"\u001b[39m)\n",
      "File \u001b[0;32m~/miniconda3/envs/thesis/lib/python3.8/site-packages/pytorch_lightning/loops/fit_loop.py:205\u001b[0m, in \u001b[0;36m_FitLoop.run\u001b[0;34m(self)\u001b[0m\n\u001b[1;32m    203\u001b[0m \u001b[38;5;28;01mtry\u001b[39;00m:\n\u001b[1;32m    204\u001b[0m     \u001b[38;5;28mself\u001b[39m\u001b[38;5;241m.\u001b[39mon_advance_start()\n\u001b[0;32m--> 205\u001b[0m     \u001b[38;5;28;43mself\u001b[39;49m\u001b[38;5;241;43m.\u001b[39;49m\u001b[43madvance\u001b[49m\u001b[43m(\u001b[49m\u001b[43m)\u001b[49m\n\u001b[1;32m    206\u001b[0m     \u001b[38;5;28mself\u001b[39m\u001b[38;5;241m.\u001b[39mon_advance_end()\n\u001b[1;32m    207\u001b[0m     \u001b[38;5;28mself\u001b[39m\u001b[38;5;241m.\u001b[39m_restarting \u001b[38;5;241m=\u001b[39m \u001b[38;5;28;01mFalse\u001b[39;00m\n",
      "File \u001b[0;32m~/miniconda3/envs/thesis/lib/python3.8/site-packages/pytorch_lightning/loops/fit_loop.py:363\u001b[0m, in \u001b[0;36m_FitLoop.advance\u001b[0;34m(self)\u001b[0m\n\u001b[1;32m    361\u001b[0m \u001b[38;5;28;01mwith\u001b[39;00m \u001b[38;5;28mself\u001b[39m\u001b[38;5;241m.\u001b[39mtrainer\u001b[38;5;241m.\u001b[39mprofiler\u001b[38;5;241m.\u001b[39mprofile(\u001b[38;5;124m\"\u001b[39m\u001b[38;5;124mrun_training_epoch\u001b[39m\u001b[38;5;124m\"\u001b[39m):\n\u001b[1;32m    362\u001b[0m     \u001b[38;5;28;01massert\u001b[39;00m \u001b[38;5;28mself\u001b[39m\u001b[38;5;241m.\u001b[39m_data_fetcher \u001b[38;5;129;01mis\u001b[39;00m \u001b[38;5;129;01mnot\u001b[39;00m \u001b[38;5;28;01mNone\u001b[39;00m\n\u001b[0;32m--> 363\u001b[0m     \u001b[38;5;28;43mself\u001b[39;49m\u001b[38;5;241;43m.\u001b[39;49m\u001b[43mepoch_loop\u001b[49m\u001b[38;5;241;43m.\u001b[39;49m\u001b[43mrun\u001b[49m\u001b[43m(\u001b[49m\u001b[38;5;28;43mself\u001b[39;49m\u001b[38;5;241;43m.\u001b[39;49m\u001b[43m_data_fetcher\u001b[49m\u001b[43m)\u001b[49m\n",
      "File \u001b[0;32m~/miniconda3/envs/thesis/lib/python3.8/site-packages/pytorch_lightning/loops/training_epoch_loop.py:141\u001b[0m, in \u001b[0;36m_TrainingEpochLoop.run\u001b[0;34m(self, data_fetcher)\u001b[0m\n\u001b[1;32m    139\u001b[0m \u001b[38;5;28;01mtry\u001b[39;00m:\n\u001b[1;32m    140\u001b[0m     \u001b[38;5;28mself\u001b[39m\u001b[38;5;241m.\u001b[39madvance(data_fetcher)\n\u001b[0;32m--> 141\u001b[0m     \u001b[38;5;28;43mself\u001b[39;49m\u001b[38;5;241;43m.\u001b[39;49m\u001b[43mon_advance_end\u001b[49m\u001b[43m(\u001b[49m\u001b[43mdata_fetcher\u001b[49m\u001b[43m)\u001b[49m\n\u001b[1;32m    142\u001b[0m     \u001b[38;5;28mself\u001b[39m\u001b[38;5;241m.\u001b[39m_restarting \u001b[38;5;241m=\u001b[39m \u001b[38;5;28;01mFalse\u001b[39;00m\n\u001b[1;32m    143\u001b[0m \u001b[38;5;28;01mexcept\u001b[39;00m \u001b[38;5;167;01mStopIteration\u001b[39;00m:\n",
      "File \u001b[0;32m~/miniconda3/envs/thesis/lib/python3.8/site-packages/pytorch_lightning/loops/training_epoch_loop.py:295\u001b[0m, in \u001b[0;36m_TrainingEpochLoop.on_advance_end\u001b[0;34m(self, data_fetcher)\u001b[0m\n\u001b[1;32m    291\u001b[0m \u001b[38;5;28;01mif\u001b[39;00m \u001b[38;5;129;01mnot\u001b[39;00m \u001b[38;5;28mself\u001b[39m\u001b[38;5;241m.\u001b[39m_should_accumulate():\n\u001b[1;32m    292\u001b[0m     \u001b[38;5;66;03m# clear gradients to not leave any unused memory during validation\u001b[39;00m\n\u001b[1;32m    293\u001b[0m     call\u001b[38;5;241m.\u001b[39m_call_lightning_module_hook(\u001b[38;5;28mself\u001b[39m\u001b[38;5;241m.\u001b[39mtrainer, \u001b[38;5;124m\"\u001b[39m\u001b[38;5;124mon_validation_model_zero_grad\u001b[39m\u001b[38;5;124m\"\u001b[39m)\n\u001b[0;32m--> 295\u001b[0m \u001b[38;5;28;43mself\u001b[39;49m\u001b[38;5;241;43m.\u001b[39;49m\u001b[43mval_loop\u001b[49m\u001b[38;5;241;43m.\u001b[39;49m\u001b[43mrun\u001b[49m\u001b[43m(\u001b[49m\u001b[43m)\u001b[49m\n\u001b[1;32m    296\u001b[0m \u001b[38;5;28mself\u001b[39m\u001b[38;5;241m.\u001b[39mtrainer\u001b[38;5;241m.\u001b[39mtraining \u001b[38;5;241m=\u001b[39m \u001b[38;5;28;01mTrue\u001b[39;00m\n\u001b[1;32m    297\u001b[0m \u001b[38;5;28mself\u001b[39m\u001b[38;5;241m.\u001b[39mtrainer\u001b[38;5;241m.\u001b[39m_logger_connector\u001b[38;5;241m.\u001b[39m_first_loop_iter \u001b[38;5;241m=\u001b[39m first_loop_iter\n",
      "File \u001b[0;32m~/miniconda3/envs/thesis/lib/python3.8/site-packages/pytorch_lightning/loops/utilities.py:178\u001b[0m, in \u001b[0;36m_no_grad_context.<locals>._decorator\u001b[0;34m(self, *args, **kwargs)\u001b[0m\n\u001b[1;32m    176\u001b[0m     context_manager \u001b[38;5;241m=\u001b[39m torch\u001b[38;5;241m.\u001b[39mno_grad\n\u001b[1;32m    177\u001b[0m \u001b[38;5;28;01mwith\u001b[39;00m context_manager():\n\u001b[0;32m--> 178\u001b[0m     \u001b[38;5;28;01mreturn\u001b[39;00m \u001b[43mloop_run\u001b[49m\u001b[43m(\u001b[49m\u001b[38;5;28;43mself\u001b[39;49m\u001b[43m,\u001b[49m\u001b[43m \u001b[49m\u001b[38;5;241;43m*\u001b[39;49m\u001b[43margs\u001b[49m\u001b[43m,\u001b[49m\u001b[43m \u001b[49m\u001b[38;5;241;43m*\u001b[39;49m\u001b[38;5;241;43m*\u001b[39;49m\u001b[43mkwargs\u001b[49m\u001b[43m)\u001b[49m\n",
      "File \u001b[0;32m~/miniconda3/envs/thesis/lib/python3.8/site-packages/pytorch_lightning/loops/evaluation_loop.py:135\u001b[0m, in \u001b[0;36m_EvaluationLoop.run\u001b[0;34m(self)\u001b[0m\n\u001b[1;32m    133\u001b[0m     \u001b[38;5;28mself\u001b[39m\u001b[38;5;241m.\u001b[39mbatch_progress\u001b[38;5;241m.\u001b[39mis_last_batch \u001b[38;5;241m=\u001b[39m data_fetcher\u001b[38;5;241m.\u001b[39mdone\n\u001b[1;32m    134\u001b[0m     \u001b[38;5;66;03m# run step hooks\u001b[39;00m\n\u001b[0;32m--> 135\u001b[0m     \u001b[38;5;28;43mself\u001b[39;49m\u001b[38;5;241;43m.\u001b[39;49m\u001b[43m_evaluation_step\u001b[49m\u001b[43m(\u001b[49m\u001b[43mbatch\u001b[49m\u001b[43m,\u001b[49m\u001b[43m \u001b[49m\u001b[43mbatch_idx\u001b[49m\u001b[43m,\u001b[49m\u001b[43m \u001b[49m\u001b[43mdataloader_idx\u001b[49m\u001b[43m,\u001b[49m\u001b[43m \u001b[49m\u001b[43mdataloader_iter\u001b[49m\u001b[43m)\u001b[49m\n\u001b[1;32m    136\u001b[0m \u001b[38;5;28;01mexcept\u001b[39;00m \u001b[38;5;167;01mStopIteration\u001b[39;00m:\n\u001b[1;32m    137\u001b[0m     \u001b[38;5;66;03m# this needs to wrap the `*_step` call too (not just `next`) for `dataloader_iter` support\u001b[39;00m\n\u001b[1;32m    138\u001b[0m     \u001b[38;5;28;01mbreak\u001b[39;00m\n",
      "File \u001b[0;32m~/miniconda3/envs/thesis/lib/python3.8/site-packages/pytorch_lightning/loops/evaluation_loop.py:396\u001b[0m, in \u001b[0;36m_EvaluationLoop._evaluation_step\u001b[0;34m(self, batch, batch_idx, dataloader_idx, dataloader_iter)\u001b[0m\n\u001b[1;32m    390\u001b[0m hook_name \u001b[38;5;241m=\u001b[39m \u001b[38;5;124m\"\u001b[39m\u001b[38;5;124mtest_step\u001b[39m\u001b[38;5;124m\"\u001b[39m \u001b[38;5;28;01mif\u001b[39;00m trainer\u001b[38;5;241m.\u001b[39mtesting \u001b[38;5;28;01melse\u001b[39;00m \u001b[38;5;124m\"\u001b[39m\u001b[38;5;124mvalidation_step\u001b[39m\u001b[38;5;124m\"\u001b[39m\n\u001b[1;32m    391\u001b[0m step_args \u001b[38;5;241m=\u001b[39m (\n\u001b[1;32m    392\u001b[0m     \u001b[38;5;28mself\u001b[39m\u001b[38;5;241m.\u001b[39m_build_step_args_from_hook_kwargs(hook_kwargs, hook_name)\n\u001b[1;32m    393\u001b[0m     \u001b[38;5;28;01mif\u001b[39;00m \u001b[38;5;129;01mnot\u001b[39;00m using_dataloader_iter\n\u001b[1;32m    394\u001b[0m     \u001b[38;5;28;01melse\u001b[39;00m (dataloader_iter,)\n\u001b[1;32m    395\u001b[0m )\n\u001b[0;32m--> 396\u001b[0m output \u001b[38;5;241m=\u001b[39m \u001b[43mcall\u001b[49m\u001b[38;5;241;43m.\u001b[39;49m\u001b[43m_call_strategy_hook\u001b[49m\u001b[43m(\u001b[49m\u001b[43mtrainer\u001b[49m\u001b[43m,\u001b[49m\u001b[43m \u001b[49m\u001b[43mhook_name\u001b[49m\u001b[43m,\u001b[49m\u001b[43m \u001b[49m\u001b[38;5;241;43m*\u001b[39;49m\u001b[43mstep_args\u001b[49m\u001b[43m)\u001b[49m\n\u001b[1;32m    398\u001b[0m \u001b[38;5;28mself\u001b[39m\u001b[38;5;241m.\u001b[39mbatch_progress\u001b[38;5;241m.\u001b[39mincrement_processed()\n\u001b[1;32m    400\u001b[0m \u001b[38;5;28;01mif\u001b[39;00m using_dataloader_iter:\n\u001b[1;32m    401\u001b[0m     \u001b[38;5;66;03m# update the hook kwargs now that the step method might have consumed the iterator\u001b[39;00m\n",
      "File \u001b[0;32m~/miniconda3/envs/thesis/lib/python3.8/site-packages/pytorch_lightning/trainer/call.py:319\u001b[0m, in \u001b[0;36m_call_strategy_hook\u001b[0;34m(trainer, hook_name, *args, **kwargs)\u001b[0m\n\u001b[1;32m    316\u001b[0m     \u001b[38;5;28;01mreturn\u001b[39;00m \u001b[38;5;28;01mNone\u001b[39;00m\n\u001b[1;32m    318\u001b[0m \u001b[38;5;28;01mwith\u001b[39;00m trainer\u001b[38;5;241m.\u001b[39mprofiler\u001b[38;5;241m.\u001b[39mprofile(\u001b[38;5;124mf\u001b[39m\u001b[38;5;124m\"\u001b[39m\u001b[38;5;124m[Strategy]\u001b[39m\u001b[38;5;132;01m{\u001b[39;00mtrainer\u001b[38;5;241m.\u001b[39mstrategy\u001b[38;5;241m.\u001b[39m\u001b[38;5;18m__class__\u001b[39m\u001b[38;5;241m.\u001b[39m\u001b[38;5;18m__name__\u001b[39m\u001b[38;5;132;01m}\u001b[39;00m\u001b[38;5;124m.\u001b[39m\u001b[38;5;132;01m{\u001b[39;00mhook_name\u001b[38;5;132;01m}\u001b[39;00m\u001b[38;5;124m\"\u001b[39m):\n\u001b[0;32m--> 319\u001b[0m     output \u001b[38;5;241m=\u001b[39m \u001b[43mfn\u001b[49m\u001b[43m(\u001b[49m\u001b[38;5;241;43m*\u001b[39;49m\u001b[43margs\u001b[49m\u001b[43m,\u001b[49m\u001b[43m \u001b[49m\u001b[38;5;241;43m*\u001b[39;49m\u001b[38;5;241;43m*\u001b[39;49m\u001b[43mkwargs\u001b[49m\u001b[43m)\u001b[49m\n\u001b[1;32m    321\u001b[0m \u001b[38;5;66;03m# restore current_fx when nested context\u001b[39;00m\n\u001b[1;32m    322\u001b[0m pl_module\u001b[38;5;241m.\u001b[39m_current_fx_name \u001b[38;5;241m=\u001b[39m prev_fx_name\n",
      "File \u001b[0;32m~/miniconda3/envs/thesis/lib/python3.8/site-packages/pytorch_lightning/strategies/strategy.py:411\u001b[0m, in \u001b[0;36mStrategy.validation_step\u001b[0;34m(self, *args, **kwargs)\u001b[0m\n\u001b[1;32m    409\u001b[0m \u001b[38;5;28;01mif\u001b[39;00m \u001b[38;5;28mself\u001b[39m\u001b[38;5;241m.\u001b[39mmodel \u001b[38;5;241m!=\u001b[39m \u001b[38;5;28mself\u001b[39m\u001b[38;5;241m.\u001b[39mlightning_module:\n\u001b[1;32m    410\u001b[0m     \u001b[38;5;28;01mreturn\u001b[39;00m \u001b[38;5;28mself\u001b[39m\u001b[38;5;241m.\u001b[39m_forward_redirection(\u001b[38;5;28mself\u001b[39m\u001b[38;5;241m.\u001b[39mmodel, \u001b[38;5;28mself\u001b[39m\u001b[38;5;241m.\u001b[39mlightning_module, \u001b[38;5;124m\"\u001b[39m\u001b[38;5;124mvalidation_step\u001b[39m\u001b[38;5;124m\"\u001b[39m, \u001b[38;5;241m*\u001b[39margs, \u001b[38;5;241m*\u001b[39m\u001b[38;5;241m*\u001b[39mkwargs)\n\u001b[0;32m--> 411\u001b[0m \u001b[38;5;28;01mreturn\u001b[39;00m \u001b[38;5;28;43mself\u001b[39;49m\u001b[38;5;241;43m.\u001b[39;49m\u001b[43mlightning_module\u001b[49m\u001b[38;5;241;43m.\u001b[39;49m\u001b[43mvalidation_step\u001b[49m\u001b[43m(\u001b[49m\u001b[38;5;241;43m*\u001b[39;49m\u001b[43margs\u001b[49m\u001b[43m,\u001b[49m\u001b[43m \u001b[49m\u001b[38;5;241;43m*\u001b[39;49m\u001b[38;5;241;43m*\u001b[39;49m\u001b[43mkwargs\u001b[49m\u001b[43m)\u001b[49m\n",
      "File \u001b[0;32m~/projects/JSRepair/modules/models.py:156\u001b[0m, in \u001b[0;36mCodeBertJS.validation_step\u001b[0;34m(self, batch, batch_idx)\u001b[0m\n\u001b[1;32m    154\u001b[0m \u001b[38;5;28mself\u001b[39m\u001b[38;5;241m.\u001b[39mlog(\u001b[38;5;124m\"\u001b[39m\u001b[38;5;124mclassification_loss\u001b[39m\u001b[38;5;124m\"\u001b[39m, classification_loss, prog_bar\u001b[38;5;241m=\u001b[39m\u001b[38;5;28;01mTrue\u001b[39;00m, logger\u001b[38;5;241m=\u001b[39m\u001b[38;5;28;01mTrue\u001b[39;00m)\n\u001b[1;32m    155\u001b[0m \u001b[38;5;28mself\u001b[39m\u001b[38;5;241m.\u001b[39mlog(\u001b[38;5;124m\"\u001b[39m\u001b[38;5;124mval_auxilary_loss\u001b[39m\u001b[38;5;124m\"\u001b[39m, val_auxilary_loss, prog_bar\u001b[38;5;241m=\u001b[39m\u001b[38;5;28;01mTrue\u001b[39;00m, logger\u001b[38;5;241m=\u001b[39m\u001b[38;5;28;01mTrue\u001b[39;00m)\n\u001b[0;32m--> 156\u001b[0m \u001b[38;5;28;01mreturn\u001b[39;00m {\u001b[38;5;124m'\u001b[39m\u001b[38;5;124mclassification_loss\u001b[39m\u001b[38;5;124m'\u001b[39m : classification_loss, \u001b[38;5;124m'\u001b[39m\u001b[38;5;124mloss\u001b[39m\u001b[38;5;124m'\u001b[39m: loss, \u001b[38;5;124m\"\u001b[39m\u001b[38;5;124mauxilary_loss\u001b[39m\u001b[38;5;124m\"\u001b[39m : \u001b[43mauxilary_loss\u001b[49m}\n",
      "\u001b[0;31mNameError\u001b[0m: name 'auxilary_loss' is not defined"
     ]
    }
   ],
   "source": [
    "if len(LOAD_FROM_CPKT) > 0 and os.path.exists(LOAD_FROM_CPKT):\n",
    "    trainer.fit(\n",
    "        model,\n",
    "        train_dataloaders=dataloader,\n",
    "        val_dataloaders=val_dataloader,\n",
    "        ckpt_path=LOAD_FROM_CPKT\n",
    "    )\n",
    "else:\n",
    "    trainer.fit(\n",
    "        model,\n",
    "        train_dataloaders=dataloader,\n",
    "        val_dataloaders=val_dataloader\n",
    "    )"
   ]
  },
  {
   "cell_type": "markdown",
   "metadata": {},
   "source": [
    "### Save Model Config to CSV "
   ]
  },
  {
   "cell_type": "code",
   "execution_count": 10,
   "metadata": {},
   "outputs": [],
   "source": [
    "if not DEBUG:\n",
    "    import gspread\n",
    "    from google.colab import auth\n",
    "    from oauth2client.client import GoogleCredentials\n",
    "    from google.auth import default\n",
    "\n",
    "    auth.authenticate_user()\n",
    "    creds, _ = default()\n",
    "    gc = gspread.authorize(creds)\n",
    "\n",
    "    spreadsheet = gc.open(\"model-configs\").sheet1\n",
    "    modelConfig = {\n",
    "            'name': MODEL_DIR,\n",
    "            'tokenizer_max_length': TOKENIZER_MAX_LENGTH,\n",
    "            'num_classes': num_classes,\n",
    "            'dropout_rate': DROPOUT_RATE,\n",
    "            'with_activation': WITH_ACTIVATION,\n",
    "            'with_layer_norm': WITH_LAYER_NORM,\n",
    "            'learning_rate': LEARNING_RATE,\n",
    "            'bimodal_train': BIMODAL_TRAIN\n",
    "    }\n",
    "    spreadsheet.append_row(list(modelConfig.values()))"
   ]
  },
  {
   "cell_type": "markdown",
   "metadata": {},
   "source": [
    "# Testing"
   ]
  },
  {
   "cell_type": "markdown",
   "metadata": {},
   "source": [
    "## Load Test Dataset"
   ]
  },
  {
   "cell_type": "code",
   "execution_count": null,
   "metadata": {},
   "outputs": [],
   "source": [
    "test_df = pd.read_sql_query('select * from commitpackft_classified_test', con)\n",
    "test_df['class_labels'] = test_df['bug_type'].apply(lambda bT: add_labels(bT, classLabels))\n",
    "\n",
    "test_df = test_df[test_df['bug_type'] != 'mobile']\n",
    "test_df['input_seq'] = '\\* ' + test_df['message'] + '*/\\n' + model.tokenizer.sep_token + '\\n' + test_df['old_contents']\n",
    "test_df['output_seq'] = '\\* ' + test_df['message'] + '*/\\n' + model.tokenizer.sep_token + '\\n' + test_df['new_contents']\n",
    "\n",
    "if DEBUG:\n",
    "    test_df = test_df.sample(10)\n",
    "\n",
    "test_df.head()"
   ]
  },
  {
   "cell_type": "markdown",
   "metadata": {},
   "source": [
    "## Data Preprocessing"
   ]
  },
  {
   "cell_type": "code",
   "execution_count": null,
   "metadata": {},
   "outputs": [],
   "source": [
    "test_df['old_contents_comment_lines_count'] = test_df['old_contents'].apply(lambda sample: count_comment_lines(sample))\n",
    "test_df['new_contents_comment_lines_count'] = test_df['new_contents'].apply(lambda sample: count_comment_lines(sample))\n",
    "\n",
    "# Filter out samples where the sum of comment lines increased more than 3 lines\n",
    "# to prevent excessive masking\n",
    "test_df = test_df[abs(test_df['old_contents_comment_lines_count'] - test_df['new_contents_comment_lines_count']) <= 3]\n",
    "# Filter out samples with more than 10 comment lines\n",
    "test_df = test_df[(test_df['old_contents_comment_lines_count'] < 10) & (test_df['new_contents_comment_lines_count'] < 10)]\n",
    "\n",
    "dmp = diff_match_patch()\n",
    "\n",
    "def compute_diffs(sample: dict):\n",
    "    # Compute the differences\n",
    "    diffs = dmp.diff_main(sample['old_contents'], sample['new_contents'])\n",
    "    dmp.diff_cleanupSemantic(diffs)\n",
    "    # Count the changes\n",
    "    return sum(1 for diff in diffs if diff[0] == 1)  # 0 means no change\n",
    "\n",
    "test_df['num_changes'] = test_df.apply(lambda sample: compute_diffs(sample), axis=1)\n",
    "\n",
    "# Filter out samples with more than 3 changes in the code\n",
    "test_df = test_df[test_df['num_changes'] <= 3]\n",
    "\n",
    "# filter out samples with more than 50 lines of code\n",
    "test_df = test_df[(test_df['old_contents'].str.count('\\n') <= 50) & (test_df['new_contents'].str.count('\\n') <= 50)]\n",
    "\n",
    "# filter out samples with more than 2 bug types\n",
    "test_df = test_df[test_df['bug_type'].str.count(',') < 2]\n",
    "print(f\"Total test samples after filtering: {len(test_df)}\")"
   ]
  },
  {
   "cell_type": "markdown",
   "metadata": {},
   "source": [
    "## Tokenize Data"
   ]
  },
  {
   "cell_type": "code",
   "execution_count": 15,
   "metadata": {},
   "outputs": [],
   "source": [
    "encoded_samples = model.tokenizer(\n",
    "    test_df['input_seq'].tolist(),\n",
    "    max_length=TOKENIZER_MAX_LENGTH,\n",
    "    padding='max_length',\n",
    "    truncation=True,\n",
    "    return_tensors='pt',\n",
    ")\n",
    "\n",
    "encoded_labels = model.tokenizer(\n",
    "    test_df['output_seq'].tolist(),\n",
    "    max_length=TOKENIZER_MAX_LENGTH,\n",
    "    padding='max_length',\n",
    "    truncation=True,\n",
    "    return_tensors='pt',\n",
    ").input_ids\n",
    "\n",
    "labels = torch.tensor(test_df['class_labels'].tolist())"
   ]
  },
  {
   "cell_type": "markdown",
   "metadata": {},
   "source": [
    "## Testing Script"
   ]
  },
  {
   "cell_type": "code",
   "execution_count": null,
   "metadata": {},
   "outputs": [],
   "source": [
    "METRICS_PATH = 'metrics' if os.path.exists('metrics') else '/content/drive/MyDrive/Thesis/metrics'\n",
    "os.environ['METRICS_PATH'] = METRICS_PATH\n",
    "os.environ['VERSION'] = str(VERSION)\n",
    "MODEL_NAME = 'CodeBert'\n",
    "os.environ['MODEL_NAME'] = MODEL_NAME\n",
    "\n",
    "model.eval()\n",
    "\n",
    "torch_ds = CodeBertDataset(encodings=encoded_samples, gt_input_ids=encoded_labels, class_labels=labels)\n",
    "loader = DataLoader(torch_ds, batch_size=1, num_workers=14)\n",
    "\n",
    "trainer = plTrainer()\n",
    "trainer.test(model=model, dataloaders=loader)"
   ]
  },
  {
   "cell_type": "markdown",
   "metadata": {},
   "source": [
    "## Compute Metrics\n",
    "\n",
    "**ROUGE (Recall-Oriented understudy for Gisting Evaluation**\n",
    "- A metric for evaluation text generation/sumamrization models.\n",
    "- It measures the overlap between machine generated text (prediction) and its human generated corresponding text (reference)\\ \n",
    "- [0,1] { close to 0: poor similarity, close to 1: better similarity}\n",
    "- n-gram: seq of n words\n",
    "\n",
    "Variations\n",
    "- ROUGE-N : μετράει το σύνολο της επικάλυψης *[πόσες φορές εμφανίζετε στο παραγώμενο κείμενο]* το n-gram μεταξύ των προβλέψεων και του πραγματικού κειμένου\n",
    "\n",
    "- ROUGE-N_recall : num n gram matches / num of n-gram in reference\n",
    "- ROUGE-N-precision : nummber of n-gram matches / number of n gram in prediction\n",
    "- ROUGE-L : Βασίζεται στο μάκρος του μεγαλύτερης κοινής υπό-ακολουθίας (Longest Common Sequence -LCS) . Υπολογίζει το μέτρο f-measure\n",
    "    - ROUGE-L_recall : LCS / num words in reference\n",
    "    - ROUGE-L_precision : LCS / num words in prediction"
   ]
  },
  {
   "cell_type": "code",
   "execution_count": 19,
   "metadata": {},
   "outputs": [],
   "source": [
    "from modules.metrics import CodeRouge\n",
    "import json\n",
    "\n",
    "rouge = CodeRouge(['rouge7','rouge8','rouge9','rougeL','rougeLsum'])\n",
    "\n",
    "rouge.compute(predictions=model.generated_codes, references=test_df['new_contents'].tolist())\n",
    "rouge.calc_averages()\n",
    "\n",
    "avgs_path = f\"{METRICS_PATH}/{MODEL_NAME}_v{VERSION}/rouge.json\"\n",
    "all_path = f\"{METRICS_PATH}/{MODEL_NAME}_v{VERSION}/avg_rouge.csv\"\n",
    "with open(avgs_path, 'a') as f:\n",
    "    json.dump(rouge.avgs, f, indent=4)\n",
    "\n",
    "all_scores = []\n",
    "for r in rouge.rouge_types:\n",
    "    all_scores += rouge.rouge_type_to_list(r)\n",
    "\n",
    "metrics_df = pd.DataFrame(all_scores)\n",
    "\n",
    "for m in ['precision','recall','fmeasure']:\n",
    "    metrics_df[m] = round(metrics_df[m], 3)\n",
    "metrics_df.to_csv(all_path, index=False)"
   ]
  },
  {
   "cell_type": "markdown",
   "metadata": {},
   "source": [
    "## Model Comparisons"
   ]
  },
  {
   "cell_type": "markdown",
   "metadata": {},
   "source": [
    "### Bar Plots"
   ]
  },
  {
   "cell_type": "code",
   "execution_count": null,
   "metadata": {},
   "outputs": [],
   "source": [
    "codebert_avgs = rouge.avgs\n",
    "\n",
    "comparison_model_path = input('Comparison model avg ROUGE-N metrics path: ')\n",
    "comparison_model = comparison_model_path.split('/')[-2]\n",
    "if not os.path.exists(comparison_model_path):\n",
    "    raise RuntimeError('Metrics path does not exist.')\n",
    "\n",
    "with open(comparison_model_path, 'r') as f:\n",
    "    codet5_avgs = json.load(f)\n",
    "\n",
    "\n",
    "plot_data = {\n",
    "    f\"{MODEL_NAME}_v{VERSION}\": (round(codebert_avgs['avg_rouge7'].fmeasure, 5), round(codebert_avgs['avg_rouge8'].fmeasure, 5), round(codebert_avgs['avg_rouge9'].fmeasure, 5), round(codebert_avgs['avg_rougeL'].fmeasure, 5), round(codebert_avgs['avg_rougeLsum'].fmeasure, 5)),\n",
    "    comparison_model: (round(codet5_avgs['avg_rouge7'][2], 5), round(codet5_avgs['avg_rouge8'][2], 5), round(codet5_avgs['avg_rouge9'][2], 5), round(codet5_avgs['avg_rougeL'][2], 5), round(codet5_avgs['avg_rougeLsum'][2], 5)),\n",
    "}\n",
    "\n",
    "metric_types = ('Rouge-7', 'Rouge-8','Rouge-9', 'Rouge-L', 'Rouge-Lsum')\n",
    "x = np.arange(len(metric_types))\n",
    "width = 0.15\n",
    "multiplier = 0\n",
    "\n",
    "fix, ax = plt.subplots(layout='constrained')\n",
    "\n",
    "\n",
    "for model, values in plot_data.items():\n",
    "    offset = width * multiplier\n",
    "    rects = ax.bar(x + offset, values, width, label=model)\n",
    "    ax.bar_label(rects, padding=3)\n",
    "    multiplier += 1\n",
    "\n",
    "ax.set_ylabel('Score')\n",
    "ax.set_title('F-Measure Model Comparison')\n",
    "ax.set_xticks(x + width, metric_types)\n",
    "ax.legend(loc='upper left', ncols=4)\n",
    "ax.set_ylim(0, 1.2)\n",
    "\n",
    "plt.savefig(f\"{METRICS_PATH}/{MODEL_NAME}_{VERSION}_vs_{comparison_model}.png\", dpi=300, bbox_inches='tight')\n",
    "plt.show()"
   ]
  },
  {
   "cell_type": "markdown",
   "metadata": {},
   "source": [
    "### Chart"
   ]
  },
  {
   "cell_type": "code",
   "execution_count": null,
   "metadata": {},
   "outputs": [],
   "source": [
    "import json\n",
    "import matplotlib.pyplot as plt\n",
    "import numpy as np\n",
    "\n",
    "codebert_avgs = rouge.avgs  # Assuming rouge is a library/function that provides average scores\n",
    "\n",
    "comparison_model_path = input('Comparison model avg ROUGE-N metrics path: ')\n",
    "comparison_model = comparison_model = comparison_model_path.split('/')[-2]\n",
    "if not os.path.exists(comparison_model_path):\n",
    "    raise RuntimeError('Metrics path does not exist.')\n",
    "\n",
    "with open(comparison_model_path, 'r') as f:\n",
    "    codet5_avgs = json.load(f)\n",
    "\n",
    "# Define metric types (assuming same metrics for both models)\n",
    "metric_types = ('Rouge-7', 'Rouge-8', 'Rouge-9', 'Rouge-L', 'Rouge-Lsum')\n",
    "\n",
    "# Create a figure with 3 rows (subplots) and 1 column\n",
    "fig, (ax1, ax2, ax3) = plt.subplots(3, 1, figsize=(20, 16))\n",
    "\n",
    "# Data dictionaries for each metric (assuming data structure from rouge)\n",
    "precision_data = {\n",
    "    f\"{MODEL_NAME}_v{VERSION}\": (codebert_avgs['avg_rouge7'].precision, codebert_avgs['avg_rouge8'].precision, codebert_avgs['avg_rouge9'].precision, codebert_avgs['avg_rougeL'].precision, codebert_avgs['avg_rougeLsum'].precision),\n",
    "    comparison_model: (codet5_avgs['avg_rouge7'][0], codet5_avgs['avg_rouge8'][0], codet5_avgs['avg_rouge9'][0], codet5_avgs['avg_rougeL'][0], codet5_avgs['avg_rougeLsum'][0]),\n",
    "}\n",
    "recall_data = {\n",
    "    f\"{MODEL_NAME}_v{VERSION}\": (codebert_avgs['avg_rouge7'].recall, codebert_avgs['avg_rouge8'].recall, codebert_avgs['avg_rouge9'].recall, codebert_avgs['avg_rougeL'].recall, codebert_avgs['avg_rougeLsum'].recall),\n",
    "    comparison_model: (codet5_avgs['avg_rouge7'][1], codet5_avgs['avg_rouge8'][1], codet5_avgs['avg_rouge9'][1], codet5_avgs['avg_rougeL'][1], codet5_avgs['avg_rougeLsum'][1]),\n",
    "}\n",
    "f1_data = {\n",
    "    f\"{MODEL_NAME}_v{VERSION}\": (codebert_avgs['avg_rouge7'].fmeasure, codebert_avgs['avg_rouge8'].fmeasure, codebert_avgs['avg_rouge9'].fmeasure, codebert_avgs['avg_rougeL'].fmeasure, codebert_avgs['avg_rougeLsum'].fmeasure),\n",
    "    comparison_model: (round(codet5_avgs['avg_rouge7'][2], 5), round(codet5_avgs['avg_rouge8'][2], 5), round(codet5_avgs['avg_rouge9'][2], 5), round(codet5_avgs['avg_rougeL'][2], 5), round(codet5_avgs['avg_rougeLsum'][2], 5)),\n",
    "}\n",
    "\n",
    "\n",
    "# Plot Precision (ax1)\n",
    "for model, precision in precision_data.items():\n",
    "    ax1.plot(metric_types, precision, label=model, marker='s')  # 's' for square marker\n",
    "ax1.set_xlabel('ROUGE-N')\n",
    "ax1.set_ylabel('Precision')\n",
    "ax1.grid(True)\n",
    "\n",
    "# Plot Recall (ax2)\n",
    "for model, recall in recall_data.items():\n",
    "    ax2.plot(metric_types, recall, label=model, marker='s')  # 'o' for circle marker\n",
    "ax2.set_xlabel('ROUGE-N')\n",
    "ax2.set_ylabel('Recall')\n",
    "ax2.grid(True)\n",
    "\n",
    "# Plot F1 Score (ax3)\n",
    "for model, f1 in f1_data.items():\n",
    "    ax3.plot(metric_types, f1, label=model, marker='s')\n",
    "ax3.set_xlabel('ROUGE-N')\n",
    "ax3.set_ylabel('F-measure')\n",
    "ax3.grid(True)\n",
    "\n",
    "plt.legend(loc='upper left')\n",
    "plt.tight_layout()\n",
    "\n",
    "# Save the entire figure as a single PNG\n",
    "plt.savefig(f\"{METRICS_PATH}/{MODEL_NAME}_{VERSION}_vs_{comparison_model}.png\", dpi=300, bbox_inches='tight')\n",
    "ax"
   ]
  }
 ],
 "metadata": {
  "kernelspec": {
   "display_name": "thesis",
   "language": "python",
   "name": "python3"
  },
  "language_info": {
   "codemirror_mode": {
    "name": "ipython",
    "version": 3
   },
   "file_extension": ".py",
   "mimetype": "text/x-python",
   "name": "python",
   "nbconvert_exporter": "python",
   "pygments_lexer": "ipython3",
   "version": "3.8.18"
  }
 },
 "nbformat": 4,
 "nbformat_minor": 2
}
