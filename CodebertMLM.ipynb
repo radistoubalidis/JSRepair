{
 "cells": [
  {
   "cell_type": "code",
   "execution_count": 3,
   "metadata": {},
   "outputs": [],
   "source": [
    "import os\n",
    "from transformers import RobertaTokenizer\n",
    "from sklearn.model_selection import train_test_split\n",
    "from modules.TrainConfig import init_checkpoint, init_logger, Trainer, masker\n",
    "from modules.models import CodeBertJS\n",
    "from modules.datasets import CodeBertDataset\n",
    "from torch.utils.data import DataLoader\n",
    "import sqlite3\n",
    "import pandas as pd\n",
    "import json"
   ]
  },
  {
   "cell_type": "code",
   "execution_count": 5,
   "metadata": {},
   "outputs": [],
   "source": [
    "HF_DIR = 'microsoft/codebert-base-mlm'\n",
    "TOKENIZER_MAX_LENGTH = int(input('Tokenizer Max length: '))\n",
    "DB_PATH = input('Paste sqlite3 path: ')\n",
    "DB_TABLE = input('Paste sqlite3 dataset table name: ')\n",
    "if not os.path.exists(DB_PATH):\n",
    "    raise RuntimeError('sqlite3 path doesnt exist.')\n",
    "VAL_SIZE = 0.3\n",
    "LOG_PATH = input('Paste Log path:')\n",
    "MODEL_DIR = 'CodeBertJS'\n",
    "VERSION = int(input('Training version: '))\n",
    "LOAD_FROM_CPKT = input(\"Load from existing model (type cpkt path if true): \")\n",
    "BATCH_SIZE = int(input('Batch size: '))\n",
    "DEBUG = True if int(input('Debug Run (1,0): ')) == 1 else False\n",
    "CPKT_PATH = input('Paste checkpoints dir: ')\n",
    "MASK_PROB = float(input(\"Paste MLM probability: \"))"
   ]
  },
  {
   "cell_type": "code",
   "execution_count": 6,
   "metadata": {},
   "outputs": [],
   "source": [
    "con = sqlite3.connect(DB_PATH)\n",
    "\n",
    "def get_query(bug_type: str) -> str:\n",
    "    return f\"SELECT * FROM {DB_TABLE} WHERE bug_type like '%{bug_type}%'\"\n",
    "\n",
    "with open('bug-types.json', 'r') as f:\n",
    "    bugTypesDir = json.load(f)['data']\n",
    "bugTypes = [row['type'] for row in bugTypesDir]\n",
    "bugTypesStr = \", \".join(bugTypes)\n",
    "\n",
    "selectedBugType = input(f\"Select a bug type to train on ({bugTypesStr})\")\n",
    "if not any(selectedBugType in bT for bT in bugTypes):\n",
    "    raise ValueError('Invalid Bug Type')\n",
    "\n",
    "ds_df = pd.read_sql_query(get_query(selectedBugType), con)\n",
    "new_codes = ds_df['new_contents'].tolist()\n",
    "\n",
    "tokenizer = RobertaTokenizer.from_pretrained(HF_DIR)\n",
    "\n",
    "\n",
    "def test_masker(code):\n",
    "    try:\n",
    "        return masker(code, tokenizer)\n",
    "    except Exception as e:\n",
    "        print(code)\n",
    "        raise e\n",
    "\n",
    "masked_new_codes = list(map(lambda c: test_masker(c), new_codes))\n",
    "TRAIN_masked, VAL_masked, TRAIN_gt, VAL_gt = train_test_split(masked_new_codes, new_codes, test_size=VAL_SIZE, random_state=42)\n",
    "\n",
    "TRAIN_encodings = tokenizer(\n",
    "    TRAIN_masked,\n",
    "    max_length=TOKENIZER_MAX_LENGTH,\n",
    "    pad_to_max_length=True,\n",
    "    return_tensors='pt',\n",
    "    padding='max_length',\n",
    "    truncation=True\n",
    ")\n",
    "\n",
    "VAL_encodings = tokenizer(\n",
    "    VAL_masked,\n",
    "    max_length=TOKENIZER_MAX_LENGTH,\n",
    "    pad_to_max_length=True,\n",
    "    return_tensors='pt',\n",
    "    padding='max_length',\n",
    "    truncation=True\n",
    ")\n",
    "\n",
    "TRAIN_GT_input_ids = tokenizer(\n",
    "    TRAIN_gt,\n",
    "    max_length=TOKENIZER_MAX_LENGTH,\n",
    "    pad_to_max_length=True,\n",
    "    return_tensors='pt',\n",
    "    padding='max_length',\n",
    "    truncation=True\n",
    ").input_ids\n",
    "\n",
    "VAL_GT_input_ds = tokenizer(\n",
    "    VAL_gt,\n",
    "        max_length=TOKENIZER_MAX_LENGTH,\n",
    "    pad_to_max_length=True,\n",
    "    return_tensors='pt',\n",
    "    padding='max_length',\n",
    "    truncation=True\n",
    ").input_ids"
   ]
  },
  {
   "cell_type": "code",
   "execution_count": 7,
   "metadata": {},
   "outputs": [
    {
     "name": "stderr",
     "output_type": "stream",
     "text": [
      "GPU available: True (cuda), used: True\n",
      "TPU available: False, using: 0 TPU cores\n",
      "IPU available: False, using: 0 IPUs\n",
      "HPU available: False, using: 0 HPUs\n",
      "Running in `fast_dev_run` mode: will run the requested loop using 1 batch(es). Logging and checkpointing is suppressed.\n",
      "Some weights of the model checkpoint at microsoft/codebert-base-mlm were not used when initializing RobertaForMaskedLM: ['roberta.pooler.dense.bias', 'roberta.pooler.dense.weight']\n",
      "- This IS expected if you are initializing RobertaForMaskedLM from the checkpoint of a model trained on another task or with another architecture (e.g. initializing a BertForSequenceClassification model from a BertForPreTraining model).\n",
      "- This IS NOT expected if you are initializing RobertaForMaskedLM from the checkpoint of a model that you expect to be exactly identical (initializing a BertForSequenceClassification model from a BertForSequenceClassification model).\n",
      "/home/disras/miniconda3/envs/thesis/lib/python3.8/site-packages/pytorch_lightning/callbacks/model_checkpoint.py:653: Checkpoint directory /home/disras/projects/JSRepair/checkpoints exists and is not empty.\n",
      "LOCAL_RANK: 0 - CUDA_VISIBLE_DEVICES: [0]\n",
      "\n",
      "  | Name      | Type               | Params\n",
      "-------------------------------------------------\n",
      "0 | encoder   | RobertaForMaskedLM | 124 M \n",
      "1 | criterion | CrossEntropyLoss   | 0     \n",
      "-------------------------------------------------\n",
      "124 M     Trainable params\n",
      "0         Non-trainable params\n",
      "124 M     Total params\n",
      "498.790   Total estimated model params size (MB)\n"
     ]
    },
    {
     "data": {
      "application/vnd.jupyter.widget-view+json": {
       "model_id": "ce9506adc81e43f798bfcc563bebb5b5",
       "version_major": 2,
       "version_minor": 0
      },
      "text/plain": [
       "Training: |          | 0/? [00:00<?, ?it/s]"
      ]
     },
     "metadata": {},
     "output_type": "display_data"
    },
    {
     "data": {
      "application/vnd.jupyter.widget-view+json": {
       "model_id": "0436ebdcec9c4721b78d1a563689ca25",
       "version_major": 2,
       "version_minor": 0
      },
      "text/plain": [
       "Validation: |          | 0/? [00:00<?, ?it/s]"
      ]
     },
     "metadata": {},
     "output_type": "display_data"
    },
    {
     "name": "stderr",
     "output_type": "stream",
     "text": [
      "`Trainer.fit` stopped: `max_steps=1` reached.\n"
     ]
    }
   ],
   "source": [
    "logger = init_logger(log_path=LOG_PATH, bugType=selectedBugType, model_dir=MODEL_DIR, version=VERSION)\n",
    "checkpoint = init_checkpoint(cpkt_path=CPKT_PATH, bugType=selectedBugType, model_dir=MODEL_DIR, version=VERSION)\n",
    "trainer = Trainer(checkpoint=checkpoint,logger=logger,debug=DEBUG, num_epochs=3)\n",
    "\n",
    "if len(LOAD_FROM_CPKT) > 0 and  os.path.exists(LOAD_FROM_CPKT):\n",
    "    model = CodeBertJS.load_from_checkpoint(LOAD_FROM_CPKT)\n",
    "else:\n",
    "    model = CodeBertJS()\n",
    "model.encoder.train()\n",
    "\n",
    "\n",
    "TRAIN_dataset = CodeBertDataset(TRAIN_encodings, TRAIN_GT_input_ids)\n",
    "VAL_dataset = CodeBertDataset(VAL_encodings, VAL_GT_input_ds)\n",
    "dataloader = DataLoader(TRAIN_dataset, batch_size=BATCH_SIZE,num_workers=7, shuffle=True)\n",
    "val_dataloader = DataLoader(VAL_dataset, batch_size=1, num_workers=7)\n",
    "\n",
    "\n",
    "trainer.fit(\n",
    "    model,\n",
    "    train_dataloaders=dataloader,\n",
    "    val_dataloaders=val_dataloader\n",
    ")"
   ]
  }
 ],
 "metadata": {
  "kernelspec": {
   "display_name": "thesis",
   "language": "python",
   "name": "python3"
  },
  "language_info": {
   "codemirror_mode": {
    "name": "ipython",
    "version": 3
   },
   "file_extension": ".py",
   "mimetype": "text/x-python",
   "name": "python",
   "nbconvert_exporter": "python",
   "pygments_lexer": "ipython3",
   "version": "3.8.18"
  }
 },
 "nbformat": 4,
 "nbformat_minor": 2
}
