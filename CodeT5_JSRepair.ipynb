{
 "cells": [
  {
   "cell_type": "code",
   "execution_count": null,
   "metadata": {
    "colab": {
     "base_uri": "https://localhost:8080/"
    },
    "id": "Pa7PA6UMH2pn",
    "outputId": "cf90110e-36c6-4548-e514-d627463b9aea"
   },
   "outputs": [],
   "source": [
    "from google.colab import drive\n",
    "drive.mount('/content/drive')"
   ]
  },
  {
   "cell_type": "code",
   "execution_count": null,
   "metadata": {
    "colab": {
     "base_uri": "https://localhost:8080/"
    },
    "collapsed": true,
    "id": "eOOMW_SjH4WG",
    "outputId": "93d2e433-369f-4422-924e-d3b70ab27287"
   },
   "outputs": [],
   "source": [
    "!git clone https://github.com/radistoubalidis/JSRepair.git\n",
    "\n",
    "!pip install pytorch_lightning\n",
    "!python -m pip install lightning\n",
    "!pip install datasets\n",
    "!pip install python-dotenv"
   ]
  },
  {
   "cell_type": "code",
   "execution_count": null,
   "metadata": {
    "colab": {
     "base_uri": "https://localhost:8080/"
    },
    "id": "eOMP9ujKQr0H",
    "outputId": "1103161d-11e5-4299-953b-bb803853980b"
   },
   "outputs": [],
   "source": [
    "%cd ./JSRepair"
   ]
  },
  {
   "cell_type": "code",
   "execution_count": 2,
   "metadata": {
    "colab": {
     "base_uri": "https://localhost:8080/"
    },
    "id": "mi-6we72Hti5",
    "outputId": "93acf221-20cf-4126-8a24-4ad691905596"
   },
   "outputs": [],
   "source": [
    "import os\n",
    "import pandas as pd\n",
    "import sqlite3\n",
    "from transformers import (\n",
    "    RobertaTokenizer,\n",
    ")\n",
    "from modules.models import CodeT5\n",
    "from modules.datasets import CodeT5Dataset\n",
    "from modules.TrainConfig import init_logger, init_checkpoint, Trainer\n",
    "from modules.filters import add_labels\n",
    "from torch.utils.data import DataLoader\n",
    "from sklearn.model_selection import train_test_split\n",
    "from typing import List\n",
    "import torch"
   ]
  },
  {
   "cell_type": "code",
   "execution_count": 3,
   "metadata": {
    "colab": {
     "base_uri": "https://localhost:8080/"
    },
    "id": "I9liNYnTHti6",
    "outputId": "3cc1b8e0-0c42-486c-cecc-33d83605694d"
   },
   "outputs": [],
   "source": [
    "HF_DIR = 'Salesforce/codet5-small'\n",
    "TOKENIZER_MAX_LENGTH = 420 #int(input('Tokenizer Max length: '))\n",
    "DB_PATH = 'commitpack-datasets.db' if os.path.exists('commitpack-datasets.db') else '/content/drive/MyDrive/Thesis/commitpack-datasets.db'\n",
    "DB_TABLE = 'commitpackft_classified_train'\n",
    "if not os.path.exists(DB_PATH):\n",
    "    raise RuntimeError('sqlite3 path doesnt exist.')\n",
    "VAL_SIZE = 0.3\n",
    "LOG_PATH = 'logs' if os.path.exists('logs') else '/content/drive/MyDrive/Thesis/logs'\n",
    "VERSION = int(input('Training version: '))\n",
    "LOAD_FROM_CPKT = input(\"Load from existing model (type cpkt path if true): \")\n",
    "DEBUG = True if int(input('Debug Run (1,0): ')) == 1 else False\n",
    "BATCH_SIZE = 2 if DEBUG is True else 32\n",
    "CPKT_PATH = 'checkpoints' if os.path.exists('checkpoints') else '/content/drive/MyDrive/Thesis/checkpoints'\n",
    "WITH_MOBILE = True if int(input('Consider mobile class (1,0): ')) == 1 else False\n",
    "\n",
    "if WITH_MOBILE:\n",
    "    classLabels = {\n",
    "        \"mobile\" : 0.,\n",
    "        \"functionality\" : 0.,\n",
    "        \"ui-ux\" : 0.,\n",
    "        \"compatibility-performance\" : 0.,\n",
    "        \"network-security\" : 0.,\n",
    "        \"general\": 0.\n",
    "    }\n",
    "else:\n",
    "    classLabels = {\n",
    "        \"functionality\" : 0.,\n",
    "        \"ui-ux\" : 0.,\n",
    "        \"compatibility-performance\" : 0.,\n",
    "        \"network-security\" : 0.,\n",
    "        \"general\": 0.\n",
    "    }\n",
    "    \n",
    "num_classes = len(classLabels.keys())\n",
    "MODEL_DIR = f\"CodeT5JS_{num_classes}classes\"\n",
    "con = sqlite3.connect(DB_PATH)"
   ]
  },
  {
   "cell_type": "markdown",
   "metadata": {
    "id": "bY7b8IO-JG2A"
   },
   "source": [
    "# Types of Bugs distribution in samples"
   ]
  },
  {
   "cell_type": "code",
   "execution_count": 4,
   "metadata": {
    "colab": {
     "base_uri": "https://localhost:8080/",
     "height": 238
    },
    "id": "urdA7KyTHti7",
    "outputId": "3648d104-7a17-40e7-dc43-fe89765df04e"
   },
   "outputs": [
    {
     "data": {
      "text/html": [
       "<div>\n",
       "<style scoped>\n",
       "    .dataframe tbody tr th:only-of-type {\n",
       "        vertical-align: middle;\n",
       "    }\n",
       "\n",
       "    .dataframe tbody tr th {\n",
       "        vertical-align: top;\n",
       "    }\n",
       "\n",
       "    .dataframe thead th {\n",
       "        text-align: right;\n",
       "    }\n",
       "</style>\n",
       "<table border=\"1\" class=\"dataframe\">\n",
       "  <thead>\n",
       "    <tr style=\"text-align: right;\">\n",
       "      <th></th>\n",
       "      <th>count(*)</th>\n",
       "      <th>bug_type</th>\n",
       "    </tr>\n",
       "  </thead>\n",
       "  <tbody>\n",
       "    <tr>\n",
       "      <th>0</th>\n",
       "      <td>90</td>\n",
       "      <td>mobile</td>\n",
       "    </tr>\n",
       "    <tr>\n",
       "      <th>1</th>\n",
       "      <td>2862</td>\n",
       "      <td>general</td>\n",
       "    </tr>\n",
       "    <tr>\n",
       "      <th>2</th>\n",
       "      <td>3147</td>\n",
       "      <td>ui-ux</td>\n",
       "    </tr>\n",
       "    <tr>\n",
       "      <th>3</th>\n",
       "      <td>3159</td>\n",
       "      <td>network-security</td>\n",
       "    </tr>\n",
       "    <tr>\n",
       "      <th>4</th>\n",
       "      <td>4396</td>\n",
       "      <td>compatibility-performance</td>\n",
       "    </tr>\n",
       "    <tr>\n",
       "      <th>5</th>\n",
       "      <td>4532</td>\n",
       "      <td>functionality</td>\n",
       "    </tr>\n",
       "  </tbody>\n",
       "</table>\n",
       "</div>"
      ],
      "text/plain": [
       "   count(*)                   bug_type\n",
       "0        90                     mobile\n",
       "1      2862                    general\n",
       "2      3147                      ui-ux\n",
       "3      3159           network-security\n",
       "4      4396  compatibility-performance\n",
       "5      4532              functionality"
      ]
     },
     "execution_count": 4,
     "metadata": {},
     "output_type": "execute_result"
    }
   ],
   "source": [
    "with open('bug-type-dist-query_train.sql', 'r') as f:\n",
    "    query = f.read()\n",
    "\n",
    "info_df = pd.read_sql_query(query, con)\n",
    "info_df"
   ]
  },
  {
   "cell_type": "markdown",
   "metadata": {
    "id": "87tUL_bQHti7"
   },
   "source": [
    "# Create Classification Labels\n",
    "\n",
    "```json\n",
    "{\n",
    "    \"mobile\" : 0,\n",
    "    \"functionality\" : 0,\n",
    "    \"ui-ux\" : 0,\n",
    "    \"compatibility-performance\" : 0,\n",
    "    \"network-security\" : 0,\n",
    "    \"general\": 0\n",
    "}\n",
    "\n",
    "Ένα δείγμα που κατηγοριοποιήθηκε ως σφάλμα λειτουργικότητας(functionality) και ui-ux θα έχει διάνυσμα ταξινόμησης ->\n",
    "[0,1,1,0,0,0]\n",
    "```\n"
   ]
  },
  {
   "cell_type": "code",
   "execution_count": 5,
   "metadata": {
    "colab": {
     "base_uri": "https://localhost:8080/"
    },
    "id": "6mRHGm6JHti8",
    "outputId": "8104dc01-adc2-488a-87fe-5b5bb84e751f"
   },
   "outputs": [
    {
     "data": {
      "text/html": [
       "<div>\n",
       "<style scoped>\n",
       "    .dataframe tbody tr th:only-of-type {\n",
       "        vertical-align: middle;\n",
       "    }\n",
       "\n",
       "    .dataframe tbody tr th {\n",
       "        vertical-align: top;\n",
       "    }\n",
       "\n",
       "    .dataframe thead th {\n",
       "        text-align: right;\n",
       "    }\n",
       "</style>\n",
       "<table border=\"1\" class=\"dataframe\">\n",
       "  <thead>\n",
       "    <tr style=\"text-align: right;\">\n",
       "      <th></th>\n",
       "      <th>index</th>\n",
       "      <th>commit</th>\n",
       "      <th>old_file</th>\n",
       "      <th>new_file</th>\n",
       "      <th>old_contents</th>\n",
       "      <th>new_contents</th>\n",
       "      <th>subject</th>\n",
       "      <th>message</th>\n",
       "      <th>lang</th>\n",
       "      <th>license</th>\n",
       "      <th>repos</th>\n",
       "      <th>processed_message</th>\n",
       "      <th>is_bug</th>\n",
       "      <th>bug_type</th>\n",
       "      <th>class_labels</th>\n",
       "    </tr>\n",
       "  </thead>\n",
       "  <tbody>\n",
       "    <tr>\n",
       "      <th>0</th>\n",
       "      <td>14193</td>\n",
       "      <td>225ae89c984227f9c2cfbe0278618758256e577f</td>\n",
       "      <td>server.js</td>\n",
       "      <td>server.js</td>\n",
       "      <td>\\n/**\\n * @description  a string as a paramete...</td>\n",
       "      <td>var express = require('express')\\nvar strftime...</td>\n",
       "      <td>Add example code to test Heroku error app not ...</td>\n",
       "      <td>Add example code to test Heroku error app not ...</td>\n",
       "      <td>JavaScript</td>\n",
       "      <td>mit</td>\n",
       "      <td>kiwi-lifter/timestamp-api,kiwi-lifter/timestam...</td>\n",
       "      <td>add exampl code test heroku error app load</td>\n",
       "      <td>1</td>\n",
       "      <td>functionality,compatibility-performance</td>\n",
       "      <td>[1.0, 0.0, 1.0, 0.0, 0.0]</td>\n",
       "    </tr>\n",
       "    <tr>\n",
       "      <th>1</th>\n",
       "      <td>17090</td>\n",
       "      <td>e9286911fcaa253b094eea4b532f07c31e9f3ee5</td>\n",
       "      <td>packages/plugins/sentry/server/middlewares/sen...</td>\n",
       "      <td>packages/plugins/sentry/server/middlewares/sen...</td>\n",
       "      <td>'use strict';\\n\\n/**\\n * Programmatic sentry m...</td>\n",
       "      <td>'use strict';\\n\\n/**\\n * Programmatic sentry m...</td>\n",
       "      <td>Fix calling sendError on wrong object</td>\n",
       "      <td>Fix calling sendError on wrong object\\n\\nFixes...</td>\n",
       "      <td>JavaScript</td>\n",
       "      <td>mit</td>\n",
       "      <td>wistityhq/strapi,wistityhq/strapi</td>\n",
       "      <td>fix call senderror wrong object fix sentri plu...</td>\n",
       "      <td>1</td>\n",
       "      <td>mobile,functionality,compatibility-performance</td>\n",
       "      <td>[1.0, 0.0, 1.0, 0.0, 0.0]</td>\n",
       "    </tr>\n",
       "    <tr>\n",
       "      <th>2</th>\n",
       "      <td>3401</td>\n",
       "      <td>8b512427144c1a8ff55c149267708fd783754405</td>\n",
       "      <td>app/components/wallet/backup-recovery/WalletRe...</td>\n",
       "      <td>app/components/wallet/backup-recovery/WalletRe...</td>\n",
       "      <td>// @flow\\nimport React, { Component, PropTypes...</td>\n",
       "      <td>// @flow\\nimport React, { Component, PropTypes...</td>\n",
       "      <td>Fix proptype checking in wallet recovery instr...</td>\n",
       "      <td>Fix proptype checking in wallet recovery instr...</td>\n",
       "      <td>JavaScript</td>\n",
       "      <td>apache-2.0</td>\n",
       "      <td>input-output-hk/daedalus,input-output-hk/daeda...</td>\n",
       "      <td>fix proptyp check wallet recoveri instruct compon</td>\n",
       "      <td>1</td>\n",
       "      <td>functionality</td>\n",
       "      <td>[1.0, 0.0, 0.0, 0.0, 0.0]</td>\n",
       "    </tr>\n",
       "    <tr>\n",
       "      <th>3</th>\n",
       "      <td>33381</td>\n",
       "      <td>1ea806751405a7bfd7bf388eeabce2de0ad5c50f</td>\n",
       "      <td>templates:array.js</td>\n",
       "      <td>templates:array.js</td>\n",
       "      <td>ReactiveArray;\\n\\nthis.ReactiveArray = Reactiv...</td>\n",
       "      <td>ReactiveArray;\\n\\nthis.ReactiveArray = Reactiv...</td>\n",
       "      <td>Fix set function with underscore isEqual</td>\n",
       "      <td>Fix set function with underscore isEqual</td>\n",
       "      <td>JavaScript</td>\n",
       "      <td>mit</td>\n",
       "      <td>meteortemplates/array</td>\n",
       "      <td>fix set function underscor isequ</td>\n",
       "      <td>1</td>\n",
       "      <td>functionality</td>\n",
       "      <td>[1.0, 0.0, 0.0, 0.0, 0.0]</td>\n",
       "    </tr>\n",
       "    <tr>\n",
       "      <th>4</th>\n",
       "      <td>33412</td>\n",
       "      <td>5551c176fc2c5fa59de1fbd29f36a4b2538ae85e</td>\n",
       "      <td>bin/mai-chai-init.js</td>\n",
       "      <td>bin/mai-chai-init.js</td>\n",
       "      <td>'use strict';\\n/* global require */\\n/* global...</td>\n",
       "      <td>'use strict';\\n/* global require */\\n/* global...</td>\n",
       "      <td>Fix regex for win32 platform</td>\n",
       "      <td>Fix regex for win32 platform\\n</td>\n",
       "      <td>JavaScript</td>\n",
       "      <td>mit</td>\n",
       "      <td>epsitec-sa/mai-chai</td>\n",
       "      <td>fix regex win32 platform</td>\n",
       "      <td>1</td>\n",
       "      <td>ui-ux,compatibility-performance</td>\n",
       "      <td>[0.0, 1.0, 1.0, 0.0, 0.0]</td>\n",
       "    </tr>\n",
       "    <tr>\n",
       "      <th>5</th>\n",
       "      <td>12573</td>\n",
       "      <td>1c559c078519a305d7723da0adf0d64f074f2982</td>\n",
       "      <td>src/js/config.js</td>\n",
       "      <td>src/js/config.js</td>\n",
       "      <td>// Parameters for the application\\n\\nexport de...</td>\n",
       "      <td>// Parameters for the application\\n\\nexport de...</td>\n",
       "      <td>Fix wrong URL for remote calls</td>\n",
       "      <td>Fix wrong URL for remote calls\\n\\n</td>\n",
       "      <td>JavaScript</td>\n",
       "      <td>mit</td>\n",
       "      <td>UNECE/Model-Explorer,UNECE/Model-Explorer</td>\n",
       "      <td>fix wrong url remot call</td>\n",
       "      <td>1</td>\n",
       "      <td>network-security</td>\n",
       "      <td>[0.0, 0.0, 0.0, 1.0, 0.0]</td>\n",
       "    </tr>\n",
       "    <tr>\n",
       "      <th>6</th>\n",
       "      <td>51075</td>\n",
       "      <td>7f292e1e1c3a7147331a462e2ded5e3a01cdfe7f</td>\n",
       "      <td>server/public/scripts/controllers/home.control...</td>\n",
       "      <td>server/public/scripts/controllers/home.control...</td>\n",
       "      <td>app.controller('HomeController', ['$http', 'Au...</td>\n",
       "      <td>app.controller('HomeController', ['$http', 'Au...</td>\n",
       "      <td>Refactor carousel image references for better ...</td>\n",
       "      <td>Refactor carousel image references for better ...</td>\n",
       "      <td>JavaScript</td>\n",
       "      <td>mit</td>\n",
       "      <td>STEMentor/STEMentor,STEMentor/STEMentor</td>\n",
       "      <td>refactor carousel imag refer better readabl</td>\n",
       "      <td>1</td>\n",
       "      <td>general</td>\n",
       "      <td>[0.0, 0.0, 0.0, 0.0, 1.0]</td>\n",
       "    </tr>\n",
       "    <tr>\n",
       "      <th>7</th>\n",
       "      <td>21493</td>\n",
       "      <td>f2ccefd95ab02a80e905c932d1146728802bab0a</td>\n",
       "      <td>source/get-response.js</td>\n",
       "      <td>source/get-response.js</td>\n",
       "      <td>'use strict';\\nconst decompressResponse = requ...</td>\n",
       "      <td>'use strict';\\nconst decompressResponse = requ...</td>\n",
       "      <td>Fix `options.encoding` if not decompressing Br...</td>\n",
       "      <td>Fix `options.encoding` if not decompressing Br...</td>\n",
       "      <td>JavaScript</td>\n",
       "      <td>mit</td>\n",
       "      <td>sindresorhus/got</td>\n",
       "      <td>fix optionsencod decompress brotli</td>\n",
       "      <td>1</td>\n",
       "      <td>general</td>\n",
       "      <td>[0.0, 0.0, 0.0, 0.0, 1.0]</td>\n",
       "    </tr>\n",
       "    <tr>\n",
       "      <th>8</th>\n",
       "      <td>39641</td>\n",
       "      <td>e524763effb091e8b1bd48b1ac890bf7da1578ca</td>\n",
       "      <td>resources/assets/js/app.js</td>\n",
       "      <td>resources/assets/js/app.js</td>\n",
       "      <td>/**\\n * First we will load all of this project...</td>\n",
       "      <td>/**\\n * First we will load all of this project...</td>\n",
       "      <td>Fix issue with Vue not working</td>\n",
       "      <td>Fix issue with Vue not working\\n</td>\n",
       "      <td>JavaScript</td>\n",
       "      <td>mit</td>\n",
       "      <td>anodyne/aurora,anodyne/aurora,anodyne/aurora</td>\n",
       "      <td>fix issu vue work</td>\n",
       "      <td>1</td>\n",
       "      <td>compatibility-performance</td>\n",
       "      <td>[0.0, 0.0, 1.0, 0.0, 0.0]</td>\n",
       "    </tr>\n",
       "    <tr>\n",
       "      <th>9</th>\n",
       "      <td>23782</td>\n",
       "      <td>2e05171229b83c3cc0a7decffe9310368f1a3858</td>\n",
       "      <td>app/assets/javascripts/user_dashboard.js</td>\n",
       "      <td>app/assets/javascripts/user_dashboard.js</td>\n",
       "      <td>(function(){\\n  \"use strict\"\\n  $(document).re...</td>\n",
       "      <td>(function(){\\n  \"use strict\"\\n  $(document).re...</td>\n",
       "      <td>Update naming convention to fix bug</td>\n",
       "      <td>Update naming convention to fix bug\\n</td>\n",
       "      <td>JavaScript</td>\n",
       "      <td>mit</td>\n",
       "      <td>TerrenceLJones/not-bored-tonight,TerrenceLJone...</td>\n",
       "      <td>updat name convent fix bug</td>\n",
       "      <td>1</td>\n",
       "      <td>general</td>\n",
       "      <td>[0.0, 0.0, 0.0, 0.0, 1.0]</td>\n",
       "    </tr>\n",
       "  </tbody>\n",
       "</table>\n",
       "</div>"
      ],
      "text/plain": [
       "   index                                    commit  \\\n",
       "0  14193  225ae89c984227f9c2cfbe0278618758256e577f   \n",
       "1  17090  e9286911fcaa253b094eea4b532f07c31e9f3ee5   \n",
       "2   3401  8b512427144c1a8ff55c149267708fd783754405   \n",
       "3  33381  1ea806751405a7bfd7bf388eeabce2de0ad5c50f   \n",
       "4  33412  5551c176fc2c5fa59de1fbd29f36a4b2538ae85e   \n",
       "5  12573  1c559c078519a305d7723da0adf0d64f074f2982   \n",
       "6  51075  7f292e1e1c3a7147331a462e2ded5e3a01cdfe7f   \n",
       "7  21493  f2ccefd95ab02a80e905c932d1146728802bab0a   \n",
       "8  39641  e524763effb091e8b1bd48b1ac890bf7da1578ca   \n",
       "9  23782  2e05171229b83c3cc0a7decffe9310368f1a3858   \n",
       "\n",
       "                                            old_file  \\\n",
       "0                                          server.js   \n",
       "1  packages/plugins/sentry/server/middlewares/sen...   \n",
       "2  app/components/wallet/backup-recovery/WalletRe...   \n",
       "3                                 templates:array.js   \n",
       "4                               bin/mai-chai-init.js   \n",
       "5                                   src/js/config.js   \n",
       "6  server/public/scripts/controllers/home.control...   \n",
       "7                             source/get-response.js   \n",
       "8                         resources/assets/js/app.js   \n",
       "9           app/assets/javascripts/user_dashboard.js   \n",
       "\n",
       "                                            new_file  \\\n",
       "0                                          server.js   \n",
       "1  packages/plugins/sentry/server/middlewares/sen...   \n",
       "2  app/components/wallet/backup-recovery/WalletRe...   \n",
       "3                                 templates:array.js   \n",
       "4                               bin/mai-chai-init.js   \n",
       "5                                   src/js/config.js   \n",
       "6  server/public/scripts/controllers/home.control...   \n",
       "7                             source/get-response.js   \n",
       "8                         resources/assets/js/app.js   \n",
       "9           app/assets/javascripts/user_dashboard.js   \n",
       "\n",
       "                                        old_contents  \\\n",
       "0  \\n/**\\n * @description  a string as a paramete...   \n",
       "1  'use strict';\\n\\n/**\\n * Programmatic sentry m...   \n",
       "2  // @flow\\nimport React, { Component, PropTypes...   \n",
       "3  ReactiveArray;\\n\\nthis.ReactiveArray = Reactiv...   \n",
       "4  'use strict';\\n/* global require */\\n/* global...   \n",
       "5  // Parameters for the application\\n\\nexport de...   \n",
       "6  app.controller('HomeController', ['$http', 'Au...   \n",
       "7  'use strict';\\nconst decompressResponse = requ...   \n",
       "8  /**\\n * First we will load all of this project...   \n",
       "9  (function(){\\n  \"use strict\"\\n  $(document).re...   \n",
       "\n",
       "                                        new_contents  \\\n",
       "0  var express = require('express')\\nvar strftime...   \n",
       "1  'use strict';\\n\\n/**\\n * Programmatic sentry m...   \n",
       "2  // @flow\\nimport React, { Component, PropTypes...   \n",
       "3  ReactiveArray;\\n\\nthis.ReactiveArray = Reactiv...   \n",
       "4  'use strict';\\n/* global require */\\n/* global...   \n",
       "5  // Parameters for the application\\n\\nexport de...   \n",
       "6  app.controller('HomeController', ['$http', 'Au...   \n",
       "7  'use strict';\\nconst decompressResponse = requ...   \n",
       "8  /**\\n * First we will load all of this project...   \n",
       "9  (function(){\\n  \"use strict\"\\n  $(document).re...   \n",
       "\n",
       "                                             subject  \\\n",
       "0  Add example code to test Heroku error app not ...   \n",
       "1              Fix calling sendError on wrong object   \n",
       "2  Fix proptype checking in wallet recovery instr...   \n",
       "3           Fix set function with underscore isEqual   \n",
       "4                       Fix regex for win32 platform   \n",
       "5                     Fix wrong URL for remote calls   \n",
       "6  Refactor carousel image references for better ...   \n",
       "7  Fix `options.encoding` if not decompressing Br...   \n",
       "8                     Fix issue with Vue not working   \n",
       "9                Update naming convention to fix bug   \n",
       "\n",
       "                                             message        lang     license  \\\n",
       "0  Add example code to test Heroku error app not ...  JavaScript         mit   \n",
       "1  Fix calling sendError on wrong object\\n\\nFixes...  JavaScript         mit   \n",
       "2  Fix proptype checking in wallet recovery instr...  JavaScript  apache-2.0   \n",
       "3           Fix set function with underscore isEqual  JavaScript         mit   \n",
       "4                     Fix regex for win32 platform\\n  JavaScript         mit   \n",
       "5                 Fix wrong URL for remote calls\\n\\n  JavaScript         mit   \n",
       "6  Refactor carousel image references for better ...  JavaScript         mit   \n",
       "7  Fix `options.encoding` if not decompressing Br...  JavaScript         mit   \n",
       "8                   Fix issue with Vue not working\\n  JavaScript         mit   \n",
       "9              Update naming convention to fix bug\\n  JavaScript         mit   \n",
       "\n",
       "                                               repos  \\\n",
       "0  kiwi-lifter/timestamp-api,kiwi-lifter/timestam...   \n",
       "1                  wistityhq/strapi,wistityhq/strapi   \n",
       "2  input-output-hk/daedalus,input-output-hk/daeda...   \n",
       "3                              meteortemplates/array   \n",
       "4                                epsitec-sa/mai-chai   \n",
       "5          UNECE/Model-Explorer,UNECE/Model-Explorer   \n",
       "6            STEMentor/STEMentor,STEMentor/STEMentor   \n",
       "7                                   sindresorhus/got   \n",
       "8       anodyne/aurora,anodyne/aurora,anodyne/aurora   \n",
       "9  TerrenceLJones/not-bored-tonight,TerrenceLJone...   \n",
       "\n",
       "                                   processed_message  is_bug  \\\n",
       "0         add exampl code test heroku error app load       1   \n",
       "1  fix call senderror wrong object fix sentri plu...       1   \n",
       "2  fix proptyp check wallet recoveri instruct compon       1   \n",
       "3                   fix set function underscor isequ       1   \n",
       "4                           fix regex win32 platform       1   \n",
       "5                           fix wrong url remot call       1   \n",
       "6        refactor carousel imag refer better readabl       1   \n",
       "7                 fix optionsencod decompress brotli       1   \n",
       "8                                  fix issu vue work       1   \n",
       "9                         updat name convent fix bug       1   \n",
       "\n",
       "                                         bug_type               class_labels  \n",
       "0         functionality,compatibility-performance  [1.0, 0.0, 1.0, 0.0, 0.0]  \n",
       "1  mobile,functionality,compatibility-performance  [1.0, 0.0, 1.0, 0.0, 0.0]  \n",
       "2                                   functionality  [1.0, 0.0, 0.0, 0.0, 0.0]  \n",
       "3                                   functionality  [1.0, 0.0, 0.0, 0.0, 0.0]  \n",
       "4                 ui-ux,compatibility-performance  [0.0, 1.0, 1.0, 0.0, 0.0]  \n",
       "5                                network-security  [0.0, 0.0, 0.0, 1.0, 0.0]  \n",
       "6                                         general  [0.0, 0.0, 0.0, 0.0, 1.0]  \n",
       "7                                         general  [0.0, 0.0, 0.0, 0.0, 1.0]  \n",
       "8                       compatibility-performance  [0.0, 0.0, 1.0, 0.0, 0.0]  \n",
       "9                                         general  [0.0, 0.0, 0.0, 0.0, 1.0]  "
      ]
     },
     "execution_count": 5,
     "metadata": {},
     "output_type": "execute_result"
    }
   ],
   "source": [
    "from random import sample\n",
    "\n",
    "\n",
    "def load_ds() -> pd.DataFrame:\n",
    "    query = f\"select * from {DB_TABLE}\"\n",
    "    ds_df = pd.read_sql_query(query, con)\n",
    "    return ds_df\n",
    "\n",
    "ds_df = load_ds()\n",
    "\n",
    "ds_df['class_labels'] = ds_df['bug_type'].apply(lambda bT: add_labels(bT.split(','), classLabels))\n",
    "if DEBUG:\n",
    "    ds_df = ds_df.iloc[:10]\n",
    "ds_df"
   ]
  },
  {
   "cell_type": "code",
   "execution_count": 6,
   "metadata": {},
   "outputs": [
    {
     "name": "stdout",
     "output_type": "stream",
     "text": [
      "Total training samples: 10\n"
     ]
    }
   ],
   "source": [
    "old_codes = ds_df[['old_contents', 'class_labels']]\n",
    "new_codes = ds_df[['new_contents', 'class_labels']]\n",
    "\n",
    "TRAIN_old, VAL_old, TRAIN_new, VAL_new = train_test_split(old_codes, new_codes, test_size=VAL_SIZE, random_state=42)\n",
    "\n",
    "print(f\"Total training samples: {len(ds_df)}\")"
   ]
  },
  {
   "cell_type": "markdown",
   "metadata": {
    "id": "Qzy9IQ79Hti8"
   },
   "source": [
    "## Dataset"
   ]
  },
  {
   "cell_type": "code",
   "execution_count": 7,
   "metadata": {
    "colab": {
     "base_uri": "https://localhost:8080/"
    },
    "id": "9Wwhjv1FHti8",
    "outputId": "a759e85a-8dd1-4294-cead-a3d1d6687b6b"
   },
   "outputs": [],
   "source": [
    "tokenizer = RobertaTokenizer.from_pretrained(HF_DIR)\n",
    "\n",
    "TRAIN_encodings = tokenizer(\n",
    "    TRAIN_old['old_contents'].tolist(),\n",
    "    max_length=TOKENIZER_MAX_LENGTH,\n",
    "    pad_to_max_length=True,\n",
    "    return_tensors='pt',\n",
    "    padding='max_length',\n",
    "    truncation=True\n",
    ")\n",
    "\n",
    "VAL_encodings = tokenizer(\n",
    "    VAL_old['old_contents'].tolist(),\n",
    "    max_length=TOKENIZER_MAX_LENGTH,\n",
    "    pad_to_max_length=True,\n",
    "    return_tensors='pt',\n",
    "    padding='max_length',\n",
    "    truncation=True\n",
    ")\n",
    "\n",
    "TRAIN_decodings = tokenizer(\n",
    "    TRAIN_new['new_contents'].tolist(),\n",
    "    max_length=TOKENIZER_MAX_LENGTH,\n",
    "    pad_to_max_length=True,\n",
    "    return_tensors='pt',\n",
    "    padding='max_length',\n",
    "    truncation=True\n",
    ")\n",
    "\n",
    "VAL_decodings = tokenizer(\n",
    "    VAL_new['new_contents'].tolist(),\n",
    "    max_length=TOKENIZER_MAX_LENGTH,\n",
    "    pad_to_max_length=True,\n",
    "    return_tensors='pt',\n",
    "    padding='max_length',\n",
    "    truncation=True\n",
    ")"
   ]
  },
  {
   "cell_type": "markdown",
   "metadata": {
    "id": "jnVOxTTIHti9"
   },
   "source": [
    "## Convert Class Labels into tensors"
   ]
  },
  {
   "cell_type": "code",
   "execution_count": 8,
   "metadata": {
    "id": "hRoNjm0bHti9"
   },
   "outputs": [
    {
     "data": {
      "text/plain": [
       "tensor([[1., 0., 1., 0., 0.],\n",
       "        [0., 0., 0., 0., 1.],\n",
       "        [1., 0., 0., 0., 0.],\n",
       "        [0., 0., 0., 0., 1.],\n",
       "        [0., 1., 1., 0., 0.],\n",
       "        [1., 0., 0., 0., 0.],\n",
       "        [0., 0., 0., 0., 1.]])"
      ]
     },
     "execution_count": 8,
     "metadata": {},
     "output_type": "execute_result"
    }
   ],
   "source": [
    "TRAIN_classes = torch.tensor(TRAIN_old['class_labels'].tolist())\n",
    "VAL_classes = torch.tensor(VAL_old['class_labels'].tolist())\n",
    "TRAIN_classes"
   ]
  },
  {
   "cell_type": "markdown",
   "metadata": {
    "id": "-sIbpTJjJ3rB"
   },
   "source": [
    "# Initialize Training Settings"
   ]
  },
  {
   "cell_type": "code",
   "execution_count": 9,
   "metadata": {
    "colab": {
     "base_uri": "https://localhost:8080/"
    },
    "id": "7a7NjypmHti9",
    "outputId": "b0d23edf-a2db-40f0-c296-0a5bda5ec59d"
   },
   "outputs": [
    {
     "name": "stderr",
     "output_type": "stream",
     "text": [
      "GPU available: True (cuda), used: True\n",
      "TPU available: False, using: 0 TPU cores\n",
      "HPU available: False, using: 0 HPUs\n",
      "Running in `fast_dev_run` mode: will run the requested loop using 1 batch(es). Logging and checkpointing is suppressed.\n"
     ]
    }
   ],
   "source": [
    "logger = init_logger(log_path=LOG_PATH, model_dir=MODEL_DIR, version=VERSION)\n",
    "checkpoint = init_checkpoint(cpkt_path=CPKT_PATH, model_dir=MODEL_DIR, version=VERSION)\n",
    "trainer = Trainer(checkpoint,logger,debug=DEBUG, num_epochs=3)\n",
    "\n",
    "if len(LOAD_FROM_CPKT) > 0 and  os.path.exists(LOAD_FROM_CPKT):\n",
    "    model = CodeT5.load_from_checkpoint(LOAD_FROM_CPKT, num_classes=num_classes)\n",
    "else:\n",
    "    model = CodeT5(num_classes=num_classes)\n",
    "model.model.train()\n",
    "\n",
    "TRAIN_dataset = CodeT5Dataset(TRAIN_encodings, TRAIN_decodings, TRAIN_classes)\n",
    "VAL_dataset = CodeT5Dataset(VAL_encodings, VAL_decodings, VAL_classes)\n",
    "dataloader = DataLoader(TRAIN_dataset, batch_size=BATCH_SIZE,num_workers=7, shuffle=True)\n",
    "val_dataloader = DataLoader(VAL_dataset, batch_size=1, num_workers=7)"
   ]
  },
  {
   "cell_type": "code",
   "execution_count": 10,
   "metadata": {
    "id": "mhQtadvkHti9"
   },
   "outputs": [
    {
     "name": "stderr",
     "output_type": "stream",
     "text": [
      "/home/disras/miniconda3/envs/thesis/lib/python3.8/site-packages/pytorch_lightning/callbacks/model_checkpoint.py:654: Checkpoint directory /home/disras/projects/JSRepair/checkpoints exists and is not empty.\n",
      "LOCAL_RANK: 0 - CUDA_VISIBLE_DEVICES: [0]\n",
      "\n",
      "  | Name       | Type                       | Params | Mode \n",
      "------------------------------------------------------------------\n",
      "0 | model      | T5ForConditionalGeneration | 222 M  | train\n",
      "1 | classifier | Linear                     | 3.8 K  | train\n",
      "------------------------------------------------------------------\n",
      "222 M     Trainable params\n",
      "0         Non-trainable params\n",
      "222 M     Total params\n",
      "891.544   Total estimated model params size (MB)\n",
      "542       Modules in train mode\n",
      "0         Modules in eval mode\n"
     ]
    },
    {
     "data": {
      "application/vnd.jupyter.widget-view+json": {
       "model_id": "19612418c1894b07bdb2172b39903d64",
       "version_major": 2,
       "version_minor": 0
      },
      "text/plain": [
       "Training: |          | 0/? [00:00<?, ?it/s]"
      ]
     },
     "metadata": {},
     "output_type": "display_data"
    },
    {
     "data": {
      "application/vnd.jupyter.widget-view+json": {
       "model_id": "3cd53af347814194b750297bc235ff8e",
       "version_major": 2,
       "version_minor": 0
      },
      "text/plain": [
       "Validation: |          | 0/? [00:00<?, ?it/s]"
      ]
     },
     "metadata": {},
     "output_type": "display_data"
    },
    {
     "name": "stderr",
     "output_type": "stream",
     "text": [
      "`Trainer.fit` stopped: `max_steps=1` reached.\n"
     ]
    }
   ],
   "source": [
    "trainer.fit(\n",
    "    model,\n",
    "    train_dataloaders=dataloader,\n",
    "    val_dataloaders=val_dataloader\n",
    ")"
   ]
  }
 ],
 "metadata": {
  "accelerator": "GPU",
  "colab": {
   "gpuType": "A100",
   "machine_shape": "hm",
   "provenance": []
  },
  "kernelspec": {
   "display_name": "thesis",
   "language": "python",
   "name": "python3"
  },
  "language_info": {
   "codemirror_mode": {
    "name": "ipython",
    "version": 3
   },
   "file_extension": ".py",
   "mimetype": "text/x-python",
   "name": "python",
   "nbconvert_exporter": "python",
   "pygments_lexer": "ipython3",
   "version": "3.8.18"
  }
 },
 "nbformat": 4,
 "nbformat_minor": 0
}
