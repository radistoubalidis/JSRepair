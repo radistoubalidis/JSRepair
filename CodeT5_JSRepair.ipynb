{
 "cells": [
  {
   "cell_type": "markdown",
   "metadata": {},
   "source": [
    "# Colab Initialization"
   ]
  },
  {
   "cell_type": "code",
   "execution_count": null,
   "metadata": {
    "colab": {
     "base_uri": "https://localhost:8080/"
    },
    "id": "Pa7PA6UMH2pn",
    "outputId": "cf90110e-36c6-4548-e514-d627463b9aea"
   },
   "outputs": [],
   "source": [
    "from google.colab import drive\n",
    "drive.mount('/content/drive')"
   ]
  },
  {
   "cell_type": "code",
   "execution_count": null,
   "metadata": {
    "colab": {
     "base_uri": "https://localhost:8080/"
    },
    "collapsed": true,
    "id": "eOOMW_SjH4WG",
    "outputId": "93d2e433-369f-4422-924e-d3b70ab27287"
   },
   "outputs": [],
   "source": [
    "!git clone https://github.com/radistoubalidis/JSRepair.git\n",
    "\n",
    "!pip install pytorch_lightning\n",
    "!python -m pip install lightning\n",
    "!pip install datasets\n",
    "!pip install python-dotenv\n",
    "!pip install rouge-score\n",
    "!pip install diff-match-patch\n",
    "!pip install gspread google-auth"
   ]
  },
  {
   "cell_type": "code",
   "execution_count": null,
   "metadata": {
    "colab": {
     "base_uri": "https://localhost:8080/"
    },
    "id": "eOMP9ujKQr0H",
    "outputId": "1103161d-11e5-4299-953b-bb803853980b"
   },
   "outputs": [],
   "source": [
    "%cd ./JSRepair"
   ]
  },
  {
   "cell_type": "markdown",
   "metadata": {},
   "source": [
    "# Dependencies"
   ]
  },
  {
   "cell_type": "code",
   "execution_count": 1,
   "metadata": {},
   "outputs": [],
   "source": [
    "import numpy\n",
    "import pytorch_lightning as pl\n",
    "import seaborn\n",
    "import torch.nn as nn\n",
    "import torch\n",
    "import numpy as np\n",
    "import os\n",
    "import matplotlib.pyplot as plt\n",
    "from transformers import T5ForConditionalGeneration, RobertaTokenizer\n",
    "from lightning.pytorch.utilities.types import STEP_OUTPUT\n",
    "from typing import Any\n",
    "from sklearn.model_selection import train_test_split\n",
    "from sklearn.metrics import confusion_matrix, ConfusionMatrixDisplay\n",
    "from modules.filters import add_labels\n",
    "import seaborn as sns\n",
    "import os\n",
    "import pandas as pd\n",
    "import sqlite3\n",
    "from modules.TrainConfig import init_logger, init_checkpoint, Trainer\n",
    "from modules.datasets import CodeT5Dataset\n",
    "from diff_match_patch import diff_match_patch\n",
    "from transformers import RobertaTokenizer, T5ForConditionalGeneration\n",
    "from sklearn.model_selection import train_test_split\n",
    "import pytorch_lightning as pl\n",
    "import numpy as np\n",
    "from lightning.pytorch.utilities.types import STEP_OUTPUT\n",
    "from typing import Any\n",
    "from torch.utils.data import DataLoader\n",
    "from transformers import default_data_collator\n",
    "from modules.models import CodeT5\n",
    "from pytorch_lightning import Trainer as plTrainer"
   ]
  },
  {
   "cell_type": "code",
   "execution_count": 2,
   "metadata": {},
   "outputs": [],
   "source": [
    "HF_DIR = 'Salesforce/codet5-base'\n",
    "TOKENIZER_MAX_LENGTH = 512 #int(input('Tokenizer Max length: '))\n",
    "DB_PATH = 'commitpack-datasets.db' if os.path.exists('commitpack-datasets.db') else '/content/drive/MyDrive/Thesis/commitpack-datasets.db'\n",
    "DB_TABLE = 'commitpackft_classified_train'\n",
    "if not os.path.exists(DB_PATH):\n",
    "    raise RuntimeError('sqlite3 path doesnt exist.')\n",
    "VAL_SIZE = 0.3\n",
    "LOG_PATH = 'logs' if os.path.exists('logs') else '/content/drive/MyDrive/Thesis/logs'\n",
    "VERSION = int(input('Training version: '))\n",
    "LOAD_FROM_CPKT = input(\"Load from existing model (type cpkt path if true): \")\n",
    "DEBUG = True if int(input('Debug Run (1,0): ')) == 1 else False\n",
    "BATCH_SIZE = 2 if DEBUG is True else 64\n",
    "CPKT_PATH = 'checkpoints' if os.path.exists('checkpoints') else '/content/drive/MyDrive/Thesis/checkpoints'\n",
    "DROPOUT_RATE = float(input('Type dropout rate for classifier: '))\n",
    "NUM_EPOCHS = int(input('Type number of train epochs: '))\n",
    "WITH_LAYER_NORM = True\n",
    "WITH_ACTIVATION = True\n",
    "LEARNING_RATE = float(input(\"Type initial lr,(default = 1e-3): \"))\n",
    "BIMODAL_TRAIN = True if int(input('Combine commit messages with codes (1,0): ')) == 1 else False\n",
    "\n",
    "classLabels = {\n",
    "        \"functionality\" : 0.,\n",
    "        \"ui-ux\" : 0.,\n",
    "        \"compatibility-performance\" : 0.,\n",
    "        \"network-security\" : 0.,\n",
    "        \"general\": 0.\n",
    "    }\n",
    "\n",
    "num_classes = len(classLabels.keys())\n",
    "modelSize = HF_DIR.split('-')[-1]\n",
    "MODEL_DIR = f\"CodeT5_{modelSize}_JS_{num_classes}classes_{TOKENIZER_MAX_LENGTH}MaxL\"\n",
    "con = sqlite3.connect(DB_PATH)"
   ]
  },
  {
   "cell_type": "markdown",
   "metadata": {},
   "source": [
    "# Training"
   ]
  },
  {
   "cell_type": "markdown",
   "metadata": {
    "id": "87tUL_bQHti7"
   },
   "source": [
    "## Create Classification Labels\n",
    "\n",
    "```json\n",
    "{\n",
    "    \"mobile\" : 0,\n",
    "    \"functionality\" : 0,\n",
    "    \"ui-ux\" : 0,\n",
    "    \"compatibility-performance\" : 0,\n",
    "    \"network-security\" : 0,\n",
    "    \"general\": 0\n",
    "}\n",
    "\n",
    "Ένα δείγμα που κατηγοριοποιήθηκε ως σφάλμα λειτουργικότητας(functionality) και ui-ux θα έχει διάνυσμα ταξινόμησης ->\n",
    "[0,1,1,0,0,0]\n",
    "```\n"
   ]
  },
  {
   "cell_type": "code",
   "execution_count": 3,
   "metadata": {
    "colab": {
     "base_uri": "https://localhost:8080/"
    },
    "id": "6mRHGm6JHti8",
    "outputId": "8104dc01-adc2-488a-87fe-5b5bb84e751f"
   },
   "outputs": [],
   "source": [
    "ds_df = pd.read_sql_query(\"select * from commitpackft_classified_train\", con)\n",
    "ds_df['class_labels'] = ds_df['bug_type'].apply(lambda bT: add_labels(bT.split(','), classLabels))\n",
    "\n",
    "ds_df = ds_df[ds_df['bug_type'] != 'mobile']\n",
    "ds_df = ds_df[ds_df['old_contents'].str.len() > 0]\n",
    "\n",
    "if DEBUG:\n",
    "    ds_df = ds_df.sample(20)"
   ]
  },
  {
   "cell_type": "markdown",
   "metadata": {},
   "source": [
    "## Data Preprocess"
   ]
  },
  {
   "cell_type": "markdown",
   "metadata": {},
   "source": [
    "### Filter out outliers"
   ]
  },
  {
   "cell_type": "code",
   "execution_count": null,
   "metadata": {},
   "outputs": [],
   "source": [
    "def count_comment_lines(sample: str) -> int:\n",
    "    comment_blocks = []\n",
    "    start_index = -1\n",
    "    for i, line in enumerate(sample.splitlines()):\n",
    "        if line.strip().startswith('/*'):\n",
    "            start_index = i\n",
    "        elif line.strip().endswith('*/'):\n",
    "            comment_blocks.append([start_index, i])\n",
    "            start_index = -1\n",
    "\n",
    "    comment_lines_count = sum([c[1]-c[0] for c in comment_blocks])\n",
    "\n",
    "    for i, line in enumerate(sample.splitlines()):\n",
    "        if line.strip().startswith('//'):\n",
    "            comment_lines_count += 1\n",
    "    return comment_lines_count\n",
    "\n",
    "ds_df['old_contents_comment_lines_count'] = ds_df['old_contents'].apply(lambda sample: count_comment_lines(sample))\n",
    "ds_df['new_contents_comment_lines_count'] = ds_df['new_contents'].apply(lambda sample: count_comment_lines(sample))\n",
    "\n",
    "# Filter out samples where the sum of comment lines increased more than 3 lines\n",
    "# to prevent excessive masking\n",
    "ds_df = ds_df[abs(ds_df['old_contents_comment_lines_count'] - ds_df['new_contents_comment_lines_count']) <= 3]\n",
    "# Filter out samples with more than 10 comment lines\n",
    "ds_df = ds_df[(ds_df['old_contents_comment_lines_count'] < 10) & (ds_df['new_contents_comment_lines_count'] < 10)]\n",
    "\n",
    "dmp = diff_match_patch()\n",
    "\n",
    "def compute_diffs(sample: dict):\n",
    "    # Compute the differences\n",
    "    diffs = dmp.diff_main(sample['old_contents'], sample['new_contents'])\n",
    "    dmp.diff_cleanupSemantic(diffs)\n",
    "    # Count the changes\n",
    "    return sum(1 for diff in diffs if diff[0] == 1)  # 0 means no change\n",
    "\n",
    "ds_df['num_changes'] = ds_df.apply(lambda sample: compute_diffs(sample), axis=1)\n",
    "\n",
    "# Filter out samples with more than 3 changes in the code\n",
    "ds_df = ds_df[ds_df['num_changes'] <= 3]\n",
    "\n",
    "# filter out samples with more than 50 lines of code\n",
    "ds_df = ds_df[(ds_df['old_contents'].str.count('\\n') <= 50) & (ds_df['new_contents'].str.count('\\n') <= 50)]\n",
    "\n",
    "# filter out samples with more than 2 bug types\n",
    "ds_df = ds_df[ds_df['bug_type'].str.count(',') < 2]\n",
    "print(f\"Total training samples after filtering: {len(ds_df)}\")"
   ]
  },
  {
   "cell_type": "markdown",
   "metadata": {},
   "source": [
    "### Concatenate Commit Message with the old contents \n",
    "- This way, the commit message is directly provided as additional context, and the models (T5, Bert) can process both the buggy code and the commit message in a unified manner.\n",
    "- This approach will allow the model to learn the relationship between the commit message and the changes made to the code."
   ]
  },
  {
   "cell_type": "code",
   "execution_count": null,
   "metadata": {},
   "outputs": [],
   "source": [
    "tokenizer = RobertaTokenizer.from_pretrained(HF_DIR)\n",
    "old_codes = ds_df[['message', 'old_contents', 'class_labels']]\n",
    "new_codes = ds_df[['message', 'new_contents', 'class_labels']]\n",
    "if BIMODAL_TRAIN:\n",
    "    old_codes['input_seq'] = '/* ' + old_codes['message'] + '*/\\n' + tokenizer.sep_token + '\\n' + old_codes['old_contents']\n",
    "    new_codes['output_seq'] = '/* ' + new_codes['message'] + '*/\\n' + tokenizer.sep_token + '\\n' + new_codes['new_contents']\n",
    "else:\n",
    "    old_codes['input_seq'] = old_codes['old_contents'].copy()\n",
    "    new_codes['output_seq'] = new_codes['new_contents'].copy()\n",
    "    \n",
    "TRAIN_old, VAL_old, TRAIN_new, VAL_new = train_test_split(old_codes, new_codes, test_size=VAL_SIZE, random_state=42)\n",
    "\n",
    "print(f\"Total training samples: {len(TRAIN_old)}\")\n",
    "print(f\"Total validation samples: {len(VAL_old)}\")"
   ]
  },
  {
   "cell_type": "markdown",
   "metadata": {
    "id": "Qzy9IQ79Hti8"
   },
   "source": [
    "## Prepare Model Input"
   ]
  },
  {
   "cell_type": "code",
   "execution_count": 6,
   "metadata": {
    "colab": {
     "base_uri": "https://localhost:8080/"
    },
    "id": "9Wwhjv1FHti8",
    "outputId": "a759e85a-8dd1-4294-cead-a3d1d6687b6b"
   },
   "outputs": [],
   "source": [
    "TOKENIZER_MAX_LENGTH = 512\n",
    "\n",
    "TRAIN_encodings = tokenizer(\n",
    "    TRAIN_old['input_seq'].tolist(),\n",
    "    max_length=TOKENIZER_MAX_LENGTH,\n",
    "    pad_to_max_length=True,\n",
    "    return_tensors='pt',\n",
    "    padding='max_length',\n",
    "    truncation=True\n",
    ")\n",
    "\n",
    "VAL_encodings = tokenizer(\n",
    "    VAL_old['input_seq'].tolist(),\n",
    "    max_length=TOKENIZER_MAX_LENGTH,\n",
    "    pad_to_max_length=True,\n",
    "    return_tensors='pt',\n",
    "    padding='max_length',\n",
    "    truncation=True\n",
    ")\n",
    "\n",
    "TRAIN_decodings = tokenizer(\n",
    "    TRAIN_new['output_seq'].tolist(),\n",
    "    max_length=TOKENIZER_MAX_LENGTH,\n",
    "    pad_to_max_length=True,\n",
    "    return_tensors='pt',\n",
    "    padding='max_length',\n",
    "    truncation=True\n",
    ")\n",
    "\n",
    "VAL_decodings = tokenizer(\n",
    "    VAL_new['output_seq'].tolist(),\n",
    "    max_length=TOKENIZER_MAX_LENGTH,\n",
    "    pad_to_max_length=True,\n",
    "    return_tensors='pt',\n",
    "    padding='max_length',\n",
    "    truncation=True\n",
    ")\n",
    "\n",
    "TRAIN_classes = torch.tensor(TRAIN_old['class_labels'].tolist())\n",
    "VAL_classes = torch.tensor(VAL_old['class_labels'].tolist())\n",
    "\n",
    "\n",
    "\n",
    "TRAIN_dataset = CodeT5Dataset(TRAIN_encodings, TRAIN_decodings, TRAIN_classes)\n",
    "VAL_dataset = CodeT5Dataset(VAL_encodings, VAL_decodings, VAL_classes)\n",
    "\n",
    "\n",
    "# Class weights\n",
    "# pos_weight[i] = (Number of negative samples for class i) / (Number of positive samples for class i)\n",
    "num_samples = TRAIN_classes.size(0)\n",
    "num_classes = TRAIN_classes.size(1)\n",
    "\n",
    "pos_counts = torch.sum(TRAIN_classes, dim=0)\n",
    "neg_counts = num_samples - pos_counts\n",
    "class_weights = neg_counts / (pos_counts + 1e-6)\n",
    "class_weights = class_weights.numpy()"
   ]
  },
  {
   "cell_type": "markdown",
   "metadata": {
    "id": "-sIbpTJjJ3rB"
   },
   "source": [
    "## Initialize Training Settings"
   ]
  },
  {
   "cell_type": "code",
   "execution_count": null,
   "metadata": {
    "colab": {
     "base_uri": "https://localhost:8080/"
    },
    "id": "7a7NjypmHti9",
    "outputId": "b0d23edf-a2db-40f0-c296-0a5bda5ec59d"
   },
   "outputs": [],
   "source": [
    "logger = init_logger(log_path=LOG_PATH, model_dir=MODEL_DIR, version=VERSION)\n",
    "checkpoint = init_checkpoint(cpkt_path=CPKT_PATH, model_dir=MODEL_DIR, version=VERSION, targetMetric='val_auxilary_loss')\n",
    "trainer = Trainer(checkpoint,logger,debug=DEBUG, num_epochs=NUM_EPOCHS)\n",
    "\n",
    "if len(LOAD_FROM_CPKT) > 0 and os.path.exists(LOAD_FROM_CPKT):\n",
    "    model = CodeT5.load_from_checkpoint(\n",
    "        LOAD_FROM_CPKT,\n",
    "        class_weights=class_weights,\n",
    "        model_dir=HF_DIR,\n",
    "        num_classes=num_classes,\n",
    "        dropout_rate=DROPOUT_RATE,\n",
    "        with_activation=True,\n",
    "        with_layer_norm=True,\n",
    "        lr=LEARNING_RATE\n",
    "    )\n",
    "else:\n",
    "    model = CodeT5(\n",
    "        class_weights=class_weights,\n",
    "        model_dir=HF_DIR,\n",
    "        num_classes=num_classes,\n",
    "        dropout_rate=DROPOUT_RATE,\n",
    "        with_activation=True,\n",
    "        with_layer_norm=True,\n",
    "        lr=LEARNING_RATE\n",
    "    )\n",
    "\n",
    "model.model.train()\n",
    "model.classifier.train()\n",
    "\n",
    "if DEBUG:\n",
    "    model.to('cpu')\n",
    "\n",
    "dataloader = DataLoader(TRAIN_dataset, batch_size=BATCH_SIZE,num_workers=14, shuffle=True, collate_fn=default_data_collator)\n",
    "val_dataloader = DataLoader(VAL_dataset, batch_size=BATCH_SIZE, num_workers=14, collate_fn=default_data_collator)"
   ]
  },
  {
   "cell_type": "markdown",
   "metadata": {},
   "source": [
    "## Run Training"
   ]
  },
  {
   "cell_type": "code",
   "execution_count": null,
   "metadata": {
    "id": "mhQtadvkHti9"
   },
   "outputs": [],
   "source": [
    "if len(LOAD_FROM_CPKT) > 0 and os.path.exists(LOAD_FROM_CPKT):\n",
    "    trainer.fit(\n",
    "        model,\n",
    "        train_dataloaders=dataloader,\n",
    "        val_dataloaders=val_dataloader,\n",
    "        ckpt_path=LOAD_FROM_CPKT\n",
    "    )\n",
    "else:\n",
    "    trainer.fit(\n",
    "        model,\n",
    "        train_dataloaders=dataloader,\n",
    "        val_dataloaders=val_dataloader\n",
    "    )"
   ]
  },
  {
   "cell_type": "markdown",
   "metadata": {},
   "source": [
    "## Save Model Config to CSV "
   ]
  },
  {
   "cell_type": "code",
   "execution_count": 11,
   "metadata": {},
   "outputs": [],
   "source": [
    "if not DEBUG:\n",
    "    import gspread\n",
    "    from google.colab import auth\n",
    "    from oauth2client.client import GoogleCredentials\n",
    "    from google.auth import default\n",
    "\n",
    "    auth.authenticate_user()\n",
    "    creds, _ = default()\n",
    "    gc = gspread.authorize(creds)\n",
    "\n",
    "    spreadsheet = gc.open(\"model-configs\").sheet1\n",
    "    modelConfig = {\n",
    "            'name': MODEL_DIR,\n",
    "            'tokenizer_max_length': TOKENIZER_MAX_LENGTH,\n",
    "            'num_classes': num_classes,\n",
    "            'dropout_rate': DROPOUT_RATE,\n",
    "            'with_activation': WITH_ACTIVATION,\n",
    "            'with_layer_norm': WITH_LAYER_NORM,\n",
    "            'learning_rate': LEARNING_RATE,\n",
    "            'bimodal_train': BIMODAL_TRAIN\n",
    "    }\n",
    "    spreadsheet.append_row(list(modelConfig.values()))"
   ]
  },
  {
   "cell_type": "markdown",
   "metadata": {},
   "source": [
    "# Testing"
   ]
  },
  {
   "cell_type": "markdown",
   "metadata": {},
   "source": [
    "## Load Test Dataset"
   ]
  },
  {
   "cell_type": "code",
   "execution_count": null,
   "metadata": {},
   "outputs": [],
   "source": [
    "test_df = pd.read_sql_query('select * from commitpackft_classified_test', con)\n",
    "test_df['class_labels'] = test_df['bug_type'].apply(lambda bT: add_labels(bT, classLabels))\n",
    "\n",
    "test_df = test_df[test_df['bug_type'] != 'mobile']\n",
    "test_df['input_seq'] = test_df['message'] + ' ' + model.tokenizer.sep_token + ' ' + test_df['old_contents']\n",
    "test_df['output_seq'] = test_df['message'] + ' ' + model.tokenizer.sep_token + ' ' + test_df['new_contents']\n",
    "\n",
    "if DEBUG:\n",
    "    test_df = test_df.iloc[:10]\n",
    "\n",
    "test_df.head()"
   ]
  },
  {
   "cell_type": "markdown",
   "metadata": {},
   "source": [
    "## Data Preprocessing"
   ]
  },
  {
   "cell_type": "code",
   "execution_count": null,
   "metadata": {},
   "outputs": [],
   "source": [
    "test_df['old_contents_comment_lines_count'] = test_df['old_contents'].apply(lambda sample: count_comment_lines(sample))\n",
    "test_df['new_contents_comment_lines_count'] = test_df['new_contents'].apply(lambda sample: count_comment_lines(sample))\n",
    "\n",
    "# Filter out samples where the sum of comment lines increased more than 3 lines\n",
    "# to prevent excessive masking\n",
    "test_df = test_df[abs(test_df['old_contents_comment_lines_count'] - test_df['new_contents_comment_lines_count']) <= 3]\n",
    "# Filter out samples with more than 10 comment lines\n",
    "test_df = test_df[(test_df['old_contents_comment_lines_count'] < 10) & (test_df['new_contents_comment_lines_count'] < 10)]\n",
    "\n",
    "dmp = diff_match_patch()\n",
    "\n",
    "def compute_diffs(sample: dict):\n",
    "    # Compute the differences\n",
    "    diffs = dmp.diff_main(sample['old_contents'], sample['new_contents'])\n",
    "    dmp.diff_cleanupSemantic(diffs)\n",
    "    # Count the changes\n",
    "    return sum(1 for diff in diffs if diff[0] == 1)  # 0 means no change\n",
    "\n",
    "test_df['num_changes'] = test_df.apply(lambda sample: compute_diffs(sample), axis=1)\n",
    "\n",
    "# Filter out samples with more than 3 changes in the code\n",
    "test_df = test_df[test_df['num_changes'] <= 3]\n",
    "\n",
    "# filter out samples with more than 50 lines of code\n",
    "test_df = test_df[(test_df['old_contents'].str.count('\\n') <= 50) & (test_df['new_contents'].str.count('\\n') <= 50)]\n",
    "\n",
    "# filter out samples with more than 2 bug types\n",
    "test_df = test_df[test_df['bug_type'].str.count(',') < 2]\n",
    "print(f\"Total test samples after filtering: {len(test_df)}\")"
   ]
  },
  {
   "cell_type": "markdown",
   "metadata": {},
   "source": [
    "## Tokenize Data"
   ]
  },
  {
   "cell_type": "code",
   "execution_count": null,
   "metadata": {},
   "outputs": [],
   "source": [
    "encoded_samples = model.tokenizer(\n",
    "    test_df['input_seq'].tolist(),\n",
    "    max_length=TOKENIZER_MAX_LENGTH,\n",
    "    padding='max_length',\n",
    "    truncation=True,\n",
    "    return_tensors='pt',\n",
    ")\n",
    "\n",
    "encoded_labels = model.tokenizer(\n",
    "    test_df['new_contents'].tolist(),\n",
    "    max_length=TOKENIZER_MAX_LENGTH,\n",
    "    padding='max_length',\n",
    "    truncation=True,\n",
    "    return_tensors='pt',\n",
    ")\n",
    "\n",
    "labels = torch.tensor(test_df['class_labels'].tolist())"
   ]
  },
  {
   "cell_type": "markdown",
   "metadata": {},
   "source": [
    "## Testing Script"
   ]
  },
  {
   "cell_type": "code",
   "execution_count": null,
   "metadata": {},
   "outputs": [],
   "source": [
    "METRICS_PATH = 'metrics' if os.path.exists('metrics') else '/content/drive/MyDrive/Thesis/metrics'\n",
    "os.environ['METRICS_PATH'] = METRICS_PATH\n",
    "os.environ['VERSION'] = str(VERSION)\n",
    "MODEL_NAME = 'CodeT5'\n",
    "os.environ['MODEL_NAME'] = MODEL_NAME\n",
    "\n",
    "model.eval()\n",
    "\n",
    "torch_ds = CodeT5Dataset(encodings=encoded_samples, decodings=encoded_labels, class_labels=labels)\n",
    "loader = DataLoader(torch_ds, batch_size=1, num_workers=14)\n",
    "\n",
    "trainer = plTrainer()\n",
    "trainer.test(model=model, dataloaders=loader)"
   ]
  },
  {
   "cell_type": "markdown",
   "metadata": {},
   "source": [
    "## Compute Metrics\n",
    "\n",
    "**ROUGE (Recall-Oriented understudy for Gisting Evaluation**\n",
    "- A metric for evaluation text generation/sumamrization models.\n",
    "- It measures the overlap between machine generated text (prediction) and its human generated corresponding text (reference)\\ \n",
    "- [0,1] { close to 0: poor similarity, close to 1: better similarity}\n",
    "- n-gram: seq of n words\n",
    "\n",
    "Variations\n",
    "- ROUGE-N : μετράει το σύνολο της επικάλυψης *[πόσες φορές εμφανίζετε στο παραγώμενο κείμενο]* το n-gram μεταξύ των προβλέψεων και του πραγματικού κειμένου\n",
    "\n",
    "- ROUGE-N_recall : num n gram matches / num of n-gram in reference\n",
    "- ROUGE-N-precision : nummber of n-gram matches / number of n gram in prediction\n",
    "- ROUGE-L : Βασίζεται στο μάκρος του μεγαλύτερης κοινής υπό-ακολουθίας (Longest Common Sequence -LCS) . Υπολογίζει το μέτρο f-measure\n",
    "    - ROUGE-L_recall : LCS / num words in reference\n",
    "    - ROUGE-L_precision : LCS / num words in prediction"
   ]
  },
  {
   "cell_type": "code",
   "execution_count": null,
   "metadata": {},
   "outputs": [],
   "source": [
    "from modules.metrics import CodeRouge\n",
    "import json\n",
    "\n",
    "rouge = CodeRouge(['rouge7','rouge8','rouge9','rougeL','rougeLsum'])\n",
    "\n",
    "rouge.compute(predictions=model.generated_codes, references=test_df['new_contents'].tolist())\n",
    "rouge.calc_averages()\n",
    "\n",
    "avgs_path = f\"{METRICS_PATH}/{MODEL_NAME}_v{VERSION}/rouge.json\"\n",
    "all_path = f\"{METRICS_PATH}/{MODEL_NAME}_v{VERSION}/avg_rouge.csv\"\n",
    "with open(avgs_path, 'a') as f:\n",
    "    json.dump(rouge.avgs, f, indent=4)\n",
    "\n",
    "all_scores = []\n",
    "for r in rouge.rouge_types:\n",
    "    all_scores += rouge.rouge_type_to_list(r)\n",
    "\n",
    "metrics_df = pd.DataFrame(all_scores)\n",
    "\n",
    "for m in ['precision','recall','fmeasure']:\n",
    "    metrics_df[m] = round(metrics_df[m], 3)\n",
    "metrics_df.to_csv(all_path, index=False)"
   ]
  },
  {
   "cell_type": "markdown",
   "metadata": {},
   "source": [
    "### Bar Plots"
   ]
  },
  {
   "cell_type": "code",
   "execution_count": null,
   "metadata": {},
   "outputs": [],
   "source": [
    "codebert_avgs = rouge.avgs\n",
    "\n",
    "comparison_model_path = input('Comparison model avg ROUGE-N metrics path: ')\n",
    "comparison_model = comparison_model_path.split('/')[-2]\n",
    "if not os.path.exists(comparison_model_path):\n",
    "    raise RuntimeError('Metrics path does not exist.')\n",
    "\n",
    "with open(comparison_model_path, 'r') as f:\n",
    "    codet5_avgs = json.load(f)\n",
    "\n",
    "\n",
    "plot_data = {\n",
    "    f\"{MODEL_NAME}_{VERSION}\": (round(codebert_avgs['avg_rouge7'].fmeasure, 5), round(codebert_avgs['avg_rouge8'].fmeasure, 5), round(codebert_avgs['avg_rouge9'].fmeasure, 5), round(codebert_avgs['avg_rougeL'].fmeasure, 5), round(codebert_avgs['avg_rougeLsum'].fmeasure, 5)),\n",
    "    comparison_model: (round(codet5_avgs['avg_rouge7'][2], 5), round(codet5_avgs['avg_rouge8'][2], 5), round(codet5_avgs['avg_rouge9'][2], 5), round(codet5_avgs['avg_rougeL'][2], 5), round(codet5_avgs['avg_rougeLsum'][2], 5)),\n",
    "}\n",
    "\n",
    "metric_types = ('Rouge-7', 'Rouge-8','Rouge-9', 'Rouge-L', 'Rouge-Lsum')\n",
    "x = np.arange(len(metric_types))\n",
    "width = 0.15\n",
    "multiplier = 0\n",
    "\n",
    "fix, ax = plt.subplots(layout='constrained')\n",
    "\n",
    "\n",
    "for model, values in plot_data.items():\n",
    "    offset = width * multiplier\n",
    "    rects = ax.bar(x + offset, values, width, label=model)\n",
    "    ax.bar_label(rects, padding=3)\n",
    "    multiplier += 1\n",
    "\n",
    "ax.set_ylabel('Score')\n",
    "ax.set_title('F-Measure Model Comparison')\n",
    "ax.set_xticks(x + width, metric_types)\n",
    "ax.legend(loc='upper left', ncols=4)\n",
    "ax.set_ylim(0, 1.2)\n",
    "\n",
    "plt.savefig(f\"{METRICS_PATH}/{MODEL_NAME}_{VERSION}_vs_{comparison_model}.png\", dpi=300, bbox_inches='tight')\n",
    "plt.show()"
   ]
  },
  {
   "cell_type": "markdown",
   "metadata": {},
   "source": [
    "### Chart"
   ]
  },
  {
   "cell_type": "code",
   "execution_count": null,
   "metadata": {},
   "outputs": [],
   "source": [
    "import json\n",
    "import matplotlib.pyplot as plt\n",
    "import numpy as np\n",
    "\n",
    "codebert_avgs = rouge.avgs  # Assuming rouge is a library/function that provides average scores\n",
    "\n",
    "comparison_model_path = input('Comparison model avg ROUGE-N metrics path: ')\n",
    "comparison_model = comparison_model = comparison_model_path.split('/')[-2]\n",
    "if not os.path.exists(comparison_model_path):\n",
    "    raise RuntimeError('Metrics path does not exist.')\n",
    "\n",
    "with open(comparison_model_path, 'r') as f:\n",
    "    codet5_avgs = json.load(f)\n",
    "\n",
    "# Define metric types (assuming same metrics for both models)\n",
    "metric_types = ('Rouge-7', 'Rouge-8', 'Rouge-9', 'Rouge-L', 'Rouge-Lsum')\n",
    "\n",
    "# Create a figure with 3 rows (subplots) and 1 column\n",
    "fig, (ax1, ax2, ax3) = plt.subplots(3, 1, figsize=(20, 16))\n",
    "\n",
    "# Data dictionaries for each metric (assuming data structure from rouge)\n",
    "precision_data = {\n",
    "    f\"{MODEL_NAME}_{VERSION}\": (codebert_avgs['avg_rouge7'].precision, codebert_avgs['avg_rouge8'].precision, codebert_avgs['avg_rouge9'].precision, codebert_avgs['avg_rougeL'].precision, codebert_avgs['avg_rougeLsum'].precision),\n",
    "    comparison_model: (codet5_avgs['avg_rouge7'][0], codet5_avgs['avg_rouge8'][0], codet5_avgs['avg_rouge9'][0], codet5_avgs['avg_rougeL'][0], codet5_avgs['avg_rougeLsum'][0]),\n",
    "}\n",
    "recall_data = {\n",
    "    f\"{MODEL_NAME}_{VERSION}\": (codebert_avgs['avg_rouge7'].recall, codebert_avgs['avg_rouge8'].recall, codebert_avgs['avg_rouge9'].recall, codebert_avgs['avg_rougeL'].recall, codebert_avgs['avg_rougeLsum'].recall),\n",
    "    comparison_model: (codet5_avgs['avg_rouge7'][1], codet5_avgs['avg_rouge8'][1], codet5_avgs['avg_rouge9'][1], codet5_avgs['avg_rougeL'][1], codet5_avgs['avg_rougeLsum'][1]),\n",
    "}\n",
    "f1_data = {\n",
    "    f\"{MODEL_NAME}_{VERSION}\": (codebert_avgs['avg_rouge7'].fmeasure, codebert_avgs['avg_rouge8'].fmeasure, codebert_avgs['avg_rouge9'].fmeasure, codebert_avgs['avg_rougeL'].fmeasure, codebert_avgs['avg_rougeLsum'].fmeasure),\n",
    "    comparison_model: (round(codet5_avgs['avg_rouge7'][2], 5), round(codet5_avgs['avg_rouge8'][2], 5), round(codet5_avgs['avg_rouge9'][2], 5), round(codet5_avgs['avg_rougeL'][2], 5), round(codet5_avgs['avg_rougeLsum'][2], 5)),\n",
    "}\n",
    "\n",
    "\n",
    "# Plot Precision (ax1)\n",
    "for model, precision in precision_data.items():\n",
    "    ax1.plot(metric_types, precision, label=model, marker='s')  # 's' for square marker\n",
    "ax1.set_xlabel('ROUGE-N')\n",
    "ax1.set_ylabel('Precision')\n",
    "ax1.grid(True)\n",
    "\n",
    "# Plot Recall (ax2)\n",
    "for model, recall in recall_data.items():\n",
    "    ax2.plot(metric_types, recall, label=model, marker='s')  # 'o' for circle marker\n",
    "ax2.set_xlabel('ROUGE-N')\n",
    "ax2.set_ylabel('Recall')\n",
    "ax2.grid(True)\n",
    "\n",
    "# Plot F1 Score (ax3)\n",
    "for model, f1 in f1_data.items():\n",
    "    ax3.plot(metric_types, f1, label=model, marker='s')\n",
    "ax3.set_xlabel('ROUGE-N')\n",
    "ax3.set_ylabel('F-measure')\n",
    "ax3.grid(True)\n",
    "\n",
    "plt.legend(loc='upper left')\n",
    "plt.tight_layout()\n",
    "\n",
    "# Save the entire figure as a single PNG\n",
    "plt.savefig(f\"{METRICS_PATH}/{MODEL_NAME}_{VERSION}_vs_{comparison_model}.png\", dpi=300, bbox_inches='tight')\n",
    "ax"
   ]
  }
 ],
 "metadata": {
  "accelerator": "GPU",
  "colab": {
   "gpuType": "A100",
   "machine_shape": "hm",
   "provenance": []
  },
  "kernelspec": {
   "display_name": "thesis",
   "language": "python",
   "name": "python3"
  },
  "language_info": {
   "codemirror_mode": {
    "name": "ipython",
    "version": 3
   },
   "file_extension": ".py",
   "mimetype": "text/x-python",
   "name": "python",
   "nbconvert_exporter": "python",
   "pygments_lexer": "ipython3",
   "version": "3.8.18"
  }
 },
 "nbformat": 4,
 "nbformat_minor": 0
}
