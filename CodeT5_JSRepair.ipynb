{
 "cells": [
  {
   "cell_type": "markdown",
   "metadata": {},
   "source": [
    "# Colab Initialization"
   ]
  },
  {
   "cell_type": "code",
   "execution_count": null,
   "metadata": {
    "colab": {
     "base_uri": "https://localhost:8080/"
    },
    "id": "Pa7PA6UMH2pn",
    "outputId": "cf90110e-36c6-4548-e514-d627463b9aea"
   },
   "outputs": [],
   "source": [
    "from google.colab import drive\n",
    "drive.mount('/content/drive')"
   ]
  },
  {
   "cell_type": "code",
   "execution_count": null,
   "metadata": {
    "colab": {
     "base_uri": "https://localhost:8080/"
    },
    "collapsed": true,
    "id": "eOOMW_SjH4WG",
    "outputId": "93d2e433-369f-4422-924e-d3b70ab27287"
   },
   "outputs": [],
   "source": [
    "!git clone https://github.com/radistoubalidis/JSRepair.git\n",
    "\n",
    "!pip install pytorch_lightning\n",
    "!python -m pip install lightning\n",
    "!pip install datasets\n",
    "!pip install python-dotenv\n",
    "!pip install rouge-score"
   ]
  },
  {
   "cell_type": "code",
   "execution_count": null,
   "metadata": {
    "colab": {
     "base_uri": "https://localhost:8080/"
    },
    "id": "eOMP9ujKQr0H",
    "outputId": "1103161d-11e5-4299-953b-bb803853980b"
   },
   "outputs": [],
   "source": [
    "%cd ./JSRepair"
   ]
  },
  {
   "cell_type": "markdown",
   "metadata": {},
   "source": [
    "# Training"
   ]
  },
  {
   "cell_type": "code",
   "execution_count": 1,
   "metadata": {
    "colab": {
     "base_uri": "https://localhost:8080/"
    },
    "id": "mi-6we72Hti5",
    "outputId": "93acf221-20cf-4126-8a24-4ad691905596"
   },
   "outputs": [],
   "source": [
    "from transformers import (\n",
    "    RobertaTokenizer,\n",
    ")\n",
    "from modules.models import CodeT5\n",
    "from modules.datasets import CodeT5Dataset\n",
    "from modules.TrainConfig import init_logger, init_checkpoint, Trainer\n",
    "from modules.filters import add_labels\n",
    "from torch.utils.data import DataLoader\n",
    "from sklearn.model_selection import train_test_split\n",
    "from pytorch_lightning import Trainer as plTrainer\n",
    "import json\n",
    "import matplotlib.pyplot as plt\n",
    "import os\n",
    "import pandas as pd\n",
    "import sqlite3\n",
    "import torch\n",
    "import numpy as np"
   ]
  },
  {
   "cell_type": "code",
   "execution_count": 2,
   "metadata": {
    "colab": {
     "base_uri": "https://localhost:8080/"
    },
    "id": "I9liNYnTHti6",
    "outputId": "3cc1b8e0-0c42-486c-cecc-33d83605694d"
   },
   "outputs": [],
   "source": [
    "HF_DIR = 'Salesforce/codet5-large'\n",
    "TOKENIZER_MAX_LENGTH = 1024 #int(input('Tokenizer Max length: '))\n",
    "DB_PATH = 'commitpack-datasets.db' if os.path.exists('commitpack-datasets.db') else '/content/drive/MyDrive/Thesis/commitpack-datasets.db'\n",
    "DB_TABLE = 'commitpackft_classified_train'\n",
    "if not os.path.exists(DB_PATH):\n",
    "    raise RuntimeError('sqlite3 path doesnt exist.')\n",
    "VAL_SIZE = 0.3\n",
    "LOG_PATH = 'logs' if os.path.exists('logs') else '/content/drive/MyDrive/Thesis/logs'\n",
    "VERSION = int(input('Training version: '))\n",
    "LOAD_FROM_CPKT = input(\"Load from existing model (type cpkt path if true): \")\n",
    "DEBUG = True if int(input('Debug Run (1,0): ')) == 1 else False\n",
    "BATCH_SIZE = 2 if DEBUG is True else 32\n",
    "CPKT_PATH = 'checkpoints' if os.path.exists('checkpoints') else '/content/drive/MyDrive/Thesis/checkpoints'\n",
    "DROPOUT_RATE = float(input('Type dropout rate for classifier: '))\n",
    "WITH_MOBILE = True if int(input('Consider mobile class (1,0): ')) == 1 else False\n",
    "WITH_LAYER_NORM = True\n",
    "WITH_ACTIVATION = True\n",
    "\n",
    "if WITH_MOBILE:\n",
    "    classLabels = {\n",
    "        \"mobile\" : 0.,\n",
    "        \"functionality\" : 0.,\n",
    "        \"ui-ux\" : 0.,\n",
    "        \"compatibility-performance\" : 0.,\n",
    "        \"network-security\" : 0.,\n",
    "        \"general\": 0.\n",
    "    }\n",
    "else:\n",
    "    classLabels = {\n",
    "        \"functionality\" : 0.,\n",
    "        \"ui-ux\" : 0.,\n",
    "        \"compatibility-performance\" : 0.,\n",
    "        \"network-security\" : 0.,\n",
    "        \"general\": 0.\n",
    "    }\n",
    "\n",
    "num_classes = len(classLabels.keys())\n",
    "modelSize = HF_DIR.split('-')[-1]\n",
    "MODEL_DIR = f\"CodeT5_{modelSize}_JS_{num_classes}classes_{TOKENIZER_MAX_LENGTH}MaxL\"\n",
    "con = sqlite3.connect(DB_PATH)"
   ]
  },
  {
   "cell_type": "markdown",
   "metadata": {
    "id": "bY7b8IO-JG2A"
   },
   "source": [
    "## Types of Bugs distribution in samples"
   ]
  },
  {
   "cell_type": "code",
   "execution_count": 3,
   "metadata": {
    "colab": {
     "base_uri": "https://localhost:8080/",
     "height": 238
    },
    "id": "urdA7KyTHti7",
    "outputId": "3648d104-7a17-40e7-dc43-fe89765df04e"
   },
   "outputs": [
    {
     "data": {
      "text/html": [
       "<div>\n",
       "<style scoped>\n",
       "    .dataframe tbody tr th:only-of-type {\n",
       "        vertical-align: middle;\n",
       "    }\n",
       "\n",
       "    .dataframe tbody tr th {\n",
       "        vertical-align: top;\n",
       "    }\n",
       "\n",
       "    .dataframe thead th {\n",
       "        text-align: right;\n",
       "    }\n",
       "</style>\n",
       "<table border=\"1\" class=\"dataframe\">\n",
       "  <thead>\n",
       "    <tr style=\"text-align: right;\">\n",
       "      <th></th>\n",
       "      <th>count(*)</th>\n",
       "      <th>bug_type</th>\n",
       "    </tr>\n",
       "  </thead>\n",
       "  <tbody>\n",
       "    <tr>\n",
       "      <th>0</th>\n",
       "      <td>90</td>\n",
       "      <td>mobile</td>\n",
       "    </tr>\n",
       "    <tr>\n",
       "      <th>1</th>\n",
       "      <td>2862</td>\n",
       "      <td>general</td>\n",
       "    </tr>\n",
       "    <tr>\n",
       "      <th>2</th>\n",
       "      <td>3147</td>\n",
       "      <td>ui-ux</td>\n",
       "    </tr>\n",
       "    <tr>\n",
       "      <th>3</th>\n",
       "      <td>3159</td>\n",
       "      <td>network-security</td>\n",
       "    </tr>\n",
       "    <tr>\n",
       "      <th>4</th>\n",
       "      <td>4396</td>\n",
       "      <td>compatibility-performance</td>\n",
       "    </tr>\n",
       "    <tr>\n",
       "      <th>5</th>\n",
       "      <td>4532</td>\n",
       "      <td>functionality</td>\n",
       "    </tr>\n",
       "  </tbody>\n",
       "</table>\n",
       "</div>"
      ],
      "text/plain": [
       "   count(*)                   bug_type\n",
       "0        90                     mobile\n",
       "1      2862                    general\n",
       "2      3147                      ui-ux\n",
       "3      3159           network-security\n",
       "4      4396  compatibility-performance\n",
       "5      4532              functionality"
      ]
     },
     "execution_count": 3,
     "metadata": {},
     "output_type": "execute_result"
    }
   ],
   "source": [
    "with open('bug-type-dist-query_train.sql', 'r') as f:\n",
    "    query = f.read()\n",
    "\n",
    "info_df = pd.read_sql_query(query, con)\n",
    "info_df"
   ]
  },
  {
   "cell_type": "markdown",
   "metadata": {
    "id": "87tUL_bQHti7"
   },
   "source": [
    "## Create Classification Labels\n",
    "\n",
    "```json\n",
    "{\n",
    "    \"mobile\" : 0,\n",
    "    \"functionality\" : 0,\n",
    "    \"ui-ux\" : 0,\n",
    "    \"compatibility-performance\" : 0,\n",
    "    \"network-security\" : 0,\n",
    "    \"general\": 0\n",
    "}\n",
    "\n",
    "Ένα δείγμα που κατηγοριοποιήθηκε ως σφάλμα λειτουργικότητας(functionality) και ui-ux θα έχει διάνυσμα ταξινόμησης ->\n",
    "[0,1,1,0,0,0]\n",
    "```\n"
   ]
  },
  {
   "cell_type": "code",
   "execution_count": 4,
   "metadata": {
    "colab": {
     "base_uri": "https://localhost:8080/"
    },
    "id": "6mRHGm6JHti8",
    "outputId": "8104dc01-adc2-488a-87fe-5b5bb84e751f"
   },
   "outputs": [
    {
     "data": {
      "text/html": [
       "<div>\n",
       "<style scoped>\n",
       "    .dataframe tbody tr th:only-of-type {\n",
       "        vertical-align: middle;\n",
       "    }\n",
       "\n",
       "    .dataframe tbody tr th {\n",
       "        vertical-align: top;\n",
       "    }\n",
       "\n",
       "    .dataframe thead th {\n",
       "        text-align: right;\n",
       "    }\n",
       "</style>\n",
       "<table border=\"1\" class=\"dataframe\">\n",
       "  <thead>\n",
       "    <tr style=\"text-align: right;\">\n",
       "      <th></th>\n",
       "      <th>index</th>\n",
       "      <th>commit</th>\n",
       "      <th>old_file</th>\n",
       "      <th>new_file</th>\n",
       "      <th>old_contents</th>\n",
       "      <th>new_contents</th>\n",
       "      <th>subject</th>\n",
       "      <th>message</th>\n",
       "      <th>lang</th>\n",
       "      <th>license</th>\n",
       "      <th>repos</th>\n",
       "      <th>processed_message</th>\n",
       "      <th>is_bug</th>\n",
       "      <th>bug_type</th>\n",
       "      <th>class_labels</th>\n",
       "    </tr>\n",
       "  </thead>\n",
       "  <tbody>\n",
       "    <tr>\n",
       "      <th>0</th>\n",
       "      <td>14193</td>\n",
       "      <td>225ae89c984227f9c2cfbe0278618758256e577f</td>\n",
       "      <td>server.js</td>\n",
       "      <td>server.js</td>\n",
       "      <td>\\n/**\\n * @description  a string as a paramete...</td>\n",
       "      <td>var express = require('express')\\nvar strftime...</td>\n",
       "      <td>Add example code to test Heroku error app not ...</td>\n",
       "      <td>Add example code to test Heroku error app not ...</td>\n",
       "      <td>JavaScript</td>\n",
       "      <td>mit</td>\n",
       "      <td>kiwi-lifter/timestamp-api,kiwi-lifter/timestam...</td>\n",
       "      <td>add exampl code test heroku error app load</td>\n",
       "      <td>1</td>\n",
       "      <td>functionality,compatibility-performance</td>\n",
       "      <td>[1.0, 0.0, 1.0, 0.0, 0.0]</td>\n",
       "    </tr>\n",
       "    <tr>\n",
       "      <th>1</th>\n",
       "      <td>17090</td>\n",
       "      <td>e9286911fcaa253b094eea4b532f07c31e9f3ee5</td>\n",
       "      <td>packages/plugins/sentry/server/middlewares/sen...</td>\n",
       "      <td>packages/plugins/sentry/server/middlewares/sen...</td>\n",
       "      <td>'use strict';\\n\\n/**\\n * Programmatic sentry m...</td>\n",
       "      <td>'use strict';\\n\\n/**\\n * Programmatic sentry m...</td>\n",
       "      <td>Fix calling sendError on wrong object</td>\n",
       "      <td>Fix calling sendError on wrong object\\n\\nFixes...</td>\n",
       "      <td>JavaScript</td>\n",
       "      <td>mit</td>\n",
       "      <td>wistityhq/strapi,wistityhq/strapi</td>\n",
       "      <td>fix call senderror wrong object fix sentri plu...</td>\n",
       "      <td>1</td>\n",
       "      <td>mobile,functionality,compatibility-performance</td>\n",
       "      <td>[1.0, 0.0, 1.0, 0.0, 0.0]</td>\n",
       "    </tr>\n",
       "    <tr>\n",
       "      <th>2</th>\n",
       "      <td>3401</td>\n",
       "      <td>8b512427144c1a8ff55c149267708fd783754405</td>\n",
       "      <td>app/components/wallet/backup-recovery/WalletRe...</td>\n",
       "      <td>app/components/wallet/backup-recovery/WalletRe...</td>\n",
       "      <td>// @flow\\nimport React, { Component, PropTypes...</td>\n",
       "      <td>// @flow\\nimport React, { Component, PropTypes...</td>\n",
       "      <td>Fix proptype checking in wallet recovery instr...</td>\n",
       "      <td>Fix proptype checking in wallet recovery instr...</td>\n",
       "      <td>JavaScript</td>\n",
       "      <td>apache-2.0</td>\n",
       "      <td>input-output-hk/daedalus,input-output-hk/daeda...</td>\n",
       "      <td>fix proptyp check wallet recoveri instruct compon</td>\n",
       "      <td>1</td>\n",
       "      <td>functionality</td>\n",
       "      <td>[1.0, 0.0, 0.0, 0.0, 0.0]</td>\n",
       "    </tr>\n",
       "    <tr>\n",
       "      <th>3</th>\n",
       "      <td>33381</td>\n",
       "      <td>1ea806751405a7bfd7bf388eeabce2de0ad5c50f</td>\n",
       "      <td>templates:array.js</td>\n",
       "      <td>templates:array.js</td>\n",
       "      <td>ReactiveArray;\\n\\nthis.ReactiveArray = Reactiv...</td>\n",
       "      <td>ReactiveArray;\\n\\nthis.ReactiveArray = Reactiv...</td>\n",
       "      <td>Fix set function with underscore isEqual</td>\n",
       "      <td>Fix set function with underscore isEqual</td>\n",
       "      <td>JavaScript</td>\n",
       "      <td>mit</td>\n",
       "      <td>meteortemplates/array</td>\n",
       "      <td>fix set function underscor isequ</td>\n",
       "      <td>1</td>\n",
       "      <td>functionality</td>\n",
       "      <td>[1.0, 0.0, 0.0, 0.0, 0.0]</td>\n",
       "    </tr>\n",
       "    <tr>\n",
       "      <th>4</th>\n",
       "      <td>33412</td>\n",
       "      <td>5551c176fc2c5fa59de1fbd29f36a4b2538ae85e</td>\n",
       "      <td>bin/mai-chai-init.js</td>\n",
       "      <td>bin/mai-chai-init.js</td>\n",
       "      <td>'use strict';\\n/* global require */\\n/* global...</td>\n",
       "      <td>'use strict';\\n/* global require */\\n/* global...</td>\n",
       "      <td>Fix regex for win32 platform</td>\n",
       "      <td>Fix regex for win32 platform\\n</td>\n",
       "      <td>JavaScript</td>\n",
       "      <td>mit</td>\n",
       "      <td>epsitec-sa/mai-chai</td>\n",
       "      <td>fix regex win32 platform</td>\n",
       "      <td>1</td>\n",
       "      <td>ui-ux,compatibility-performance</td>\n",
       "      <td>[0.0, 1.0, 1.0, 0.0, 0.0]</td>\n",
       "    </tr>\n",
       "  </tbody>\n",
       "</table>\n",
       "</div>"
      ],
      "text/plain": [
       "   index                                    commit  \\\n",
       "0  14193  225ae89c984227f9c2cfbe0278618758256e577f   \n",
       "1  17090  e9286911fcaa253b094eea4b532f07c31e9f3ee5   \n",
       "2   3401  8b512427144c1a8ff55c149267708fd783754405   \n",
       "3  33381  1ea806751405a7bfd7bf388eeabce2de0ad5c50f   \n",
       "4  33412  5551c176fc2c5fa59de1fbd29f36a4b2538ae85e   \n",
       "\n",
       "                                            old_file  \\\n",
       "0                                          server.js   \n",
       "1  packages/plugins/sentry/server/middlewares/sen...   \n",
       "2  app/components/wallet/backup-recovery/WalletRe...   \n",
       "3                                 templates:array.js   \n",
       "4                               bin/mai-chai-init.js   \n",
       "\n",
       "                                            new_file  \\\n",
       "0                                          server.js   \n",
       "1  packages/plugins/sentry/server/middlewares/sen...   \n",
       "2  app/components/wallet/backup-recovery/WalletRe...   \n",
       "3                                 templates:array.js   \n",
       "4                               bin/mai-chai-init.js   \n",
       "\n",
       "                                        old_contents  \\\n",
       "0  \\n/**\\n * @description  a string as a paramete...   \n",
       "1  'use strict';\\n\\n/**\\n * Programmatic sentry m...   \n",
       "2  // @flow\\nimport React, { Component, PropTypes...   \n",
       "3  ReactiveArray;\\n\\nthis.ReactiveArray = Reactiv...   \n",
       "4  'use strict';\\n/* global require */\\n/* global...   \n",
       "\n",
       "                                        new_contents  \\\n",
       "0  var express = require('express')\\nvar strftime...   \n",
       "1  'use strict';\\n\\n/**\\n * Programmatic sentry m...   \n",
       "2  // @flow\\nimport React, { Component, PropTypes...   \n",
       "3  ReactiveArray;\\n\\nthis.ReactiveArray = Reactiv...   \n",
       "4  'use strict';\\n/* global require */\\n/* global...   \n",
       "\n",
       "                                             subject  \\\n",
       "0  Add example code to test Heroku error app not ...   \n",
       "1              Fix calling sendError on wrong object   \n",
       "2  Fix proptype checking in wallet recovery instr...   \n",
       "3           Fix set function with underscore isEqual   \n",
       "4                       Fix regex for win32 platform   \n",
       "\n",
       "                                             message        lang     license  \\\n",
       "0  Add example code to test Heroku error app not ...  JavaScript         mit   \n",
       "1  Fix calling sendError on wrong object\\n\\nFixes...  JavaScript         mit   \n",
       "2  Fix proptype checking in wallet recovery instr...  JavaScript  apache-2.0   \n",
       "3           Fix set function with underscore isEqual  JavaScript         mit   \n",
       "4                     Fix regex for win32 platform\\n  JavaScript         mit   \n",
       "\n",
       "                                               repos  \\\n",
       "0  kiwi-lifter/timestamp-api,kiwi-lifter/timestam...   \n",
       "1                  wistityhq/strapi,wistityhq/strapi   \n",
       "2  input-output-hk/daedalus,input-output-hk/daeda...   \n",
       "3                              meteortemplates/array   \n",
       "4                                epsitec-sa/mai-chai   \n",
       "\n",
       "                                   processed_message  is_bug  \\\n",
       "0         add exampl code test heroku error app load       1   \n",
       "1  fix call senderror wrong object fix sentri plu...       1   \n",
       "2  fix proptyp check wallet recoveri instruct compon       1   \n",
       "3                   fix set function underscor isequ       1   \n",
       "4                           fix regex win32 platform       1   \n",
       "\n",
       "                                         bug_type               class_labels  \n",
       "0         functionality,compatibility-performance  [1.0, 0.0, 1.0, 0.0, 0.0]  \n",
       "1  mobile,functionality,compatibility-performance  [1.0, 0.0, 1.0, 0.0, 0.0]  \n",
       "2                                   functionality  [1.0, 0.0, 0.0, 0.0, 0.0]  \n",
       "3                                   functionality  [1.0, 0.0, 0.0, 0.0, 0.0]  \n",
       "4                 ui-ux,compatibility-performance  [0.0, 1.0, 1.0, 0.0, 0.0]  "
      ]
     },
     "execution_count": 4,
     "metadata": {},
     "output_type": "execute_result"
    }
   ],
   "source": [
    "tokenizer = RobertaTokenizer.from_pretrained(HF_DIR)\n",
    "\n",
    "\n",
    "def load_ds() -> pd.DataFrame:\n",
    "    query = f\"select * from {DB_TABLE}\"\n",
    "    ds_df = pd.read_sql_query(query, con)\n",
    "    return ds_df\n",
    "\n",
    "ds_df = load_ds()\n",
    "\n",
    "ds_df['class_labels'] = ds_df['bug_type'].apply(lambda bT: add_labels(bT.split(','), classLabels))\n",
    "if DEBUG:\n",
    "    ds_df = ds_df.iloc[:10]\n",
    "\n",
    "if not WITH_MOBILE:\n",
    "    ds_df = ds_df[ds_df['bug_type'] != 'mobile']\n",
    "\n",
    "ds_df.head()"
   ]
  },
  {
   "cell_type": "code",
   "execution_count": 5,
   "metadata": {},
   "outputs": [
    {
     "name": "stdout",
     "output_type": "stream",
     "text": [
      "Total training samples: 10\n"
     ]
    },
    {
     "name": "stderr",
     "output_type": "stream",
     "text": [
      "/tmp/ipykernel_11908/355405387.py:2: SettingWithCopyWarning: \n",
      "A value is trying to be set on a copy of a slice from a DataFrame.\n",
      "Try using .loc[row_indexer,col_indexer] = value instead\n",
      "\n",
      "See the caveats in the documentation: https://pandas.pydata.org/pandas-docs/stable/user_guide/indexing.html#returning-a-view-versus-a-copy\n",
      "  old_codes['input_seq'] = old_codes['message'] + ' ' + tokenizer.sep_token + ' ' + old_codes['old_contents']\n"
     ]
    }
   ],
   "source": [
    "old_codes = ds_df[['message', 'old_contents', 'class_labels']]\n",
    "old_codes['input_seq'] = old_codes['message'] + ' ' + tokenizer.sep_token + ' ' + old_codes['old_contents']\n",
    "new_codes = ds_df[['message', 'new_contents', 'class_labels']]\n",
    "\n",
    "TRAIN_old, VAL_old, TRAIN_new, VAL_new = train_test_split(old_codes, new_codes, test_size=VAL_SIZE, random_state=42)\n",
    "\n",
    "print(f\"Total training samples: {len(ds_df)}\")"
   ]
  },
  {
   "cell_type": "markdown",
   "metadata": {
    "id": "Qzy9IQ79Hti8"
   },
   "source": [
    "### Dataset"
   ]
  },
  {
   "cell_type": "code",
   "execution_count": 6,
   "metadata": {
    "colab": {
     "base_uri": "https://localhost:8080/"
    },
    "id": "9Wwhjv1FHti8",
    "outputId": "a759e85a-8dd1-4294-cead-a3d1d6687b6b"
   },
   "outputs": [],
   "source": [
    "TRAIN_encodings = tokenizer(\n",
    "    TRAIN_old['input_seq'].tolist(),\n",
    "    max_length=TOKENIZER_MAX_LENGTH,\n",
    "    pad_to_max_length=True,\n",
    "    return_tensors='pt',\n",
    "    padding='max_length',\n",
    "    truncation=True\n",
    ")\n",
    "\n",
    "VAL_encodings = tokenizer(\n",
    "    VAL_old['input_seq'].tolist(),\n",
    "    max_length=TOKENIZER_MAX_LENGTH,\n",
    "    pad_to_max_length=True,\n",
    "    return_tensors='pt',\n",
    "    padding='max_length',\n",
    "    truncation=True\n",
    ")\n",
    "\n",
    "TRAIN_decodings = tokenizer(\n",
    "    TRAIN_new['new_contents'].tolist(),\n",
    "    max_length=TOKENIZER_MAX_LENGTH,\n",
    "    pad_to_max_length=True,\n",
    "    return_tensors='pt',\n",
    "    padding='max_length',\n",
    "    truncation=True\n",
    ")\n",
    "\n",
    "VAL_decodings = tokenizer(\n",
    "    VAL_new['new_contents'].tolist(),\n",
    "    max_length=TOKENIZER_MAX_LENGTH,\n",
    "    pad_to_max_length=True,\n",
    "    return_tensors='pt',\n",
    "    padding='max_length',\n",
    "    truncation=True\n",
    ")"
   ]
  },
  {
   "cell_type": "markdown",
   "metadata": {
    "id": "jnVOxTTIHti9"
   },
   "source": [
    "### Convert Class Labels into tensors"
   ]
  },
  {
   "cell_type": "code",
   "execution_count": 7,
   "metadata": {
    "id": "hRoNjm0bHti9"
   },
   "outputs": [
    {
     "data": {
      "text/plain": [
       "tensor([[1., 0., 1., 0., 0.],\n",
       "        [0., 0., 0., 0., 1.],\n",
       "        [1., 0., 0., 0., 0.],\n",
       "        [0., 0., 0., 0., 1.],\n",
       "        [0., 1., 1., 0., 0.],\n",
       "        [1., 0., 0., 0., 0.],\n",
       "        [0., 0., 0., 0., 1.]])"
      ]
     },
     "execution_count": 7,
     "metadata": {},
     "output_type": "execute_result"
    }
   ],
   "source": [
    "TRAIN_classes = torch.tensor(TRAIN_old['class_labels'].tolist())\n",
    "VAL_classes = torch.tensor(VAL_old['class_labels'].tolist())\n",
    "TRAIN_classes"
   ]
  },
  {
   "cell_type": "markdown",
   "metadata": {},
   "source": [
    "#### Compute class weights\n",
    "$pos\\ weight[i] = (Number\\ of\\ negative\\ samples\\ for\\ class\\ i) / (Number\\ of\\ positive\\ samples\\ for\\ class\\ i)$"
   ]
  },
  {
   "cell_type": "code",
   "execution_count": 8,
   "metadata": {},
   "outputs": [],
   "source": [
    "num_samples = TRAIN_classes.size(0)\n",
    "num_classes = TRAIN_classes.size(1)\n",
    "\n",
    "pos_counts = torch.sum(TRAIN_classes, dim=0)\n",
    "neg_counts = num_samples - pos_counts\n",
    "class_weights = neg_counts / (pos_counts + 1e-6)\n",
    "class_weights = class_weights.numpy()"
   ]
  },
  {
   "cell_type": "markdown",
   "metadata": {
    "id": "-sIbpTJjJ3rB"
   },
   "source": [
    "## Initialize Training Settings"
   ]
  },
  {
   "cell_type": "code",
   "execution_count": 9,
   "metadata": {
    "colab": {
     "base_uri": "https://localhost:8080/"
    },
    "id": "7a7NjypmHti9",
    "outputId": "b0d23edf-a2db-40f0-c296-0a5bda5ec59d"
   },
   "outputs": [
    {
     "name": "stderr",
     "output_type": "stream",
     "text": [
      "Using 16bit Automatic Mixed Precision (AMP)\n",
      "GPU available: True (cuda), used: True\n",
      "TPU available: False, using: 0 TPU cores\n",
      "HPU available: False, using: 0 HPUs\n",
      "Running in `fast_dev_run` mode: will run the requested loop using 1 batch(es). Logging and checkpointing is suppressed.\n"
     ]
    }
   ],
   "source": [
    "logger = init_logger(log_path=LOG_PATH, model_dir=MODEL_DIR, version=VERSION)\n",
    "checkpoint = init_checkpoint(cpkt_path=CPKT_PATH, model_dir=MODEL_DIR, version=VERSION)\n",
    "trainer = Trainer(checkpoint,logger,debug=DEBUG, num_epochs=5)\n",
    "\n",
    "if len(LOAD_FROM_CPKT) > 0 and  os.path.exists(LOAD_FROM_CPKT):\n",
    "    model = CodeT5.load_from_checkpoint(\n",
    "        LOAD_FROM_CPKT, \n",
    "        class_weights=class_weights, \n",
    "        num_classes=num_classes,\n",
    "        dropout_rate=DROPOUT_RATE,\n",
    "        with_layer_norm=WITH_LAYER_NORM,\n",
    "        with_activation=WITH_ACTIVATION\n",
    "    )\n",
    "else:\n",
    "    model = CodeT5(\n",
    "        class_weights=class_weights, \n",
    "        num_classes=num_classes, \n",
    "        dropout_rate=DROPOUT_RATE,\n",
    "        with_layer_norm=WITH_LAYER_NORM,\n",
    "        with_activation=WITH_ACTIVATION\n",
    "    )\n",
    "model.model.train()\n",
    "\n",
    "TRAIN_dataset = CodeT5Dataset(TRAIN_encodings, TRAIN_decodings, TRAIN_classes)\n",
    "VAL_dataset = CodeT5Dataset(VAL_encodings, VAL_decodings, VAL_classes)\n",
    "dataloader = DataLoader(TRAIN_dataset, batch_size=BATCH_SIZE,num_workers=14, shuffle=True)\n",
    "val_dataloader = DataLoader(VAL_dataset, batch_size=1, num_workers=14)"
   ]
  },
  {
   "cell_type": "markdown",
   "metadata": {},
   "source": [
    "#### Save Model Config to CSV "
   ]
  },
  {
   "cell_type": "code",
   "execution_count": 10,
   "metadata": {},
   "outputs": [],
   "source": [
    "modelConfigsCSV = f\"/content/drive/MyDrive/Thesis/model-configs.csv\"\n",
    "if os.path.exists(modelConfigsCSV):\n",
    "    modelConfig = {\n",
    "        'name': MODEL_DIR,\n",
    "        'tokenizer_max_length': TOKENIZER_MAX_LENGTH,\n",
    "        'num_classes': num_classes,\n",
    "        'dropout_rate': DROPOUT_RATE,\n",
    "        'with_activation': WITH_ACTIVATION,\n",
    "        'with_layer_norm': WITH_LAYER_NORM\n",
    "    }\n",
    "    modelConfig_df = pd.DataFrame([modelConfig])\n",
    "    modelConfig_df.to_csv(modelConfigsCSV, mode='a', index=False, header=False)"
   ]
  },
  {
   "cell_type": "markdown",
   "metadata": {},
   "source": [
    "#### Run Training"
   ]
  },
  {
   "cell_type": "code",
   "execution_count": 11,
   "metadata": {
    "id": "mhQtadvkHti9"
   },
   "outputs": [
    {
     "name": "stderr",
     "output_type": "stream",
     "text": [
      "/home/disras/miniconda3/envs/thesis/lib/python3.8/site-packages/pytorch_lightning/callbacks/model_checkpoint.py:654: Checkpoint directory /home/disras/projects/JSRepair/checkpoints exists and is not empty.\n",
      "LOCAL_RANK: 0 - CUDA_VISIBLE_DEVICES: [0]\n",
      "\n",
      "  | Name         | Type                       | Params | Mode \n",
      "--------------------------------------------------------------------\n",
      "0 | model        | T5ForConditionalGeneration | 222 M  | train\n",
      "1 | layer_norm   | LayerNorm                  | 1.5 K  | train\n",
      "2 | hidden_layer | Linear                     | 295 K  | train\n",
      "3 | activation   | ReLU                       | 0      | train\n",
      "4 | dropout      | Dropout                    | 0      | train\n",
      "5 | classifier   | Linear                     | 3.8 K  | train\n",
      "--------------------------------------------------------------------\n",
      "223 M     Trainable params\n",
      "0         Non-trainable params\n",
      "223 M     Total params\n",
      "892.731   Total estimated model params size (MB)\n",
      "546       Modules in train mode\n",
      "0         Modules in eval mode\n"
     ]
    },
    {
     "data": {
      "application/vnd.jupyter.widget-view+json": {
       "model_id": "35d43b08691b4f3cba142982ad9b5c8a",
       "version_major": 2,
       "version_minor": 0
      },
      "text/plain": [
       "Training: |          | 0/? [00:00<?, ?it/s]"
      ]
     },
     "metadata": {},
     "output_type": "display_data"
    },
    {
     "name": "stderr",
     "output_type": "stream",
     "text": [
      "/home/disras/miniconda3/envs/thesis/lib/python3.8/site-packages/torch/utils/checkpoint.py:429: UserWarning: torch.utils.checkpoint: please pass in use_reentrant=True or use_reentrant=False explicitly. The default value of use_reentrant will be updated to be False in the future. To maintain current behavior, pass use_reentrant=True. It is recommended that you use use_reentrant=False. Refer to docs for more details on the differences between the two variants.\n",
      "  warnings.warn(\n",
      "`use_cache=True` is incompatible with gradient checkpointing. Setting `use_cache=False`...\n"
     ]
    },
    {
     "data": {
      "application/vnd.jupyter.widget-view+json": {
       "model_id": "d29a30d4cc45485a975fd4eb79598f45",
       "version_major": 2,
       "version_minor": 0
      },
      "text/plain": [
       "Validation: |          | 0/? [00:00<?, ?it/s]"
      ]
     },
     "metadata": {},
     "output_type": "display_data"
    },
    {
     "name": "stderr",
     "output_type": "stream",
     "text": [
      "`Trainer.fit` stopped: `max_steps=1` reached.\n"
     ]
    }
   ],
   "source": [
    "trainer.fit(\n",
    "    model,\n",
    "    train_dataloaders=dataloader,\n",
    "    val_dataloaders=val_dataloader\n",
    ")"
   ]
  },
  {
   "cell_type": "markdown",
   "metadata": {},
   "source": [
    "# Testing"
   ]
  },
  {
   "cell_type": "markdown",
   "metadata": {},
   "source": [
    "## Load Test Dataset"
   ]
  },
  {
   "cell_type": "code",
   "execution_count": 12,
   "metadata": {},
   "outputs": [
    {
     "data": {
      "text/html": [
       "<div>\n",
       "<style scoped>\n",
       "    .dataframe tbody tr th:only-of-type {\n",
       "        vertical-align: middle;\n",
       "    }\n",
       "\n",
       "    .dataframe tbody tr th {\n",
       "        vertical-align: top;\n",
       "    }\n",
       "\n",
       "    .dataframe thead th {\n",
       "        text-align: right;\n",
       "    }\n",
       "</style>\n",
       "<table border=\"1\" class=\"dataframe\">\n",
       "  <thead>\n",
       "    <tr style=\"text-align: right;\">\n",
       "      <th></th>\n",
       "      <th>index</th>\n",
       "      <th>commit</th>\n",
       "      <th>old_file</th>\n",
       "      <th>new_file</th>\n",
       "      <th>old_contents</th>\n",
       "      <th>new_contents</th>\n",
       "      <th>subject</th>\n",
       "      <th>message</th>\n",
       "      <th>lang</th>\n",
       "      <th>license</th>\n",
       "      <th>repos</th>\n",
       "      <th>processed_message</th>\n",
       "      <th>is_bug</th>\n",
       "      <th>bug_type</th>\n",
       "      <th>class_labels</th>\n",
       "      <th>input_seq</th>\n",
       "    </tr>\n",
       "  </thead>\n",
       "  <tbody>\n",
       "    <tr>\n",
       "      <th>0</th>\n",
       "      <td>48968</td>\n",
       "      <td>4d949a2bc8f628dcc66ee62161ae3680b21766d0</td>\n",
       "      <td>bin/pep-proxy.js</td>\n",
       "      <td>bin/pep-proxy.js</td>\n",
       "      <td>#!/usr/bin/env node\\n\\nvar proxy = require('.....</td>\n",
       "      <td>#!/usr/bin/env node\\n\\nvar proxy = require('.....</td>\n",
       "      <td>FIX Move the module definition to the top of t...</td>\n",
       "      <td>FIX Move the module definition to the top of t...</td>\n",
       "      <td>JavaScript</td>\n",
       "      <td>agpl-3.0</td>\n",
       "      <td>telefonicaid/fiware-pep-steelskin,telefonicaid...</td>\n",
       "      <td>fix move modul definit top function</td>\n",
       "      <td>1</td>\n",
       "      <td>functionality</td>\n",
       "      <td>[1.0, 0.0, 1.0, 0.0, 0.0]</td>\n",
       "      <td>FIX Move the module definition to the top of t...</td>\n",
       "    </tr>\n",
       "    <tr>\n",
       "      <th>1</th>\n",
       "      <td>21631</td>\n",
       "      <td>58c6907562ca3d4e943dfed56e795ae0a9cde762</td>\n",
       "      <td>lib/cache/lib/processUndefined.js</td>\n",
       "      <td>lib/cache/lib/processUndefined.js</td>\n",
       "      <td>export default (doc, fields) =&gt; {\\n    fields....</td>\n",
       "      <td>export default (doc, fields) =&gt; {\\n    fields....</td>\n",
       "      <td>Fix for undefined on nested fields</td>\n",
       "      <td>Fix for undefined on nested fields\\n</td>\n",
       "      <td>JavaScript</td>\n",
       "      <td>mit</td>\n",
       "      <td>cult-of-coders/redis-oplog</td>\n",
       "      <td>fix undefin nest field</td>\n",
       "      <td>1</td>\n",
       "      <td>ui-ux</td>\n",
       "      <td>[1.0, 0.0, 1.0, 0.0, 0.0]</td>\n",
       "      <td>Fix for undefined on nested fields\\n &lt;/s&gt; expo...</td>\n",
       "    </tr>\n",
       "    <tr>\n",
       "      <th>2</th>\n",
       "      <td>38478</td>\n",
       "      <td>54bc7736bc5d3381a48eebba476f0933884899c6</td>\n",
       "      <td>lib/errorMessages.js</td>\n",
       "      <td>lib/errorMessages.js</td>\n",
       "      <td>\"use strict\";\\n\\nmodule.exports = {\\n    loadU...</td>\n",
       "      <td>\"use strict\";\\n\\nmodule.exports = {\\n    loadU...</td>\n",
       "      <td>Clean up some error message.</td>\n",
       "      <td>Clean up some error message.\\n</td>\n",
       "      <td>JavaScript</td>\n",
       "      <td>mit</td>\n",
       "      <td>YuzuJS/storeit</td>\n",
       "      <td>clean error messag</td>\n",
       "      <td>1</td>\n",
       "      <td>general</td>\n",
       "      <td>[1.0, 0.0, 0.0, 0.0, 0.0]</td>\n",
       "      <td>Clean up some error message.\\n &lt;/s&gt; \"use stric...</td>\n",
       "    </tr>\n",
       "    <tr>\n",
       "      <th>3</th>\n",
       "      <td>45690</td>\n",
       "      <td>2f3f141e1196eaa39ade102d3795cd189f57828f</td>\n",
       "      <td>src/IconMenu/IconMenu.js</td>\n",
       "      <td>src/IconMenu/IconMenu.js</td>\n",
       "      <td>import React from 'react'\\nimport PropTypes fr...</td>\n",
       "      <td>import React from 'react'\\nimport PropTypes fr...</td>\n",
       "      <td>Rename prop name =&gt; iconName</td>\n",
       "      <td>refactor(components): Rename prop name =&gt; icon...</td>\n",
       "      <td>JavaScript</td>\n",
       "      <td>mit</td>\n",
       "      <td>dimik/react-material-web-components,dimik/reac...</td>\n",
       "      <td>refactorcompon renam prop name = iconnam</td>\n",
       "      <td>1</td>\n",
       "      <td>general</td>\n",
       "      <td>[1.0, 0.0, 0.0, 0.0, 0.0]</td>\n",
       "      <td>refactor(components): Rename prop name =&gt; icon...</td>\n",
       "    </tr>\n",
       "    <tr>\n",
       "      <th>4</th>\n",
       "      <td>38421</td>\n",
       "      <td>bc2e4d8ebd609461c4abc63db480ae1aa5558ff7</td>\n",
       "      <td>ghost/admin/controllers/editor/new.js</td>\n",
       "      <td>ghost/admin/controllers/editor/new.js</td>\n",
       "      <td>import EditorControllerMixin from 'ghost/mixin...</td>\n",
       "      <td>import EditorControllerMixin from 'ghost/mixin...</td>\n",
       "      <td>Fix warning about transitionTo being deprecated</td>\n",
       "      <td>Fix warning about transitionTo being deprecated\\n</td>\n",
       "      <td>JavaScript</td>\n",
       "      <td>mit</td>\n",
       "      <td>TryGhost/Ghost,TryGhost/Ghost,TryGhost/Ghost</td>\n",
       "      <td>fix warn transitionto deprec</td>\n",
       "      <td>1</td>\n",
       "      <td>general</td>\n",
       "      <td>[0.0, 1.0, 1.0, 0.0, 0.0]</td>\n",
       "      <td>Fix warning about transitionTo being deprecate...</td>\n",
       "    </tr>\n",
       "  </tbody>\n",
       "</table>\n",
       "</div>"
      ],
      "text/plain": [
       "   index                                    commit  \\\n",
       "0  48968  4d949a2bc8f628dcc66ee62161ae3680b21766d0   \n",
       "1  21631  58c6907562ca3d4e943dfed56e795ae0a9cde762   \n",
       "2  38478  54bc7736bc5d3381a48eebba476f0933884899c6   \n",
       "3  45690  2f3f141e1196eaa39ade102d3795cd189f57828f   \n",
       "4  38421  bc2e4d8ebd609461c4abc63db480ae1aa5558ff7   \n",
       "\n",
       "                                old_file  \\\n",
       "0                       bin/pep-proxy.js   \n",
       "1      lib/cache/lib/processUndefined.js   \n",
       "2                   lib/errorMessages.js   \n",
       "3               src/IconMenu/IconMenu.js   \n",
       "4  ghost/admin/controllers/editor/new.js   \n",
       "\n",
       "                                new_file  \\\n",
       "0                       bin/pep-proxy.js   \n",
       "1      lib/cache/lib/processUndefined.js   \n",
       "2                   lib/errorMessages.js   \n",
       "3               src/IconMenu/IconMenu.js   \n",
       "4  ghost/admin/controllers/editor/new.js   \n",
       "\n",
       "                                        old_contents  \\\n",
       "0  #!/usr/bin/env node\\n\\nvar proxy = require('.....   \n",
       "1  export default (doc, fields) => {\\n    fields....   \n",
       "2  \"use strict\";\\n\\nmodule.exports = {\\n    loadU...   \n",
       "3  import React from 'react'\\nimport PropTypes fr...   \n",
       "4  import EditorControllerMixin from 'ghost/mixin...   \n",
       "\n",
       "                                        new_contents  \\\n",
       "0  #!/usr/bin/env node\\n\\nvar proxy = require('.....   \n",
       "1  export default (doc, fields) => {\\n    fields....   \n",
       "2  \"use strict\";\\n\\nmodule.exports = {\\n    loadU...   \n",
       "3  import React from 'react'\\nimport PropTypes fr...   \n",
       "4  import EditorControllerMixin from 'ghost/mixin...   \n",
       "\n",
       "                                             subject  \\\n",
       "0  FIX Move the module definition to the top of t...   \n",
       "1                 Fix for undefined on nested fields   \n",
       "2                       Clean up some error message.   \n",
       "3                       Rename prop name => iconName   \n",
       "4    Fix warning about transitionTo being deprecated   \n",
       "\n",
       "                                             message        lang   license  \\\n",
       "0  FIX Move the module definition to the top of t...  JavaScript  agpl-3.0   \n",
       "1               Fix for undefined on nested fields\\n  JavaScript       mit   \n",
       "2                     Clean up some error message.\\n  JavaScript       mit   \n",
       "3  refactor(components): Rename prop name => icon...  JavaScript       mit   \n",
       "4  Fix warning about transitionTo being deprecated\\n  JavaScript       mit   \n",
       "\n",
       "                                               repos  \\\n",
       "0  telefonicaid/fiware-pep-steelskin,telefonicaid...   \n",
       "1                         cult-of-coders/redis-oplog   \n",
       "2                                     YuzuJS/storeit   \n",
       "3  dimik/react-material-web-components,dimik/reac...   \n",
       "4       TryGhost/Ghost,TryGhost/Ghost,TryGhost/Ghost   \n",
       "\n",
       "                          processed_message  is_bug       bug_type  \\\n",
       "0       fix move modul definit top function       1  functionality   \n",
       "1                    fix undefin nest field       1          ui-ux   \n",
       "2                        clean error messag       1        general   \n",
       "3  refactorcompon renam prop name = iconnam       1        general   \n",
       "4              fix warn transitionto deprec       1        general   \n",
       "\n",
       "                class_labels  \\\n",
       "0  [1.0, 0.0, 1.0, 0.0, 0.0]   \n",
       "1  [1.0, 0.0, 1.0, 0.0, 0.0]   \n",
       "2  [1.0, 0.0, 0.0, 0.0, 0.0]   \n",
       "3  [1.0, 0.0, 0.0, 0.0, 0.0]   \n",
       "4  [0.0, 1.0, 1.0, 0.0, 0.0]   \n",
       "\n",
       "                                           input_seq  \n",
       "0  FIX Move the module definition to the top of t...  \n",
       "1  Fix for undefined on nested fields\\n </s> expo...  \n",
       "2  Clean up some error message.\\n </s> \"use stric...  \n",
       "3  refactor(components): Rename prop name => icon...  \n",
       "4  Fix warning about transitionTo being deprecate...  "
      ]
     },
     "execution_count": 12,
     "metadata": {},
     "output_type": "execute_result"
    }
   ],
   "source": [
    "test_df = pd.read_sql_query('select * from commitpackft_classified_test', con)\n",
    "test_df['class_labels'] = ds_df['bug_type'].apply(lambda bT: add_labels(bT, classLabels))\n",
    "if WITH_MOBILE:\n",
    "    test_df = test_df[test_df['bug_type'] != 'mobile']\n",
    "\n",
    "test_df['input_seq'] = test_df['message'] + ' ' + tokenizer.sep_token + ' ' + test_df['old_contents']\n",
    "\n",
    "if DEBUG:\n",
    "    test_df = test_df.iloc[:10]\n",
    "\n",
    "test_df.head()"
   ]
  },
  {
   "cell_type": "markdown",
   "metadata": {},
   "source": [
    "## Bug Type Distribution in Test Dataset"
   ]
  },
  {
   "cell_type": "code",
   "execution_count": 13,
   "metadata": {},
   "outputs": [
    {
     "data": {
      "text/html": [
       "<div>\n",
       "<style scoped>\n",
       "    .dataframe tbody tr th:only-of-type {\n",
       "        vertical-align: middle;\n",
       "    }\n",
       "\n",
       "    .dataframe tbody tr th {\n",
       "        vertical-align: top;\n",
       "    }\n",
       "\n",
       "    .dataframe thead th {\n",
       "        text-align: right;\n",
       "    }\n",
       "</style>\n",
       "<table border=\"1\" class=\"dataframe\">\n",
       "  <thead>\n",
       "    <tr style=\"text-align: right;\">\n",
       "      <th></th>\n",
       "      <th>count(*)</th>\n",
       "      <th>bug_type</th>\n",
       "    </tr>\n",
       "  </thead>\n",
       "  <tbody>\n",
       "    <tr>\n",
       "      <th>0</th>\n",
       "      <td>25</td>\n",
       "      <td>mobile</td>\n",
       "    </tr>\n",
       "    <tr>\n",
       "      <th>1</th>\n",
       "      <td>723</td>\n",
       "      <td>general</td>\n",
       "    </tr>\n",
       "    <tr>\n",
       "      <th>2</th>\n",
       "      <td>761</td>\n",
       "      <td>network-security</td>\n",
       "    </tr>\n",
       "    <tr>\n",
       "      <th>3</th>\n",
       "      <td>772</td>\n",
       "      <td>ui-ux</td>\n",
       "    </tr>\n",
       "    <tr>\n",
       "      <th>4</th>\n",
       "      <td>1063</td>\n",
       "      <td>compatibility-performance</td>\n",
       "    </tr>\n",
       "    <tr>\n",
       "      <th>5</th>\n",
       "      <td>1118</td>\n",
       "      <td>functionality</td>\n",
       "    </tr>\n",
       "  </tbody>\n",
       "</table>\n",
       "</div>"
      ],
      "text/plain": [
       "   count(*)                   bug_type\n",
       "0        25                     mobile\n",
       "1       723                    general\n",
       "2       761           network-security\n",
       "3       772                      ui-ux\n",
       "4      1063  compatibility-performance\n",
       "5      1118              functionality"
      ]
     },
     "execution_count": 13,
     "metadata": {},
     "output_type": "execute_result"
    }
   ],
   "source": [
    "with open('bug-type-dist-query_test.sql', 'r')as f:\n",
    "    distQuery = f.read()\n",
    "f.close()\n",
    "info_df = pd.read_sql_query(distQuery, con)\n",
    "info_df"
   ]
  },
  {
   "cell_type": "code",
   "execution_count": 14,
   "metadata": {},
   "outputs": [
    {
     "data": {
      "text/plain": [
       "array([1.4999996, 8.999991 , 1.4999996, 8.999991 , 2.3333325],\n",
       "      dtype=float32)"
      ]
     },
     "execution_count": 14,
     "metadata": {},
     "output_type": "execute_result"
    }
   ],
   "source": [
    "TEST_classes = torch.tensor(ds_df['class_labels'].tolist())\n",
    "num_samples = TEST_classes.size(0)\n",
    "num_classes = TEST_classes.size(1)\n",
    "\n",
    "pos_counts = torch.sum(TEST_classes, dim=0)\n",
    "neg_counts = num_samples - pos_counts\n",
    "class_weights = neg_counts / (pos_counts + 1e-6)\n",
    "class_weights = class_weights.numpy()\n",
    "class_weights"
   ]
  },
  {
   "cell_type": "markdown",
   "metadata": {},
   "source": [
    "## Tokenize Data"
   ]
  },
  {
   "cell_type": "code",
   "execution_count": 15,
   "metadata": {},
   "outputs": [],
   "source": [
    "encoded_samples = model.tokenizer(\n",
    "    test_df['input_seq'].tolist(),\n",
    "    max_length=TOKENIZER_MAX_LENGTH,\n",
    "    padding='max_length',\n",
    "    truncation=True,\n",
    "    return_tensors='pt',\n",
    ")\n",
    "\n",
    "encoded_labels = model.tokenizer(\n",
    "    test_df['new_contents'].tolist(),\n",
    "    max_length=TOKENIZER_MAX_LENGTH,\n",
    "    padding='max_length',\n",
    "    truncation=True,\n",
    "    return_tensors='pt',\n",
    ")\n",
    "\n",
    "labels = torch.tensor(ds_df['class_labels'].tolist())"
   ]
  },
  {
   "cell_type": "markdown",
   "metadata": {},
   "source": [
    "## Testing Script"
   ]
  },
  {
   "cell_type": "code",
   "execution_count": 16,
   "metadata": {},
   "outputs": [
    {
     "name": "stderr",
     "output_type": "stream",
     "text": [
      "GPU available: True (cuda), used: True\n",
      "TPU available: False, using: 0 TPU cores\n",
      "HPU available: False, using: 0 HPUs\n",
      "LOCAL_RANK: 0 - CUDA_VISIBLE_DEVICES: [0]\n"
     ]
    },
    {
     "data": {
      "application/vnd.jupyter.widget-view+json": {
       "model_id": "2e2c37cd43794cb3bc745d2b5dfae959",
       "version_major": 2,
       "version_minor": 0
      },
      "text/plain": [
       "Testing: |          | 0/? [00:00<?, ?it/s]"
      ]
     },
     "metadata": {},
     "output_type": "display_data"
    },
    {
     "data": {
      "image/png": "[encoded data removed]",
      "text/plain": [
       "<Figure size 800x1200 with 5 Axes>"
      ]
     },
     "metadata": {},
     "output_type": "display_data"
    },
    {
     "data": {
      "text/html": [
       "<pre style=\"white-space:pre;overflow-x:auto;line-height:normal;font-family:Menlo,'DejaVu Sans Mono',consolas,'Courier New',monospace\">┏━━━━━━━━━━━━━━━━━━━━━━━━━━━┳━━━━━━━━━━━━━━━━━━━━━━━━━━━┓\n",
       "┃<span style=\"font-weight: bold\">        Test metric        </span>┃<span style=\"font-weight: bold\">       DataLoader 0        </span>┃\n",
       "┡━━━━━━━━━━━━━━━━━━━━━━━━━━━╇━━━━━━━━━━━━━━━━━━━━━━━━━━━┩\n",
       "│<span style=\"color: #008080; text-decoration-color: #008080\">         test_loss         </span>│<span style=\"color: #800080; text-decoration-color: #800080\">     4.663324356079102     </span>│\n",
       "└───────────────────────────┴───────────────────────────┘\n",
       "</pre>\n"
      ],
      "text/plain": [
       "┏━━━━━━━━━━━━━━━━━━━━━━━━━━━┳━━━━━━━━━━━━━━━━━━━━━━━━━━━┓\n",
       "┃\u001b[1m \u001b[0m\u001b[1m       Test metric       \u001b[0m\u001b[1m \u001b[0m┃\u001b[1m \u001b[0m\u001b[1m      DataLoader 0       \u001b[0m\u001b[1m \u001b[0m┃\n",
       "┡━━━━━━━━━━━━━━━━━━━━━━━━━━━╇━━━━━━━━━━━━━━━━━━━━━━━━━━━┩\n",
       "│\u001b[36m \u001b[0m\u001b[36m        test_loss        \u001b[0m\u001b[36m \u001b[0m│\u001b[35m \u001b[0m\u001b[35m    4.663324356079102    \u001b[0m\u001b[35m \u001b[0m│\n",
       "└───────────────────────────┴───────────────────────────┘\n"
      ]
     },
     "metadata": {},
     "output_type": "display_data"
    },
    {
     "data": {
      "text/plain": [
       "[{'test_loss': 4.663324356079102}]"
      ]
     },
     "execution_count": 16,
     "metadata": {},
     "output_type": "execute_result"
    }
   ],
   "source": [
    "METRICS_PATH = 'metrics' if os.path.exists('metrics') else '/content/drive/MyDrive/Thesis/metrics'\n",
    "os.environ['METRICS_PATH'] = METRICS_PATH\n",
    "os.environ['VERSION'] = str(VERSION)\n",
    "MODEL_NAME = 'CodeT5'\n",
    "os.environ['MODEL_NAME'] = MODEL_NAME\n",
    "\n",
    "\n",
    "torch_ds = CodeT5Dataset(encodings=encoded_samples, decodings=encoded_labels, class_labels=labels)\n",
    "loader = DataLoader(torch_ds, batch_size=1, num_workers=14)\n",
    "\n",
    "trainer = plTrainer()\n",
    "trainer.test(model=model, dataloaders=loader)"
   ]
  },
  {
   "cell_type": "markdown",
   "metadata": {},
   "source": [
    "## Compute Metrics\n",
    "\n",
    "**ROUGE (Recall-Oriented understudy for Gisting Evaluation**\n",
    "- A metric for evaluation text generation/sumamrization models.\n",
    "- It measures the overlap between machine generated text (prediction) and its human generated corresponding text (reference)\\ \n",
    "- [0,1] { close to 0: poor similarity, close to 1: better similarity}\n",
    "- n-gram: seq of n words\n",
    "\n",
    "Variations\n",
    "- ROUGE-N : μετράει το σύνολο της επικάλυψης *[πόσες φορές εμφανίζετε στο παραγώμενο κείμενο]* το n-gram μεταξύ των προβλέψεων και του πραγματικού κειμένου\n",
    "\n",
    "- ROUGE-N_recall : num n gram matches / num of n-gram in reference\n",
    "- $ROUGE-N-precision : nummber of n-gram matches / number of n gram in prediction\n",
    "- ROUGE-L : Βασίζεται στο μάκρος του μεγαλύτερης κοινής υπό-ακολουθίας (Longest Common Sequence -LCS) . Υπολογίζει το μέτρο f-measure\n",
    "    - ROUGE-L_recall : LCS / num words in reference\n",
    "    - ROUGE-L_precision : LCS / num words in prediction"
   ]
  },
  {
   "cell_type": "code",
   "execution_count": 17,
   "metadata": {},
   "outputs": [],
   "source": [
    "from modules.metrics import CodeRouge\n",
    "import json\n",
    "\n",
    "rouge = CodeRouge(['rouge7','rouge8','rouge9','rougeL','rougeLsum'])\n",
    "\n",
    "rouge.compute(predictions=model.generated_codes, references=test_df['new_contents'].tolist())\n",
    "rouge.calc_averages()\n",
    "\n",
    "avgs_path = f\"{METRICS_PATH}/{MODEL_NAME}_v{VERSION}/rouge.json\"\n",
    "all_path = f\"{METRICS_PATH}/{MODEL_NAME}_v{VERSION}/avg_rouge.csv\"\n",
    "with open(avgs_path, 'a') as f:\n",
    "    json.dump(rouge.avgs, f, indent=4)\n",
    "\n",
    "all_scores = []\n",
    "for r in rouge.rouge_types:\n",
    "    all_scores += rouge.rouge_type_to_list(r)\n",
    "\n",
    "metrics_df = pd.DataFrame(all_scores)\n",
    "\n",
    "for m in ['precision','recall','fmeasure']:\n",
    "    metrics_df[m] = round(metrics_df[m], 3)\n",
    "metrics_df.to_csv(all_path, index=False)"
   ]
  },
  {
   "cell_type": "markdown",
   "metadata": {},
   "source": [
    "## Model Comparisons"
   ]
  },
  {
   "cell_type": "markdown",
   "metadata": {},
   "source": [
    "### Bar Plots"
   ]
  },
  {
   "cell_type": "code",
   "execution_count": 18,
   "metadata": {},
   "outputs": [
    {
     "data": {
      "image/png": "[encoded data removed]",
      "text/plain": [
       "<Figure size 640x480 with 1 Axes>"
      ]
     },
     "metadata": {},
     "output_type": "display_data"
    }
   ],
   "source": [
    "codebert_avgs = rouge.avgs\n",
    "\n",
    "comparison_model_path = input('Comparison model avg ROUGE-N metrics path: ')\n",
    "comparison_model = comparison_model_path.split('/')[-2]\n",
    "if not os.path.exists(comparison_model_path):\n",
    "    raise RuntimeError('Metrics path does not exist.')\n",
    "\n",
    "with open(comparison_model_path, 'r') as f:\n",
    "    codet5_avgs = json.load(f)\n",
    "\n",
    "\n",
    "plot_data = {\n",
    "    f\"{MODEL_NAME}_{VERSION}\": (round(codebert_avgs['avg_rouge7'].fmeasure, 5), round(codebert_avgs['avg_rouge8'].fmeasure, 5), round(codebert_avgs['avg_rouge9'].fmeasure, 5), round(codebert_avgs['avg_rougeL'].fmeasure, 5), round(codebert_avgs['avg_rougeLsum'].fmeasure, 5)),\n",
    "    comparison_model: (round(codet5_avgs['avg_rouge7'][2], 5), round(codet5_avgs['avg_rouge8'][2], 5), round(codet5_avgs['avg_rouge9'][2], 5), round(codet5_avgs['avg_rougeL'][2], 5), round(codet5_avgs['avg_rougeLsum'][2], 5)),\n",
    "}\n",
    "\n",
    "metric_types = ('Rouge-7', 'Rouge-8','Rouge-9', 'Rouge-L', 'Rouge-Lsum')\n",
    "x = np.arange(len(metric_types))\n",
    "width = 0.15\n",
    "multiplier = 0\n",
    "\n",
    "fix, ax = plt.subplots(layout='constrained')\n",
    "\n",
    "\n",
    "for model, values in plot_data.items():\n",
    "    offset = width * multiplier\n",
    "    rects = ax.bar(x + offset, values, width, label=model)\n",
    "    ax.bar_label(rects, padding=3)\n",
    "    multiplier += 1\n",
    "\n",
    "ax.set_ylabel('Score')\n",
    "ax.set_title('F-Measure Model Comparison')\n",
    "ax.set_xticks(x + width, metric_types)\n",
    "ax.legend(loc='upper left', ncols=4)\n",
    "ax.set_ylim(0, 1.2)\n",
    "\n",
    "plt.savefig(f\"{METRICS_PATH}/{MODEL_NAME}_{VERSION}_vs_{comparison_model}.png\", dpi=300, bbox_inches='tight')\n",
    "plt.show()"
   ]
  },
  {
   "cell_type": "markdown",
   "metadata": {},
   "source": [
    "### Chart"
   ]
  },
  {
   "cell_type": "code",
   "execution_count": 19,
   "metadata": {},
   "outputs": [
    {
     "data": {
      "text/plain": [
       "<Axes: title={'center': 'F-Measure Model Comparison'}, ylabel='Score'>"
      ]
     },
     "execution_count": 19,
     "metadata": {},
     "output_type": "execute_result"
    },
    {
     "data": {
      "image/png": "[encoded data removed]",
      "text/plain": [
       "<Figure size 2000x1600 with 3 Axes>"
      ]
     },
     "metadata": {},
     "output_type": "display_data"
    }
   ],
   "source": [
    "import json\n",
    "import matplotlib.pyplot as plt\n",
    "import numpy as np\n",
    "\n",
    "codebert_avgs = rouge.avgs  # Assuming rouge is a library/function that provides average scores\n",
    "\n",
    "comparison_model_path = input('Comparison model avg ROUGE-N metrics path: ')\n",
    "comparison_model = comparison_model = comparison_model_path.split('/')[-2]\n",
    "if not os.path.exists(comparison_model_path):\n",
    "    raise RuntimeError('Metrics path does not exist.')\n",
    "\n",
    "with open(comparison_model_path, 'r') as f:\n",
    "    codet5_avgs = json.load(f)\n",
    "\n",
    "# Define metric types (assuming same metrics for both models)\n",
    "metric_types = ('Rouge-7', 'Rouge-8', 'Rouge-9', 'Rouge-L', 'Rouge-Lsum')\n",
    "\n",
    "# Create a figure with 3 rows (subplots) and 1 column\n",
    "fig, (ax1, ax2, ax3) = plt.subplots(3, 1, figsize=(20, 16))\n",
    "\n",
    "# Data dictionaries for each metric (assuming data structure from rouge)\n",
    "precision_data = {\n",
    "    f\"{MODEL_NAME}_{VERSION}\": (codebert_avgs['avg_rouge7'].precision, codebert_avgs['avg_rouge8'].precision, codebert_avgs['avg_rouge9'].precision, codebert_avgs['avg_rougeL'].precision, codebert_avgs['avg_rougeLsum'].precision),\n",
    "    comparison_model: (codet5_avgs['avg_rouge7'][0], codet5_avgs['avg_rouge8'][0], codet5_avgs['avg_rouge9'][0], codet5_avgs['avg_rougeL'][0], codet5_avgs['avg_rougeLsum'][0]),\n",
    "}\n",
    "recall_data = {\n",
    "    f\"{MODEL_NAME}_{VERSION}\": (codebert_avgs['avg_rouge7'].recall, codebert_avgs['avg_rouge8'].recall, codebert_avgs['avg_rouge9'].recall, codebert_avgs['avg_rougeL'].recall, codebert_avgs['avg_rougeLsum'].recall),\n",
    "    comparison_model: (codet5_avgs['avg_rouge7'][1], codet5_avgs['avg_rouge8'][1], codet5_avgs['avg_rouge9'][1], codet5_avgs['avg_rougeL'][1], codet5_avgs['avg_rougeLsum'][1]),\n",
    "}\n",
    "f1_data = {\n",
    "    f\"{MODEL_NAME}_{VERSION}\": (codebert_avgs['avg_rouge7'].fmeasure, codebert_avgs['avg_rouge8'].fmeasure, codebert_avgs['avg_rouge9'].fmeasure, codebert_avgs['avg_rougeL'].fmeasure, codebert_avgs['avg_rougeLsum'].fmeasure),\n",
    "    comparison_model: (round(codet5_avgs['avg_rouge7'][2], 5), round(codet5_avgs['avg_rouge8'][2], 5), round(codet5_avgs['avg_rouge9'][2], 5), round(codet5_avgs['avg_rougeL'][2], 5), round(codet5_avgs['avg_rougeLsum'][2], 5)),\n",
    "}\n",
    "\n",
    "\n",
    "# Plot Precision (ax1)\n",
    "for model, precision in precision_data.items():\n",
    "    ax1.plot(metric_types, precision, label=model, marker='s')  # 's' for square marker\n",
    "ax1.set_xlabel('ROUGE-N')\n",
    "ax1.set_ylabel('Precision')\n",
    "ax1.grid(True)\n",
    "\n",
    "# Plot Recall (ax2)\n",
    "for model, recall in recall_data.items():\n",
    "    ax2.plot(metric_types, recall, label=model, marker='s')  # 'o' for circle marker\n",
    "ax2.set_xlabel('ROUGE-N')\n",
    "ax2.set_ylabel('Recall')\n",
    "ax2.grid(True)\n",
    "\n",
    "# Plot F1 Score (ax3)\n",
    "for model, f1 in f1_data.items():\n",
    "    ax3.plot(metric_types, f1, label=model, marker='s')\n",
    "ax3.set_xlabel('ROUGE-N')\n",
    "ax3.set_ylabel('F-measure')\n",
    "ax3.grid(True)\n",
    "\n",
    "plt.legend(loc='upper left')\n",
    "plt.tight_layout()\n",
    "\n",
    "# Save the entire figure as a single PNG\n",
    "plt.savefig(f\"{METRICS_PATH}/{MODEL_NAME}_{VERSION}_vs_{comparison_model}.png\", dpi=300, bbox_inches='tight')\n",
    "ax"
   ]
  }
 ],
 "metadata": {
  "accelerator": "GPU",
  "colab": {
   "gpuType": "A100",
   "machine_shape": "hm",
   "provenance": []
  },
  "kernelspec": {
   "display_name": "thesis",
   "language": "python",
   "name": "python3"
  },
  "language_info": {
   "codemirror_mode": {
    "name": "ipython",
    "version": 3
   },
   "file_extension": ".py",
   "mimetype": "text/x-python",
   "name": "python",
   "nbconvert_exporter": "python",
   "pygments_lexer": "ipython3",
   "version": "3.8.18"
  }
 },
 "nbformat": 4,
 "nbformat_minor": 0
}
